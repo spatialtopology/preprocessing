{
  "cells": [
    {
      "cell_type": "markdown",
      "metadata": {
        "id": "view-in-github",
        "colab_type": "text"
      },
      "source": [
        "<a href=\"https://colab.research.google.com/github/spatialtopology/spacetop-prep/blob/master/spacetop_prep/physio/walkthrough_p01_grouplevel.ipynb\" target=\"_parent\"><img src=\"https://colab.research.google.com/assets/colab-badge.svg\" alt=\"Open In Colab\"/></a>"
      ]
    },
    {
      "cell_type": "markdown",
      "metadata": {
        "id": "1J7fk9sBXS6O"
      },
      "source": [
        "<img src=\"https://user-images.githubusercontent.com/18406041/195505977-bfbf8e61-32d2-4ac7-b23d-192abde3dd1f.png\" alt=\"drawing\"  width = \"400\" align=\"right\" hspace=\"0px\" vspace=\"0px\"/>\n",
        "\n",
        "\n",
        "# Physio analysis with Neurokit: p01_grouplevel.py\n",
        "\n",
        "\n",
        "\n",
        "#### To navigate, simply click on a cell and hit Shift + Enter.\n",
        "\n",
        "**The purpose of this notebook is to demonstrate:**\n",
        "1.   Which set of functions to use for preprocessing physio data\n",
        "2.   Which set of functions to use for extracting SCR and SCL responses\n",
        "3.   A demonstration of an analysis (the effect of stimulus intensity on skin conductance response)\n",
        "\n",
        "<!-- \n",
        "\n",
        "<img height=\"60px\" src=\"https://colab.research.google.com/img/colab_favicon.ico\" > -->\n"
      ]
    },
    {
      "cell_type": "code",
      "execution_count": 1,
      "metadata": {
        "id": "rXqu5aFdX_N7"
      },
      "outputs": [],
      "source": [
        "__author__ = \"Heejung Jung, Isabel Neumann, Yaroslav Halchenko\"\n",
        "__copyright__ = \"Spatial Topology Project\"\n",
        "__credits__ = [\"\"] # people who reported bug fixes, made suggestions, etc. but did not actually write the code.\n",
        "__license__ = \"MIT\"\n",
        "__version__ = \"0.0.1\"\n",
        "__maintainer__ = \"Heejung Jung\"\n",
        "__email__ = \"heejung.jung.gr@dartmouth.edu\"\n",
        "__status__ = \"Development\""
      ]
    },
    {
      "cell_type": "markdown",
      "metadata": {
        "id": "EhyoXlg_Zfxw"
      },
      "source": [
        "If you encounter bugs, have any questions, or comments, please raise an issue in our GitHub repository: https://github.com/jungheejung/spacetop_biopac"
      ]
    },
    {
      "cell_type": "markdown",
      "metadata": {
        "id": "0lTzrawyYoHU"
      },
      "source": [
        "### Import packages \n"
      ]
    },
    {
      "cell_type": "code",
      "execution_count": null,
      "metadata": {
        "id": "GENkA1yViqJH"
      },
      "outputs": [],
      "source": [
        "!pip install neurokit2\n",
        "!pip install bioread\n",
        "!pip install matplotlib"
      ]
    },
    {
      "cell_type": "markdown",
      "source": [
        "## 1.Git clone and pip install spacetop_prep\n",
        "\n",
        "> This is a necessary step in order to use the utils functions under the spacetop_prep module. Make sure to run the `python setup` and `pip install` if you've cloned the repository on your local machine 😉"
      ],
      "metadata": {
        "id": "_ps4SEYuLpBZ"
      }
    },
    {
      "cell_type": "code",
      "execution_count": 4,
      "metadata": {
        "colab": {
          "base_uri": "https://localhost:8080/"
        },
        "id": "jAPfJMqa8gT7",
        "outputId": "abc8617f-caa3-4905-f310-2ac12acd422d"
      },
      "outputs": [
        {
          "output_type": "stream",
          "name": "stdout",
          "text": [
            "Cloning into 'spacetop-prep'...\n",
            "remote: Enumerating objects: 1884, done.\u001b[K\n",
            "remote: Counting objects: 100% (414/414), done.\u001b[K\n",
            "remote: Compressing objects: 100% (208/208), done.\u001b[K\n",
            "remote: Total 1884 (delta 306), reused 288 (delta 200), pack-reused 1470\u001b[K\n",
            "Receiving objects: 100% (1884/1884), 6.53 MiB | 7.35 MiB/s, done.\n",
            "Resolving deltas: 100% (1271/1271), done.\n"
          ]
        }
      ],
      "source": [
        "!git clone https://github.com/spatialtopology/spacetop-prep.git"
      ]
    },
    {
      "cell_type": "code",
      "source": [
        "!cd /content/spacetop-prep\n",
        "# setup and pip install spacetop_prep\n",
        "!python setup.py sdist\n",
        "!pip install -e ."
      ],
      "metadata": {
        "id": "Y3IFS_wDJ1Xy"
      },
      "execution_count": null,
      "outputs": []
    },
    {
      "cell_type": "code",
      "execution_count": 82,
      "metadata": {
        "id": "XWDipLakYqyX"
      },
      "outputs": [],
      "source": [
        "import neurokit2 as nk\n",
        "import pandas as pd\n",
        "import numpy as np\n",
        "import matplotlib.pyplot as plt\n",
        "import os, glob, sys\n",
        "from pathlib import Path\n",
        "from os.path import join\n",
        "import itertools\n",
        "from statistics import mean\n",
        "\n",
        "plt.rcParams['figure.figsize'] = [25, 15]  # Bigger images\n",
        "plt.rcParams['font.size']= 14\n",
        "\n",
        "%matplotlib inline"
      ]
    },
    {
      "cell_type": "code",
      "execution_count": 9,
      "metadata": {
        "id": "45k6HqYbDoFu"
      },
      "outputs": [],
      "source": [
        "from spacetop_prep.physio import utils"
      ]
    },
    {
      "cell_type": "markdown",
      "source": [
        "---"
      ],
      "metadata": {
        "id": "YAvGw13RbKrw"
      }
    },
    {
      "cell_type": "markdown",
      "metadata": {
        "id": "c8Nuyy3TYONh"
      },
      "source": [
        "## 2.Load data in demo directory\n",
        "> Two files are saved in the demo folder for this walkthrough\n",
        "* physio.tsv\n",
        "* beh.csv"
      ]
    },
    {
      "cell_type": "code",
      "source": [
        "os.chdir('/content/spacetop-prep/spacetop_prep/physio')\n",
        "pwd = os.getcwd()"
      ],
      "metadata": {
        "id": "oaHWmxfFKsec"
      },
      "execution_count": 23,
      "outputs": []
    },
    {
      "cell_type": "code",
      "execution_count": 24,
      "metadata": {
        "id": "OScUZNW1DoFx",
        "outputId": "8305d83e-a28b-4b5d-cc5f-a9b3d298d865",
        "colab": {
          "base_uri": "https://localhost:8080/"
        }
      },
      "outputs": [
        {
          "output_type": "stream",
          "name": "stdout",
          "text": [
            "['sub-0051']\n",
            "['ses-01']\n",
            "['run-02-pain']\n"
          ]
        }
      ],
      "source": [
        "demo_dir = join(pwd, 'demo', 'data', 'physio03_bids')\n",
        "physio_fname = 'sub-0051_ses-01_task-cue_run-02-pain_recording-ppg-eda-trigger_physio.tsv'\n",
        "sub = utils.initialize.extract_bids(physio_fname, 'sub')\n",
        "ses = utils.initialize.extract_bids(physio_fname, 'ses')\n",
        "run = utils.initialize.extract_bids(physio_fname, 'run')\n",
        "physio_fpath = join(demo_dir, sub, ses, physio_fname)\n",
        "beh_fname = glob.glob(join(demo_dir, sub, ses, f\"{sub}_{ses}_task-social_{run}*_beh.csv\"), recursive = True)[0]"
      ]
    },
    {
      "cell_type": "code",
      "execution_count": 106,
      "metadata": {
        "colab": {
          "base_uri": "https://localhost:8080/"
        },
        "id": "ZdQIijuCmHtq",
        "outputId": "5348776f-bd29-4d3e-9370-fd635e1e16fe"
      },
      "outputs": [
        {
          "output_type": "stream",
          "name": "stdout",
          "text": [
            ">>> load physio data...\n",
            ">>> check physio data columns:  Index(['physio_eda', 'physio_ppg', 'trigger_mri', 'trigger_heat',\n",
            "       'event_experimentduration', 'event_fixation', 'event_cue',\n",
            "       'event_expectrating', 'event_stimuli', 'event_actualrating'],\n",
            "      dtype='object')\n"
          ]
        }
      ],
      "source": [
        "print(\">>> load physio data...\")\n",
        "physio_df = pd.read_csv(physio_fpath, sep='\\t')\n",
        "print(\">>> check physio data columns: \",physio_df.columns)\n",
        "\n",
        "beh_df = pd.read_csv(beh_fname)"
      ]
    },
    {
      "cell_type": "markdown",
      "source": [
        "### set necessary parameters"
      ],
      "metadata": {
        "id": "VNRZB6jbSa9u"
      }
    },
    {
      "cell_type": "code",
      "source": [
        "# do you want the first TTL? (when the stimulus start ramping up) \n",
        "# OR do you want the 2nd TTL? (when the stimulus hits the intended temperature and starts plateau)\n",
        "ttl_index = 2 \n",
        "samplingrate = 2000"
      ],
      "metadata": {
        "id": "e9GC5-mZSYhc"
      },
      "execution_count": 61,
      "outputs": []
    },
    {
      "cell_type": "markdown",
      "metadata": {
        "id": "3wQvgyJ3mmXR"
      },
      "source": [
        "## +Note about data structure\n",
        "\n",
        "\n",
        "\n",
        "\n"
      ]
    },
    {
      "cell_type": "markdown",
      "source": [
        "<img src=\"https://github.com/spatialtopology/spacetop-prep/blob/master/spacetop_prep/physio/.visual/physio_data_example.png?raw=true\" alt=\"drawing\"  width = \"400\" align=\"right\" hspace=\"0px\" vspace=\"0px\"/>\n",
        "\n",
        "\n",
        "> As you can see from the image on the right, we have a number of channels recorded in this physio file.<br><br>\n",
        "> ***Description of the channels***<br><br>\n",
        "**A. Two Physio channels (analog; 1st, 2nd channel)**\n",
        "1.   **`physio_eda`** Skin  Conductance (EDA)\n",
        "2.   **`physio_ppg`** Pulse (PPG)\n",
        "<br>\n",
        "**B. TTL channels (3rd, 4th channel)**\n",
        "1.   **`trigger_mri`**: TTl signals from the radio-frequency (RF) pulses, recorded in columns. In this study, we would have a TTL for every .46 sec.\n",
        "2.   **`trigger_heat`**: Only for pain runs. We recorded the TTL signals for every pain stimulus. 1) initiation of pain stimulus 2) time it reached intended temperature (beginning of plateau), 3) time it terminated intended termperature (end of pleateau), and 4) return to baseline temperatuer of 32 degrees\n",
        "<br>\n",
        "**C. Digital channels (last 6 channels)**<br> \n",
        "* we toggled the channels whenever  MATlab-stim PC transitioned to a new event. In other words, we have boxcar signals for whenever an event was displayed on screen.\n",
        "1.   **`event_experimentduration`**: when the experiment started/finished, i.e. one boxcar for duration of experiment\n",
        "2.   **`event_fixation`**: when the fixation was present on screen\n",
        "3.   **`event_cue`**: when the cue was present on screen (1s per trial, 2 levels of high vs. low)\n",
        "4.   **`event_expectrating`**: when the participant saw the \"expect\" keyword until they rated their expectation ratings for the upcoming stimulus\n",
        "5.   **`event_stimuli`**: when the participant undergoes the stimulus delivery (5s per trial; 9s for pain run, 5s plateau; 3 levels of high vs. med vs. low stimulus intensity)\n",
        "6.   **`event_actualrating`**:  when the participant saw the \"actual\" keyword until they rated their actual ratings for the experienced stimulus\n",
        "\n"
      ],
      "metadata": {
        "id": "e06A9Fo5eI1t"
      }
    },
    {
      "cell_type": "code",
      "execution_count": 27,
      "metadata": {
        "colab": {
          "base_uri": "https://localhost:8080/",
          "height": 282
        },
        "id": "yjTt-ef_e8EA",
        "outputId": "2dc37ad2-b14d-4fd9-80ca-e39e85323828"
      },
      "outputs": [
        {
          "output_type": "execute_result",
          "data": {
            "text/plain": [
              "<matplotlib.axes._subplots.AxesSubplot at 0x7f157d48ac70>"
            ]
          },
          "metadata": {},
          "execution_count": 27
        },
        {
          "output_type": "display_data",
          "data": {
            "text/plain": [
              "<Figure size 432x288 with 1 Axes>"
            ],
            "image/png": "[encoded data removed]"
          },
          "metadata": {
            "needs_background": "light"
          }
        }
      ],
      "source": [
        "physio_df[['trigger_mri', 'physio_eda', 'physio_ppg', 'trigger_heat',\n",
        "           'event_cue', 'event_expectrating', 'event_stimuli', 'event_actualrating']].plot()"
      ]
    },
    {
      "cell_type": "markdown",
      "metadata": {
        "id": "itpzul2yYSP7"
      },
      "source": [
        "## 3.Baseline correction 💻 utils.preprocess.baseline_correct\n",
        "\n",
        "> #### **Significance of baseline correction:**<br>\n",
        "Baseline correction is important when using interval related analyses. For instance, we might want to compare the average signal difference between a pain run vs. a cognitive run. This is when we would use interval-related analayses. The signals extend for a longer time period, which makes baseline correction imperative. Only after correct baseline correction can we check the overall signal difference. <br>\n",
        "> #### **Methods of baseline correction:**\n",
        "1.   **Method 1** subtract mean baseline, using the 6 TRs\n",
        "2.   **Method 2** using the fixation period from the entire run\n",
        "3.   **Method 3** using the fixation period from corresponding trial\n",
        "* Ideally, **Method 3** is the way to go for baseline correction. However, for simplicity, in this notebook, we'll use **Method 2**, which collapses all of the fixation periods into one bin. We average these signals and subtract it from the main EDA signal. \n"
      ]
    },
    {
      "cell_type": "code",
      "source": [
        "physio_df_bl = utils.preprocess.baseline_correct(\n",
        "    df=physio_df, raw_eda_col='physio_eda', baseline_col='event_fixation')"
      ],
      "metadata": {
        "id": "tGDVudXRNARD"
      },
      "execution_count": null,
      "outputs": []
    },
    {
      "cell_type": "markdown",
      "source": [
        "> Now, we have a new dataframe with a baseline corrected column. \n",
        "* Whenever you use the preprocess.baseline_correct function, you will input a `raw_eda_col`. \n",
        "* Then, this function will create a new column by appending `_blcorrect` to the inputted column<br>\n",
        "\n",
        "> 🎨 the plot below demonstrates what a baseline correction does to the signal"
      ],
      "metadata": {
        "id": "9TKXGVrxNg4u"
      }
    },
    {
      "cell_type": "code",
      "source": [
        "physio_df_bl[['physio_eda', 'physio_eda_blcorrect']].plot()"
      ],
      "metadata": {
        "colab": {
          "base_uri": "https://localhost:8080/",
          "height": 282
        },
        "id": "FdvG9vcbNIiA",
        "outputId": "cf8fb8a7-9829-4b19-9ddd-28fb01fa5bc4"
      },
      "execution_count": 32,
      "outputs": [
        {
          "output_type": "execute_result",
          "data": {
            "text/plain": [
              "<matplotlib.axes._subplots.AxesSubplot at 0x7f157ac3ef40>"
            ]
          },
          "metadata": {},
          "execution_count": 32
        },
        {
          "output_type": "display_data",
          "data": {
            "text/plain": [
              "<Figure size 432x288 with 1 Axes>"
            ],
            "image/png": "[encoded data removed]"
          },
          "metadata": {
            "needs_background": "light"
          }
        }
      ]
    },
    {
      "cell_type": "markdown",
      "metadata": {
        "id": "1gOeLc-DYa1E"
      },
      "source": [
        "## 4.Neurokit event extraction 💻 `preprocess._binarize_channel` & `preprocess.identify_boundary`"
      ]
    },
    {
      "cell_type": "markdown",
      "metadata": {
        "id": "4UyefRHR9Gj1"
      },
      "source": [
        "> #### **Here's how we extract events-of-interest onsets & time-locked physiological signals.** \n",
        "* The idea is that we **(1) binarize the signals** and **(2) detect transitions** of these binary values. \n",
        "* We can extract the indices of when the cue event starts and when they stop.\n",
        "\n",
        ">#### **We use two functions:**\n",
        "1.   `binarize_channel`\n",
        "2.   `identify_boundary`\n",
        "* The output is dictionary that houses all of the events. (In this experiment, we have 4 events of interest)\n",
        "* **What a user needs to do**: change the dict_channel. In case you have column names that you want to change, you can feed in a `dict_channel` in the structure of {`old column name`: `new column name`}"
      ]
    },
    {
      "cell_type": "code",
      "source": [
        "print(utils.preprocess.binarize_channel.__doc__)"
      ],
      "metadata": {
        "colab": {
          "base_uri": "https://localhost:8080/"
        },
        "id": "QCKw5EJiQobo",
        "outputId": "2a8ee12a-65fa-41ad-cb5e-2d87df5f1bc2"
      },
      "execution_count": 46,
      "outputs": [
        {
          "output_type": "stream",
          "name": "stdout",
          "text": [
            "\n",
            "    Function binarizes signals from biopac digital channels.\n",
            "    If an explicit threshold value is provided, the signals are binarized based on this input.\n",
            "    If not, the implicit threshold will default to the midpoint of the min/max values of the channel.\n",
            "\n",
            "    Parameters\n",
            "    ----------\n",
            "    df: pandas dataframe\n",
            "        acquisition file loaded into pandas using nk.read_acqknowledge.\n",
            "    source_col: str\n",
            "        column name of df that contains raw signal\n",
            "    new_col: str\n",
            "        new column name for saving binarized source_col values. (prevent from overwritting original data)\n",
            "    threshold: int\n",
            "        threshold for binarizing values within pandas column\n",
            "    binary_high, binary_low: int\n",
            "        minimum and maximum value for binarizing signal\n",
            "        e.g. binary_high = 5, binary_low = 0\n",
            "             or binary_high = 1, binary_low = 0\n",
            "\n",
            "    Returns\n",
            "    -------\n",
            "    dataframe with new_col, which consists of binary values.\n",
            "\n",
            "    For example:\n",
            "        mid_val = (np.max(run_df['expect']) - np.min(run_df['expect']))/2\n",
            "        run_df.loc[run_df['expect'] > mid_val, 'expect_rating'] = 5\n",
            "        run_df.loc[run_df['expect'] <= mid_val, 'expect_rating'] = 0\n",
            "    \n"
          ]
        }
      ]
    },
    {
      "cell_type": "code",
      "execution_count": 39,
      "metadata": {
        "id": "Eh2FPEhz_fZj"
      },
      "outputs": [],
      "source": [
        "dict_channel = {'event_cue': 'event_cue',\n",
        "'event_expectrating': 'event_expectrating',\n",
        "'event_stimuli': 'event_stimuli',\n",
        "'event_actualrating': 'event_actualrating',\n",
        "}\n",
        "dict_onset = {}\n",
        "for i, (key, value) in enumerate(dict_channel.items()):\n",
        "    dict_onset[value] = {}\n",
        "    \n",
        "    utils.preprocess.binarize_channel(physio_df_bl,\n",
        "                                    source_col=key,\n",
        "                                    new_col=value,\n",
        "                                    threshold=None,\n",
        "                                    binary_high=5,\n",
        "                                    binary_low=0)\n",
        "    dict_onset[value] = utils.preprocess.identify_boundary(physio_df_bl, value)\n",
        "\n"
      ]
    },
    {
      "cell_type": "code",
      "execution_count": 40,
      "metadata": {
        "colab": {
          "base_uri": "https://localhost:8080/"
        },
        "id": "n6mGSomVH_kS",
        "outputId": "b11f5c56-0daf-4f00-9e8e-0a56a38e5343"
      },
      "outputs": [
        {
          "output_type": "stream",
          "name": "stdout",
          "text": [
            "cue event: {'start': [11400, 66800, 142200, 201399, 271608, 341200, 393799, 474000, 536600, 603800, 667801, 745000], 'stop': [13356, 68756, 144156, 203356, 273557, 343156, 395756, 475956, 538556, 605756, 669756, 746956]}\n",
            "expect rating event: {'start': [15409, 71398, 146798, 206998, 275005, 344798, 399799, 479398, 542605, 608398, 673799, 750998], 'stop': [21045, 78899, 150465, 210882, 277740, 349500, 402467, 482199, 545340, 611099, 678799, 756366]}\n",
            "stimuli event: {'start': [27570, 89089, 164448, 225651, 295628, 358056, 420425, 498664, 554427, 629024, 694480, 762861], 'stop': [45356, 106956, 182356, 243556, 313557, 375956, 438356, 516556, 572356, 646956, 712356, 780756]}\n",
            "actual rating event: {'start': [55798, 110797, 186605, 249398, 319398, 381799, 461998, 518598, 591399, 655399, 723206, 789399], 'stop': [59932, 115765, 192308, 253665, 324598, 384780, 466210, 523499, 596932, 660316, 726874, 794766]}\n"
          ]
        }
      ],
      "source": [
        "print(f\"cue event: {dict_onset['event_cue']}\")\n",
        "print(f\"expect rating event: {dict_onset['event_expectrating']}\")\n",
        "print(f\"stimuli event: {dict_onset['event_stimuli']}\")\n",
        "print(f\"actual rating event: {dict_onset['event_actualrating']}\")"
      ]
    },
    {
      "cell_type": "markdown",
      "metadata": {
        "id": "MzIlw4jhwLa3"
      },
      "source": [
        "> If you're curious: 👀 Here's some example code on how we extract events from the physiological signals. \n",
        "* The idea is that we (1) binarize the signals and (2) detect transitions of these binary values. \n",
        "* We can extract the indices of when the cue event starts and when they stop.\n",
        "* We'll use the **cue** channel as an example. \n",
        "\n",
        "> You can totally SKIP this cell 😉"
      ]
    },
    {
      "cell_type": "code",
      "execution_count": 36,
      "metadata": {
        "colab": {
          "base_uri": "https://localhost:8080/"
        },
        "id": "AWrIC-1ewU1F",
        "outputId": "8b755571-9d90-425d-b3cf-3cca1d1a8ba9"
      },
      "outputs": [
        {
          "output_type": "stream",
          "name": "stdout",
          "text": [
            "* indices of cue events' start point 'start_cue': \n",
            "\tInt64Index([ 11400,  66800, 142200, 201399, 271608, 341200, 393799, 474000,\n",
            "            536600, 603800, 667801, 745000],\n",
            "           dtype='int64')\n",
            "* indices of cue events' end point: 'stop_cue': \n",
            "\tInt64Index([ 13356,  68756, 144156, 203356, 273557, 343156, 395756, 475956,\n",
            "            538556, 605756, 669756, 746956],\n",
            "           dtype='int64')\n",
            "* total number of trials: 12\n"
          ]
        }
      ],
      "source": [
        "mid_val = (np.max(physio_df_bl['event_cue']) - np.min(physio_df_bl['event_cue']))/2\n",
        "physio_df_bl.loc[physio_df_bl['event_cue'] > mid_val, 'event_cue'] = 5\n",
        "physio_df_bl.loc[physio_df_bl['event_cue'] <= mid_val, 'event_cue'] = 0\n",
        "\n",
        "start_cue = physio_df_bl[physio_df_bl['event_cue'] > physio_df_bl[ 'event_cue'].shift(1)]\n",
        "stop_cue = physio_df_bl[physio_df_bl['event_cue'] < physio_df_bl[ 'event_cue'].shift(1)]\n",
        "print(f\"* indices of cue events' start point 'start_cue': \\n\\t{start_cue.index}\")\n",
        "print(f\"* indices of cue events' end point: 'stop_cue': \\n\\t{stop_cue.index}\")\n",
        "\n",
        "cue_freq = len(start_cue)\n",
        "print(f\"* total number of trials: {cue_freq}\")"
      ]
    },
    {
      "cell_type": "markdown",
      "source": [
        "## 5.TTL extraction 💻 `utils.ttl_extraction.ttl_extraction`"
      ],
      "metadata": {
        "id": "RQVUwdvBPdMK"
      }
    },
    {
      "cell_type": "markdown",
      "metadata": {
        "id": "rFS_L3vtw11H"
      },
      "source": [
        "Extract TTLs based on **TTL column** and event boundaries\n",
        "\n",
        "> #### **We need to use a slightly different method. Here's the problem space:**<br>\n",
        "* There are 4 TTLs for each trial. \n",
        "* The problem is, sometimes, TSA2 fails. There could be 3, there could be 1 TTL per trial in the case of this failure. Therefore... extracting TTLs becomes difficult, because we need to identify which TTL belongs to which trial. \n",
        "\n",
        "> #### **Solution:**<br>\n",
        "One way to deal with this problem is to set event boundaries. \n",
        "* We know that the stimulus delivery period is sandwiched in between an expectation rating and an actual rating. \n",
        "* We'll use these time periods to figure out whether a TTL belongs to this trial vs. not. \n",
        "* We'll be using variables such as 'expect_start' and 'actual_end' as our event boundaries."
      ]
    },
    {
      "cell_type": "markdown",
      "metadata": {
        "id": "s0pE5OjJw8uC"
      },
      "source": [
        "##### 5.1 first build a dataframe to store the extracted TTLs"
      ]
    },
    {
      "cell_type": "code",
      "source": [
        "import logging\n",
        "logger = logging.getLogger()"
      ],
      "metadata": {
        "id": "5atlqI_jRNJX"
      },
      "execution_count": 47,
      "outputs": []
    },
    {
      "cell_type": "markdown",
      "metadata": {
        "id": "sV_e7txo-Hn_"
      },
      "source": [
        "# TODO: heejung, insert a diagram that describes before ttl and after ttl"
      ]
    },
    {
      "cell_type": "code",
      "execution_count": 48,
      "metadata": {
        "id": "C5ACOUM6_oeP"
      },
      "outputs": [],
      "source": [
        "dict_beforettl = dict_onset['event_expectrating']\n",
        "dict_afterttl = dict_onset['event_actualrating'] \n",
        "dict_stimuli = dict_onset['event_stimuli']"
      ]
    },
    {
      "cell_type": "code",
      "source": [
        "final_df = pd.DataFrame()"
      ],
      "metadata": {
        "id": "qBM-YDMlReRr"
      },
      "execution_count": 49,
      "outputs": []
    },
    {
      "cell_type": "code",
      "source": [
        "#At this point, we need the metadata from the behavioral files:\n",
        "metadata_df = beh_df[[\n",
        "    'src_subject_id', 'session_id', 'param_task_name', 'param_run_num',\n",
        "    'param_cue_type', 'param_stimulus_type', 'param_cond_type', 'event02_expect_RT', 'event02_expect_angle', 'event04_actual_RT', 'event04_actual_angle'\n",
        "]]\n"
      ],
      "metadata": {
        "id": "7cC1uIWvRvic"
      },
      "execution_count": 50,
      "outputs": []
    },
    {
      "cell_type": "code",
      "source": [
        "nan_index, metadf_dropNA, plateau_start = utils.ttl_extraction.ttl_extraction(\n",
        "    physio_df=physio_df_bl,\n",
        "    dict_beforettl=dict_onset['event_expectrating'],\n",
        "    dict_afterttl=dict_onset['event_actualrating'],\n",
        "    dict_stimuli=dict_onset['event_stimuli'],\n",
        "    samplingrate=2000,\n",
        "    metadata_df=metadata_df,\n",
        "    ttl_index=2\n",
        ")\n",
        "event_stimuli = {\n",
        "    'onset': np.array(plateau_start).astype(pd.Int64Dtype),\n",
        "    'duration': np.repeat(samplingrate * 5, len(plateau_start)),\n",
        "    'label': np.array(np.arange(len(plateau_start))),\n",
        "    'condition': metadf_dropNA['param_stimulus_type'].values.tolist()\n",
        "}"
      ],
      "metadata": {
        "id": "O-oIfhKHRgAI"
      },
      "execution_count": 77,
      "outputs": []
    },
    {
      "cell_type": "code",
      "source": [
        "plateau_start"
      ],
      "metadata": {
        "colab": {
          "base_uri": "https://localhost:8080/"
        },
        "id": "44B7GCWfR4Vr",
        "outputId": "58c0c0d4-1a27-43bc-fc86-a0afbccdcfca"
      },
      "execution_count": 74,
      "outputs": [
        {
          "output_type": "execute_result",
          "data": {
            "text/plain": [
              "array([35281.0, 96326.0, 172677.0, 232760.0, 303206.0, 366186.0, 427588.0,\n",
              "       506862.0, 562514.0, 636568.0, 702121.0, 769943.0], dtype=object)"
            ]
          },
          "metadata": {},
          "execution_count": 74
        }
      ]
    },
    {
      "cell_type": "markdown",
      "source": [
        "> 🎨 Let's check alignment with physio data and TTL signal, now housed in `event_stimuli`. The extracted onset from event_stimuli aligns nicely with the 2nd TTLs."
      ],
      "metadata": {
        "id": "QQhSQ-T4XizX"
      }
    },
    {
      "cell_type": "code",
      "source": [
        "plot = nk.events_plot(event_stimuli, \n",
        "                      physio_df_bl[['physio_eda_blcorrect','physio_eda','ttl']])"
      ],
      "metadata": {
        "colab": {
          "base_uri": "https://localhost:8080/",
          "height": 334
        },
        "id": "XRgMs5IiTNgb",
        "outputId": "da45b121-454f-418b-e365-6c9319c22f32"
      },
      "execution_count": 78,
      "outputs": [
        {
          "output_type": "stream",
          "name": "stderr",
          "text": [
            "/usr/local/lib/python3.8/dist-packages/IPython/core/events.py:88: UserWarning: Creating legend with loc=\"best\" can be slow with large amounts of data.\n",
            "  func(*args, **kwargs)\n",
            "/usr/local/lib/python3.8/dist-packages/IPython/core/pylabtools.py:128: UserWarning: Creating legend with loc=\"best\" can be slow with large amounts of data.\n",
            "  fig.canvas.print_figure(bytes_io, **kw)\n"
          ]
        },
        {
          "output_type": "display_data",
          "data": {
            "text/plain": [
              "<Figure size 432x288 with 1 Axes>"
            ],
            "image/png": "[encoded data removed]"
          },
          "metadata": {
            "needs_background": "light"
          }
        }
      ]
    },
    {
      "cell_type": "markdown",
      "metadata": {
        "id": "ahwDgE5l0whB"
      },
      "source": [
        "## 6.Process EDA signal :hand: 🤚💦🥼🚀 @Isabel Neumann\n",
        "\n",
        "note:\n",
        "\n",
        "* all these steps are included in nk.eda_process and also in nk.bio_process\n",
        "* with subdiving into low-level functions, we have more control over parameters like:\n",
        "    * filters\n",
        "    * minimum amplitude for SCRs (related to specific stimulus, not non-specific SCRs which appear in every eda signal but are not particularly related to a stimulus)\n",
        "\n",
        "\n",
        "### processing steps include:\n",
        "\n",
        "1. sanitize signal\n",
        "  * returns a default indexed signal (really necessary?)\n",
        "  \n",
        "2. filter signal (comparable to nk.eda_clean)\n",
        "  * returns array with filtered signal\n",
        "  * smoothing or low-pass filtering (e.g., Butterworth filter) recommended to remove high-frequency noise and small artifacts\n",
        "3. detrend the signals\n",
        "4. decompose signal into phasic & tonic component\n",
        "  * suggested by neurokit documentation -> helps to provide a more accurate estimation of the true SCR amplitude\n",
        "  * signal is furthermore standardized which is also suggested by neurokit documentation -> useful in presence of high inter-individual variations, which usually is the case for pain perception\n",
        "  * EDA_Tonic channel represents the skin conductance level (another measure of tonic skin conductance activity)\n",
        "5. find peaks\n",
        "  * returns dict with amplitude of SCR, samples at which SCR onset and SCR peaks occur (accessible with \"SCR_Amplitude\", \"SCR_Onsets\", \"SCR_Peaks\")\n",
        "5. store signal\n",
        "\n",
        "-- input from Isabel Neumann [isabel.neumann@dartmouth.edu](isabel.neumann@dartmouth.edu)"
      ]
    },
    {
      "cell_type": "code",
      "source": [],
      "metadata": {
        "id": "yh1qGTf5V6LB"
      },
      "execution_count": null,
      "outputs": []
    },
    {
      "cell_type": "markdown",
      "metadata": {
        "id": "shJciP48AxsW"
      },
      "source": [
        "## # Skin Conductance Response (SCR) Phasic 💻 `preprocess.extract_SCR`"
      ]
    },
    {
      "cell_type": "markdown",
      "source": [
        "Here's the function that extracts SCR signals. And below is a step by step of what happens underneath the hood"
      ],
      "metadata": {
        "id": "4FYj2JsNVy0_"
      }
    },
    {
      "cell_type": "code",
      "source": [
        "SCR_epoch_start = 0; SCR_epoch_end = 5"
      ],
      "metadata": {
        "id": "tS9qzLDOVx4C"
      },
      "execution_count": 89,
      "outputs": []
    },
    {
      "cell_type": "code",
      "source": [
        "scr_phasic = utils.preprocess.extract_SCR(df=physio_df,\n",
        "                          eda_col='physio_eda',\n",
        "                          amp_min=0.01,\n",
        "                          event_stimuli=event_stimuli, samplingrate=samplingrate,\n",
        "                          epochs_start=SCR_epoch_start, epochs_end=SCR_epoch_end, baseline_correction=True,\n",
        "                          plt_col=['trigger_mri', 'event_fixation', 'event_cue', 'event_expectrating', 'event_stimuli', 'event_actualrating'],\n",
        "                          plt_savedir='./plt')"
      ],
      "metadata": {
        "id": "NNMLlxL_Vwiz"
      },
      "execution_count": null,
      "outputs": []
    },
    {
      "cell_type": "code",
      "source": [
        "scr_phasic"
      ],
      "metadata": {
        "colab": {
          "base_uri": "https://localhost:8080/",
          "height": 426
        },
        "id": "CUlkitTXV_fW",
        "outputId": "f8f5e153-3429-4bea-92d2-b30524882575"
      },
      "execution_count": 91,
      "outputs": [
        {
          "output_type": "execute_result",
          "data": {
            "text/plain": [
              "    Label  Condition  Event_Onset  EDA_Peak_Amplitude  EDA_SCR  \\\n",
              "0       0   med_stim          0.0            1.645311        0   \n",
              "1       1   low_stim          0.0            0.585128        1   \n",
              "2       2  high_stim          0.0            0.125666        1   \n",
              "3       3   low_stim          0.0            0.414831        1   \n",
              "4       4   med_stim          0.0            1.100837        1   \n",
              "5       5  high_stim          0.0            1.046483        0   \n",
              "6       6   low_stim          0.0            0.480728        1   \n",
              "7       7  high_stim          0.0            0.747126        0   \n",
              "8       8  high_stim          0.0            0.640206        0   \n",
              "9       9   med_stim          0.0            0.270397        0   \n",
              "10     10   med_stim          0.0            0.490650        1   \n",
              "11     11   low_stim          0.0            0.325995        0   \n",
              "\n",
              "    SCR_Peak_Amplitude  SCR_Peak_Amplitude_Time  SCR_RiseTime  \\\n",
              "0                  NaN                      NaN           NaN   \n",
              "1             1.330514                 0.201020        2.7970   \n",
              "2             0.340693                 2.555256        1.6145   \n",
              "3             0.791171                 4.194419        2.4425   \n",
              "4             0.020992                 0.214021        0.6680   \n",
              "5                  NaN                      NaN           NaN   \n",
              "6             0.153858                 0.025503        1.4180   \n",
              "7                  NaN                      NaN           NaN   \n",
              "8                  NaN                      NaN           NaN   \n",
              "9                  NaN                      NaN           NaN   \n",
              "10            0.281993                 2.652265        1.6210   \n",
              "11                 NaN                      NaN           NaN   \n",
              "\n",
              "    SCR_RecoveryTime  \n",
              "0                NaN  \n",
              "1                NaN  \n",
              "2              230.0  \n",
              "3                6.0  \n",
              "4             1027.0  \n",
              "5                NaN  \n",
              "6             1603.0  \n",
              "7                NaN  \n",
              "8                NaN  \n",
              "9                NaN  \n",
              "10               NaN  \n",
              "11               NaN  "
            ],
            "text/html": [
              "\n",
              "  <div id=\"df-69652997-bdcc-4d9e-85dd-adf953ba24fc\">\n",
              "    <div class=\"colab-df-container\">\n",
              "      <div>\n",
              "<style scoped>\n",
              "    .dataframe tbody tr th:only-of-type {\n",
              "        vertical-align: middle;\n",
              "    }\n",
              "\n",
              "    .dataframe tbody tr th {\n",
              "        vertical-align: top;\n",
              "    }\n",
              "\n",
              "    .dataframe thead th {\n",
              "        text-align: right;\n",
              "    }\n",
              "</style>\n",
              "<table border=\"1\" class=\"dataframe\">\n",
              "  <thead>\n",
              "    <tr style=\"text-align: right;\">\n",
              "      <th></th>\n",
              "      <th>Label</th>\n",
              "      <th>Condition</th>\n",
              "      <th>Event_Onset</th>\n",
              "      <th>EDA_Peak_Amplitude</th>\n",
              "      <th>EDA_SCR</th>\n",
              "      <th>SCR_Peak_Amplitude</th>\n",
              "      <th>SCR_Peak_Amplitude_Time</th>\n",
              "      <th>SCR_RiseTime</th>\n",
              "      <th>SCR_RecoveryTime</th>\n",
              "    </tr>\n",
              "  </thead>\n",
              "  <tbody>\n",
              "    <tr>\n",
              "      <th>0</th>\n",
              "      <td>0</td>\n",
              "      <td>med_stim</td>\n",
              "      <td>0.0</td>\n",
              "      <td>1.645311</td>\n",
              "      <td>0</td>\n",
              "      <td>NaN</td>\n",
              "      <td>NaN</td>\n",
              "      <td>NaN</td>\n",
              "      <td>NaN</td>\n",
              "    </tr>\n",
              "    <tr>\n",
              "      <th>1</th>\n",
              "      <td>1</td>\n",
              "      <td>low_stim</td>\n",
              "      <td>0.0</td>\n",
              "      <td>0.585128</td>\n",
              "      <td>1</td>\n",
              "      <td>1.330514</td>\n",
              "      <td>0.201020</td>\n",
              "      <td>2.7970</td>\n",
              "      <td>NaN</td>\n",
              "    </tr>\n",
              "    <tr>\n",
              "      <th>2</th>\n",
              "      <td>2</td>\n",
              "      <td>high_stim</td>\n",
              "      <td>0.0</td>\n",
              "      <td>0.125666</td>\n",
              "      <td>1</td>\n",
              "      <td>0.340693</td>\n",
              "      <td>2.555256</td>\n",
              "      <td>1.6145</td>\n",
              "      <td>230.0</td>\n",
              "    </tr>\n",
              "    <tr>\n",
              "      <th>3</th>\n",
              "      <td>3</td>\n",
              "      <td>low_stim</td>\n",
              "      <td>0.0</td>\n",
              "      <td>0.414831</td>\n",
              "      <td>1</td>\n",
              "      <td>0.791171</td>\n",
              "      <td>4.194419</td>\n",
              "      <td>2.4425</td>\n",
              "      <td>6.0</td>\n",
              "    </tr>\n",
              "    <tr>\n",
              "      <th>4</th>\n",
              "      <td>4</td>\n",
              "      <td>med_stim</td>\n",
              "      <td>0.0</td>\n",
              "      <td>1.100837</td>\n",
              "      <td>1</td>\n",
              "      <td>0.020992</td>\n",
              "      <td>0.214021</td>\n",
              "      <td>0.6680</td>\n",
              "      <td>1027.0</td>\n",
              "    </tr>\n",
              "    <tr>\n",
              "      <th>5</th>\n",
              "      <td>5</td>\n",
              "      <td>high_stim</td>\n",
              "      <td>0.0</td>\n",
              "      <td>1.046483</td>\n",
              "      <td>0</td>\n",
              "      <td>NaN</td>\n",
              "      <td>NaN</td>\n",
              "      <td>NaN</td>\n",
              "      <td>NaN</td>\n",
              "    </tr>\n",
              "    <tr>\n",
              "      <th>6</th>\n",
              "      <td>6</td>\n",
              "      <td>low_stim</td>\n",
              "      <td>0.0</td>\n",
              "      <td>0.480728</td>\n",
              "      <td>1</td>\n",
              "      <td>0.153858</td>\n",
              "      <td>0.025503</td>\n",
              "      <td>1.4180</td>\n",
              "      <td>1603.0</td>\n",
              "    </tr>\n",
              "    <tr>\n",
              "      <th>7</th>\n",
              "      <td>7</td>\n",
              "      <td>high_stim</td>\n",
              "      <td>0.0</td>\n",
              "      <td>0.747126</td>\n",
              "      <td>0</td>\n",
              "      <td>NaN</td>\n",
              "      <td>NaN</td>\n",
              "      <td>NaN</td>\n",
              "      <td>NaN</td>\n",
              "    </tr>\n",
              "    <tr>\n",
              "      <th>8</th>\n",
              "      <td>8</td>\n",
              "      <td>high_stim</td>\n",
              "      <td>0.0</td>\n",
              "      <td>0.640206</td>\n",
              "      <td>0</td>\n",
              "      <td>NaN</td>\n",
              "      <td>NaN</td>\n",
              "      <td>NaN</td>\n",
              "      <td>NaN</td>\n",
              "    </tr>\n",
              "    <tr>\n",
              "      <th>9</th>\n",
              "      <td>9</td>\n",
              "      <td>med_stim</td>\n",
              "      <td>0.0</td>\n",
              "      <td>0.270397</td>\n",
              "      <td>0</td>\n",
              "      <td>NaN</td>\n",
              "      <td>NaN</td>\n",
              "      <td>NaN</td>\n",
              "      <td>NaN</td>\n",
              "    </tr>\n",
              "    <tr>\n",
              "      <th>10</th>\n",
              "      <td>10</td>\n",
              "      <td>med_stim</td>\n",
              "      <td>0.0</td>\n",
              "      <td>0.490650</td>\n",
              "      <td>1</td>\n",
              "      <td>0.281993</td>\n",
              "      <td>2.652265</td>\n",
              "      <td>1.6210</td>\n",
              "      <td>NaN</td>\n",
              "    </tr>\n",
              "    <tr>\n",
              "      <th>11</th>\n",
              "      <td>11</td>\n",
              "      <td>low_stim</td>\n",
              "      <td>0.0</td>\n",
              "      <td>0.325995</td>\n",
              "      <td>0</td>\n",
              "      <td>NaN</td>\n",
              "      <td>NaN</td>\n",
              "      <td>NaN</td>\n",
              "      <td>NaN</td>\n",
              "    </tr>\n",
              "  </tbody>\n",
              "</table>\n",
              "</div>\n",
              "      <button class=\"colab-df-convert\" onclick=\"convertToInteractive('df-69652997-bdcc-4d9e-85dd-adf953ba24fc')\"\n",
              "              title=\"Convert this dataframe to an interactive table.\"\n",
              "              style=\"display:none;\">\n",
              "        \n",
              "  <svg xmlns=\"http://www.w3.org/2000/svg\" height=\"24px\"viewBox=\"0 0 24 24\"\n",
              "       width=\"24px\">\n",
              "    <path d=\"M0 0h24v24H0V0z\" fill=\"none\"/>\n",
              "    <path d=\"M18.56 5.44l.94 2.06.94-2.06 2.06-.94-2.06-.94-.94-2.06-.94 2.06-2.06.94zm-11 1L8.5 8.5l.94-2.06 2.06-.94-2.06-.94L8.5 2.5l-.94 2.06-2.06.94zm10 10l.94 2.06.94-2.06 2.06-.94-2.06-.94-.94-2.06-.94 2.06-2.06.94z\"/><path d=\"M17.41 7.96l-1.37-1.37c-.4-.4-.92-.59-1.43-.59-.52 0-1.04.2-1.43.59L10.3 9.45l-7.72 7.72c-.78.78-.78 2.05 0 2.83L4 21.41c.39.39.9.59 1.41.59.51 0 1.02-.2 1.41-.59l7.78-7.78 2.81-2.81c.8-.78.8-2.07 0-2.86zM5.41 20L4 18.59l7.72-7.72 1.47 1.35L5.41 20z\"/>\n",
              "  </svg>\n",
              "      </button>\n",
              "      \n",
              "  <style>\n",
              "    .colab-df-container {\n",
              "      display:flex;\n",
              "      flex-wrap:wrap;\n",
              "      gap: 12px;\n",
              "    }\n",
              "\n",
              "    .colab-df-convert {\n",
              "      background-color: #E8F0FE;\n",
              "      border: none;\n",
              "      border-radius: 50%;\n",
              "      cursor: pointer;\n",
              "      display: none;\n",
              "      fill: #1967D2;\n",
              "      height: 32px;\n",
              "      padding: 0 0 0 0;\n",
              "      width: 32px;\n",
              "    }\n",
              "\n",
              "    .colab-df-convert:hover {\n",
              "      background-color: #E2EBFA;\n",
              "      box-shadow: 0px 1px 2px rgba(60, 64, 67, 0.3), 0px 1px 3px 1px rgba(60, 64, 67, 0.15);\n",
              "      fill: #174EA6;\n",
              "    }\n",
              "\n",
              "    [theme=dark] .colab-df-convert {\n",
              "      background-color: #3B4455;\n",
              "      fill: #D2E3FC;\n",
              "    }\n",
              "\n",
              "    [theme=dark] .colab-df-convert:hover {\n",
              "      background-color: #434B5C;\n",
              "      box-shadow: 0px 1px 3px 1px rgba(0, 0, 0, 0.15);\n",
              "      filter: drop-shadow(0px 1px 2px rgba(0, 0, 0, 0.3));\n",
              "      fill: #FFFFFF;\n",
              "    }\n",
              "  </style>\n",
              "\n",
              "      <script>\n",
              "        const buttonEl =\n",
              "          document.querySelector('#df-69652997-bdcc-4d9e-85dd-adf953ba24fc button.colab-df-convert');\n",
              "        buttonEl.style.display =\n",
              "          google.colab.kernel.accessAllowed ? 'block' : 'none';\n",
              "\n",
              "        async function convertToInteractive(key) {\n",
              "          const element = document.querySelector('#df-69652997-bdcc-4d9e-85dd-adf953ba24fc');\n",
              "          const dataTable =\n",
              "            await google.colab.kernel.invokeFunction('convertToInteractive',\n",
              "                                                     [key], {});\n",
              "          if (!dataTable) return;\n",
              "\n",
              "          const docLinkHtml = 'Like what you see? Visit the ' +\n",
              "            '<a target=\"_blank\" href=https://colab.research.google.com/notebooks/data_table.ipynb>data table notebook</a>'\n",
              "            + ' to learn more about interactive tables.';\n",
              "          element.innerHTML = '';\n",
              "          dataTable['output_type'] = 'display_data';\n",
              "          await google.colab.output.renderOutput(dataTable, element);\n",
              "          const docLink = document.createElement('div');\n",
              "          docLink.innerHTML = docLinkHtml;\n",
              "          element.appendChild(docLink);\n",
              "        }\n",
              "      </script>\n",
              "    </div>\n",
              "  </div>\n",
              "  "
            ]
          },
          "metadata": {},
          "execution_count": 91
        }
      ]
    },
    {
      "cell_type": "markdown",
      "metadata": {
        "id": "xKh8zP2e3ICz"
      },
      "source": [
        "### 6.1 EDA sanitize & 6.2 filter signals"
      ]
    },
    {
      "cell_type": "code",
      "execution_count": 83,
      "metadata": {
        "colab": {
          "base_uri": "https://localhost:8080/",
          "height": 298
        },
        "id": "k7Rw_Vpk1JKU",
        "outputId": "86f06044-11a4-4b1d-f2bf-1d9ca3feac9c"
      },
      "outputs": [
        {
          "output_type": "execute_result",
          "data": {
            "text/plain": [
              "<matplotlib.legend.Legend at 0x7f15780036a0>"
            ]
          },
          "metadata": {},
          "execution_count": 83
        },
        {
          "output_type": "display_data",
          "data": {
            "text/plain": [
              "<Figure size 432x288 with 1 Axes>"
            ],
            "image/png": "[encoded data removed]"
          },
          "metadata": {
            "needs_background": "light"
          }
        }
      ],
      "source": [
        "# SCR does not use any baseline corrected signals\n",
        "amp_min = 0.01\n",
        "scr_signal = nk.signal_sanitize(\n",
        "    physio_df['physio_eda'])\n",
        "scr_filters = nk.signal_filter(scr_signal, \n",
        "                               sampling_rate=samplingrate, \n",
        "                               highcut=1, method=\"butterworth\", order=2)\n",
        "figure, ax1 = plt.subplots()\n",
        "ax1.title.set_text('7.1 sanitize and 7.2 sanitize + filter')\n",
        "l1 = ax1.plot(scr_signal, linewidth=1, zorder=1, label=\"sanitize\", color=\"orange\")\n",
        "l2 = ax1.plot(scr_filters, linewidth=1, zorder=1, label=\"sanitize + filter\", color=\"green\")\n",
        "ax1.legend(handles=[ l1[0], l2[0]])"
      ]
    },
    {
      "cell_type": "markdown",
      "metadata": {
        "id": "HdgMOQwgA8bt"
      },
      "source": [
        "### 6.3 detrend"
      ]
    },
    {
      "cell_type": "code",
      "execution_count": 84,
      "metadata": {
        "colab": {
          "base_uri": "https://localhost:8080/",
          "height": 298
        },
        "id": "1_R2k1duA65C",
        "outputId": "c0acd00d-883e-4f97-e8e3-affa3f2cf8bb"
      },
      "outputs": [
        {
          "output_type": "execute_result",
          "data": {
            "text/plain": [
              "<matplotlib.legend.Legend at 0x7f1577f6e340>"
            ]
          },
          "metadata": {},
          "execution_count": 84
        },
        {
          "output_type": "display_data",
          "data": {
            "text/plain": [
              "<Figure size 432x288 with 1 Axes>"
            ],
            "image/png": "[encoded data removed]"
          },
          "metadata": {
            "needs_background": "light"
          }
        }
      ],
      "source": [
        "scr_detrend = nk.signal_detrend(scr_filters)\n",
        "figure, ax1 = plt.subplots()\n",
        "ax1.title.set_text('7.3 detrend')\n",
        "# l1 = ax1.plot(run_df[\"EDA_corrected_02fixation\"], linewidth=1.5, zorder=1, label=\"baseline corrected\", color=\"gray\")\n",
        "l1 = ax1.plot(scr_filters, linewidth=1, zorder=1, label=\"sanitize + filter\", color=\"orange\")\n",
        "l2 = ax1.plot(scr_detrend, linewidth=1, zorder=1, label=\"sanitize + filter + detrend\", color=\"green\")\n",
        "ax1.legend(handles=[l1[0], l2[0]])"
      ]
    },
    {
      "cell_type": "markdown",
      "metadata": {
        "id": "NhBOcw4k3FIr"
      },
      "source": [
        "### 6.4 decompose EDA signal (tonic/phasic)"
      ]
    },
    {
      "cell_type": "code",
      "execution_count": 85,
      "metadata": {
        "colab": {
          "base_uri": "https://localhost:8080/",
          "height": 298
        },
        "id": "c-7CAhT8246O",
        "outputId": "1a5f7e20-a547-4c27-f956-07c4ff94c11a"
      },
      "outputs": [
        {
          "output_type": "execute_result",
          "data": {
            "text/plain": [
              "Text(0.5, 1.0, '7.4 decomposition of the eda signals: tonic & phasic')"
            ]
          },
          "metadata": {},
          "execution_count": 85
        },
        {
          "output_type": "display_data",
          "data": {
            "text/plain": [
              "<Figure size 432x288 with 1 Axes>"
            ],
            "image/png": "[encoded data removed]"
          },
          "metadata": {
            "needs_background": "light"
          }
        }
      ],
      "source": [
        "\n",
        "scr_decomposed = nk.eda_phasic(nk.standardize(scr_detrend), \n",
        "                               sampling_rate=samplingrate) \n",
        "scr_decomposed_plot = scr_decomposed.plot()\n",
        "\n",
        "scr_peaks, info = nk.eda_peaks(scr_decomposed[\"EDA_Phasic\"].values,\n",
        "                               sampling_rate=samplingrate, \n",
        "                               method = \"neurokit\", amplitude_min = 0.02)  \n",
        "scr_signals = pd.DataFrame({\"EDA_Raw\": scr_signal, \"EDA_Clean\": scr_signal})\n",
        "scr_processed = pd.concat([scr_signals, scr_decomposed, scr_peaks], axis=1) \n",
        "# eda_level_signal = eda_processed[\"EDA_Tonic\"] # for skin conductance level\n",
        "plt.title(\"7.4 decomposition of the eda signals: tonic & phasic\")"
      ]
    },
    {
      "cell_type": "code",
      "execution_count": 86,
      "metadata": {
        "colab": {
          "base_uri": "https://localhost:8080/",
          "height": 298
        },
        "id": "jGcONzhgFIYm",
        "outputId": "5b232fbe-3825-4e66-8ce6-fcf32eba434a"
      },
      "outputs": [
        {
          "output_type": "execute_result",
          "data": {
            "text/plain": [
              "Text(0.5, 1.0, \"Let's check the alignment of the condition types and the tonic/phasic signals\")"
            ]
          },
          "metadata": {},
          "execution_count": 86
        },
        {
          "output_type": "display_data",
          "data": {
            "text/plain": [
              "<Figure size 432x288 with 1 Axes>"
            ],
            "image/png": "[encoded data removed]"
          },
          "metadata": {
            "needs_background": "light"
          }
        }
      ],
      "source": [
        "plot_eda_phasic = nk.events_plot(event_stimuli, \n",
        "                                 scr_processed[[\"EDA_Tonic\", \"EDA_Phasic\"]])\n",
        "plt.title(\"Let's check the alignment of the condition types and the tonic/phasic signals\")\n"
      ]
    },
    {
      "cell_type": "markdown",
      "metadata": {
        "id": "zKhzJqZxFh7Q"
      },
      "source": [
        "### 6.5 epochs_create\n",
        "> Lastly, we need to create epochs based on the start of the stimulus and also designate the start and end of the event. \n",
        "* In this example, we time-lock it to the start of the pain plateau, i.e. the 2nd TTL, because we have precision of the pain heat stimulus. \n",
        "* Because we're dealing with phasic activity, we also limit the time span of this signal to the duration of the plateau, i.e. 5 seconds. "
      ]
    },
    {
      "cell_type": "code",
      "execution_count": 87,
      "metadata": {
        "colab": {
          "base_uri": "https://localhost:8080/",
          "height": 510
        },
        "id": "S2BXkZhRBTCP",
        "outputId": "a65ed0c6-d502-447e-e25d-68d64c6818b1"
      },
      "outputs": [
        {
          "output_type": "stream",
          "name": "stderr",
          "text": [
            "/usr/local/lib/python3.8/dist-packages/pandas/core/frame.py:5238: SettingWithCopyWarning: \n",
            "A value is trying to be set on a copy of a slice from a DataFrame\n",
            "\n",
            "See the caveats in the documentation: https://pandas.pydata.org/pandas-docs/stable/user_guide/indexing.html#returning-a-view-versus-a-copy\n",
            "  return super().replace(\n"
          ]
        },
        {
          "output_type": "execute_result",
          "data": {
            "text/plain": [
              "         EDA_Raw  EDA_Clean  EDA_Tonic  EDA_Phasic  SCR_Onsets  SCR_Peaks  \\\n",
              "0.0000  0.000000   0.000000   0.000000    0.000000         0.0        0.0   \n",
              "0.0005 -0.001526  -0.001526   0.000160   -0.000104         0.0        0.0   \n",
              "0.0010 -0.003052  -0.003052   0.000319   -0.000208         0.0        0.0   \n",
              "0.0015 -0.003052  -0.003052   0.000479   -0.000312         0.0        0.0   \n",
              "0.0020  0.000000   0.000000   0.000639   -0.000416         0.0        0.0   \n",
              "...          ...        ...        ...         ...         ...        ...   \n",
              "4.9980  0.186157   0.186157   1.030967   -0.240953         0.0        0.0   \n",
              "4.9985  0.186157   0.186157   1.031001   -0.240904         0.0        0.0   \n",
              "4.9990  0.186157   0.186157   1.031035   -0.240856         0.0        0.0   \n",
              "4.9995  0.184631   0.184631   1.031070   -0.240807         0.0        0.0   \n",
              "5.0000  0.184631   0.184631   1.031104   -0.240759         0.0        0.0   \n",
              "\n",
              "        SCR_Height  SCR_Amplitude  SCR_RiseTime  SCR_Recovery  \\\n",
              "0.0000         0.0            0.0           0.0           0.0   \n",
              "0.0005         0.0            0.0           0.0           0.0   \n",
              "0.0010         0.0            0.0           0.0           0.0   \n",
              "0.0015         0.0            0.0           0.0           0.0   \n",
              "0.0020         0.0            0.0           0.0           0.0   \n",
              "...            ...            ...           ...           ...   \n",
              "4.9980         0.0            0.0           0.0           0.0   \n",
              "4.9985         0.0            0.0           0.0           0.0   \n",
              "4.9990         0.0            0.0           0.0           0.0   \n",
              "4.9995         0.0            0.0           0.0           0.0   \n",
              "5.0000         0.0            0.0           0.0           0.0   \n",
              "\n",
              "        SCR_RecoveryTime   Index  Label  Condition  \n",
              "0.0000               0.0     0.0      2  high_stim  \n",
              "0.0005               0.0     1.0      2  high_stim  \n",
              "0.0010               0.0     2.0      2  high_stim  \n",
              "0.0015               0.0     3.0      2  high_stim  \n",
              "0.0020               0.0     4.0      2  high_stim  \n",
              "...                  ...     ...    ...        ...  \n",
              "4.9980               0.0  9995.0      2  high_stim  \n",
              "4.9985               0.0  9996.0      2  high_stim  \n",
              "4.9990               0.0  9997.0      2  high_stim  \n",
              "4.9995               0.0  9998.0      2  high_stim  \n",
              "5.0000               0.0  9999.0      2  high_stim  \n",
              "\n",
              "[10000 rows x 14 columns]"
            ],
            "text/html": [
              "\n",
              "  <div id=\"df-ff2c5107-aa50-40af-8c4e-e70f5a73455e\">\n",
              "    <div class=\"colab-df-container\">\n",
              "      <div>\n",
              "<style scoped>\n",
              "    .dataframe tbody tr th:only-of-type {\n",
              "        vertical-align: middle;\n",
              "    }\n",
              "\n",
              "    .dataframe tbody tr th {\n",
              "        vertical-align: top;\n",
              "    }\n",
              "\n",
              "    .dataframe thead th {\n",
              "        text-align: right;\n",
              "    }\n",
              "</style>\n",
              "<table border=\"1\" class=\"dataframe\">\n",
              "  <thead>\n",
              "    <tr style=\"text-align: right;\">\n",
              "      <th></th>\n",
              "      <th>EDA_Raw</th>\n",
              "      <th>EDA_Clean</th>\n",
              "      <th>EDA_Tonic</th>\n",
              "      <th>EDA_Phasic</th>\n",
              "      <th>SCR_Onsets</th>\n",
              "      <th>SCR_Peaks</th>\n",
              "      <th>SCR_Height</th>\n",
              "      <th>SCR_Amplitude</th>\n",
              "      <th>SCR_RiseTime</th>\n",
              "      <th>SCR_Recovery</th>\n",
              "      <th>SCR_RecoveryTime</th>\n",
              "      <th>Index</th>\n",
              "      <th>Label</th>\n",
              "      <th>Condition</th>\n",
              "    </tr>\n",
              "  </thead>\n",
              "  <tbody>\n",
              "    <tr>\n",
              "      <th>0.0000</th>\n",
              "      <td>0.000000</td>\n",
              "      <td>0.000000</td>\n",
              "      <td>0.000000</td>\n",
              "      <td>0.000000</td>\n",
              "      <td>0.0</td>\n",
              "      <td>0.0</td>\n",
              "      <td>0.0</td>\n",
              "      <td>0.0</td>\n",
              "      <td>0.0</td>\n",
              "      <td>0.0</td>\n",
              "      <td>0.0</td>\n",
              "      <td>0.0</td>\n",
              "      <td>2</td>\n",
              "      <td>high_stim</td>\n",
              "    </tr>\n",
              "    <tr>\n",
              "      <th>0.0005</th>\n",
              "      <td>-0.001526</td>\n",
              "      <td>-0.001526</td>\n",
              "      <td>0.000160</td>\n",
              "      <td>-0.000104</td>\n",
              "      <td>0.0</td>\n",
              "      <td>0.0</td>\n",
              "      <td>0.0</td>\n",
              "      <td>0.0</td>\n",
              "      <td>0.0</td>\n",
              "      <td>0.0</td>\n",
              "      <td>0.0</td>\n",
              "      <td>1.0</td>\n",
              "      <td>2</td>\n",
              "      <td>high_stim</td>\n",
              "    </tr>\n",
              "    <tr>\n",
              "      <th>0.0010</th>\n",
              "      <td>-0.003052</td>\n",
              "      <td>-0.003052</td>\n",
              "      <td>0.000319</td>\n",
              "      <td>-0.000208</td>\n",
              "      <td>0.0</td>\n",
              "      <td>0.0</td>\n",
              "      <td>0.0</td>\n",
              "      <td>0.0</td>\n",
              "      <td>0.0</td>\n",
              "      <td>0.0</td>\n",
              "      <td>0.0</td>\n",
              "      <td>2.0</td>\n",
              "      <td>2</td>\n",
              "      <td>high_stim</td>\n",
              "    </tr>\n",
              "    <tr>\n",
              "      <th>0.0015</th>\n",
              "      <td>-0.003052</td>\n",
              "      <td>-0.003052</td>\n",
              "      <td>0.000479</td>\n",
              "      <td>-0.000312</td>\n",
              "      <td>0.0</td>\n",
              "      <td>0.0</td>\n",
              "      <td>0.0</td>\n",
              "      <td>0.0</td>\n",
              "      <td>0.0</td>\n",
              "      <td>0.0</td>\n",
              "      <td>0.0</td>\n",
              "      <td>3.0</td>\n",
              "      <td>2</td>\n",
              "      <td>high_stim</td>\n",
              "    </tr>\n",
              "    <tr>\n",
              "      <th>0.0020</th>\n",
              "      <td>0.000000</td>\n",
              "      <td>0.000000</td>\n",
              "      <td>0.000639</td>\n",
              "      <td>-0.000416</td>\n",
              "      <td>0.0</td>\n",
              "      <td>0.0</td>\n",
              "      <td>0.0</td>\n",
              "      <td>0.0</td>\n",
              "      <td>0.0</td>\n",
              "      <td>0.0</td>\n",
              "      <td>0.0</td>\n",
              "      <td>4.0</td>\n",
              "      <td>2</td>\n",
              "      <td>high_stim</td>\n",
              "    </tr>\n",
              "    <tr>\n",
              "      <th>...</th>\n",
              "      <td>...</td>\n",
              "      <td>...</td>\n",
              "      <td>...</td>\n",
              "      <td>...</td>\n",
              "      <td>...</td>\n",
              "      <td>...</td>\n",
              "      <td>...</td>\n",
              "      <td>...</td>\n",
              "      <td>...</td>\n",
              "      <td>...</td>\n",
              "      <td>...</td>\n",
              "      <td>...</td>\n",
              "      <td>...</td>\n",
              "      <td>...</td>\n",
              "    </tr>\n",
              "    <tr>\n",
              "      <th>4.9980</th>\n",
              "      <td>0.186157</td>\n",
              "      <td>0.186157</td>\n",
              "      <td>1.030967</td>\n",
              "      <td>-0.240953</td>\n",
              "      <td>0.0</td>\n",
              "      <td>0.0</td>\n",
              "      <td>0.0</td>\n",
              "      <td>0.0</td>\n",
              "      <td>0.0</td>\n",
              "      <td>0.0</td>\n",
              "      <td>0.0</td>\n",
              "      <td>9995.0</td>\n",
              "      <td>2</td>\n",
              "      <td>high_stim</td>\n",
              "    </tr>\n",
              "    <tr>\n",
              "      <th>4.9985</th>\n",
              "      <td>0.186157</td>\n",
              "      <td>0.186157</td>\n",
              "      <td>1.031001</td>\n",
              "      <td>-0.240904</td>\n",
              "      <td>0.0</td>\n",
              "      <td>0.0</td>\n",
              "      <td>0.0</td>\n",
              "      <td>0.0</td>\n",
              "      <td>0.0</td>\n",
              "      <td>0.0</td>\n",
              "      <td>0.0</td>\n",
              "      <td>9996.0</td>\n",
              "      <td>2</td>\n",
              "      <td>high_stim</td>\n",
              "    </tr>\n",
              "    <tr>\n",
              "      <th>4.9990</th>\n",
              "      <td>0.186157</td>\n",
              "      <td>0.186157</td>\n",
              "      <td>1.031035</td>\n",
              "      <td>-0.240856</td>\n",
              "      <td>0.0</td>\n",
              "      <td>0.0</td>\n",
              "      <td>0.0</td>\n",
              "      <td>0.0</td>\n",
              "      <td>0.0</td>\n",
              "      <td>0.0</td>\n",
              "      <td>0.0</td>\n",
              "      <td>9997.0</td>\n",
              "      <td>2</td>\n",
              "      <td>high_stim</td>\n",
              "    </tr>\n",
              "    <tr>\n",
              "      <th>4.9995</th>\n",
              "      <td>0.184631</td>\n",
              "      <td>0.184631</td>\n",
              "      <td>1.031070</td>\n",
              "      <td>-0.240807</td>\n",
              "      <td>0.0</td>\n",
              "      <td>0.0</td>\n",
              "      <td>0.0</td>\n",
              "      <td>0.0</td>\n",
              "      <td>0.0</td>\n",
              "      <td>0.0</td>\n",
              "      <td>0.0</td>\n",
              "      <td>9998.0</td>\n",
              "      <td>2</td>\n",
              "      <td>high_stim</td>\n",
              "    </tr>\n",
              "    <tr>\n",
              "      <th>5.0000</th>\n",
              "      <td>0.184631</td>\n",
              "      <td>0.184631</td>\n",
              "      <td>1.031104</td>\n",
              "      <td>-0.240759</td>\n",
              "      <td>0.0</td>\n",
              "      <td>0.0</td>\n",
              "      <td>0.0</td>\n",
              "      <td>0.0</td>\n",
              "      <td>0.0</td>\n",
              "      <td>0.0</td>\n",
              "      <td>0.0</td>\n",
              "      <td>9999.0</td>\n",
              "      <td>2</td>\n",
              "      <td>high_stim</td>\n",
              "    </tr>\n",
              "  </tbody>\n",
              "</table>\n",
              "<p>10000 rows × 14 columns</p>\n",
              "</div>\n",
              "      <button class=\"colab-df-convert\" onclick=\"convertToInteractive('df-ff2c5107-aa50-40af-8c4e-e70f5a73455e')\"\n",
              "              title=\"Convert this dataframe to an interactive table.\"\n",
              "              style=\"display:none;\">\n",
              "        \n",
              "  <svg xmlns=\"http://www.w3.org/2000/svg\" height=\"24px\"viewBox=\"0 0 24 24\"\n",
              "       width=\"24px\">\n",
              "    <path d=\"M0 0h24v24H0V0z\" fill=\"none\"/>\n",
              "    <path d=\"M18.56 5.44l.94 2.06.94-2.06 2.06-.94-2.06-.94-.94-2.06-.94 2.06-2.06.94zm-11 1L8.5 8.5l.94-2.06 2.06-.94-2.06-.94L8.5 2.5l-.94 2.06-2.06.94zm10 10l.94 2.06.94-2.06 2.06-.94-2.06-.94-.94-2.06-.94 2.06-2.06.94z\"/><path d=\"M17.41 7.96l-1.37-1.37c-.4-.4-.92-.59-1.43-.59-.52 0-1.04.2-1.43.59L10.3 9.45l-7.72 7.72c-.78.78-.78 2.05 0 2.83L4 21.41c.39.39.9.59 1.41.59.51 0 1.02-.2 1.41-.59l7.78-7.78 2.81-2.81c.8-.78.8-2.07 0-2.86zM5.41 20L4 18.59l7.72-7.72 1.47 1.35L5.41 20z\"/>\n",
              "  </svg>\n",
              "      </button>\n",
              "      \n",
              "  <style>\n",
              "    .colab-df-container {\n",
              "      display:flex;\n",
              "      flex-wrap:wrap;\n",
              "      gap: 12px;\n",
              "    }\n",
              "\n",
              "    .colab-df-convert {\n",
              "      background-color: #E8F0FE;\n",
              "      border: none;\n",
              "      border-radius: 50%;\n",
              "      cursor: pointer;\n",
              "      display: none;\n",
              "      fill: #1967D2;\n",
              "      height: 32px;\n",
              "      padding: 0 0 0 0;\n",
              "      width: 32px;\n",
              "    }\n",
              "\n",
              "    .colab-df-convert:hover {\n",
              "      background-color: #E2EBFA;\n",
              "      box-shadow: 0px 1px 2px rgba(60, 64, 67, 0.3), 0px 1px 3px 1px rgba(60, 64, 67, 0.15);\n",
              "      fill: #174EA6;\n",
              "    }\n",
              "\n",
              "    [theme=dark] .colab-df-convert {\n",
              "      background-color: #3B4455;\n",
              "      fill: #D2E3FC;\n",
              "    }\n",
              "\n",
              "    [theme=dark] .colab-df-convert:hover {\n",
              "      background-color: #434B5C;\n",
              "      box-shadow: 0px 1px 3px 1px rgba(0, 0, 0, 0.15);\n",
              "      filter: drop-shadow(0px 1px 2px rgba(0, 0, 0, 0.3));\n",
              "      fill: #FFFFFF;\n",
              "    }\n",
              "  </style>\n",
              "\n",
              "      <script>\n",
              "        const buttonEl =\n",
              "          document.querySelector('#df-ff2c5107-aa50-40af-8c4e-e70f5a73455e button.colab-df-convert');\n",
              "        buttonEl.style.display =\n",
              "          google.colab.kernel.accessAllowed ? 'block' : 'none';\n",
              "\n",
              "        async function convertToInteractive(key) {\n",
              "          const element = document.querySelector('#df-ff2c5107-aa50-40af-8c4e-e70f5a73455e');\n",
              "          const dataTable =\n",
              "            await google.colab.kernel.invokeFunction('convertToInteractive',\n",
              "                                                     [key], {});\n",
              "          if (!dataTable) return;\n",
              "\n",
              "          const docLinkHtml = 'Like what you see? Visit the ' +\n",
              "            '<a target=\"_blank\" href=https://colab.research.google.com/notebooks/data_table.ipynb>data table notebook</a>'\n",
              "            + ' to learn more about interactive tables.';\n",
              "          element.innerHTML = '';\n",
              "          dataTable['output_type'] = 'display_data';\n",
              "          await google.colab.output.renderOutput(dataTable, element);\n",
              "          const docLink = document.createElement('div');\n",
              "          docLink.innerHTML = docLinkHtml;\n",
              "          element.appendChild(docLink);\n",
              "        }\n",
              "      </script>\n",
              "    </div>\n",
              "  </div>\n",
              "  "
            ]
          },
          "metadata": {},
          "execution_count": 87
        }
      ],
      "source": [
        "scr_epochs = nk.epochs_create(scr_processed,\n",
        "                              event_stimuli,\n",
        "                              sampling_rate=samplingrate,\n",
        "                              epochs_start=0,\n",
        "                              epochs_end=5,\n",
        "                              baseline_correction=True) \n",
        "scr_epochs[2] # produces a dictionary per trial (in this example, 12 keys, and 10000 rows, i.e. 5 seconds with 14 columns related to SCR data)"
      ]
    },
    {
      "cell_type": "markdown",
      "metadata": {
        "id": "ghT4SKedHP4T"
      },
      "source": [
        "### 6.6 eda_eventrelated\n",
        "\n",
        "* event-related analysis\n",
        "* of interest especially when analyzing EDA responses to specific stimuli\n",
        "* returns:\n",
        "   * EDA_SCR: Skin Conductance Response yes (1) or no (0) -> if yes, corresponding components are listed\n",
        "   * EDA_Peak_Amplitude: maximum amplitude of phasic component of signal\n",
        "   * SCR_Peak_Amplitude: peak amplitude of the first SCR in each epoch (parameter of interest if related to specific stimulus)\n",
        "   * SCR_Peak_Amplitude_Time: timpepoint of each first SCR peak amplitude (peak should occur within 2-7 s after stimulus onset)\n",
        "   * SCR_RiseTime: risetime of each first SCR (time it takes for SCR to reach peak amplitude from onset)\n",
        "   * SCR_RecoveryTime: half-recovery time of each first SCR (time it takes for SCR to decrease to half amplitude)"
      ]
    },
    {
      "cell_type": "code",
      "execution_count": 88,
      "metadata": {
        "colab": {
          "base_uri": "https://localhost:8080/",
          "height": 426
        },
        "id": "gR2fAhc-GjQV",
        "outputId": "b07edf83-e49d-4f98-b139-72ed0e8cd0e2"
      },
      "outputs": [
        {
          "output_type": "execute_result",
          "data": {
            "text/plain": [
              "    Label  Condition  Event_Onset  EDA_Peak_Amplitude  EDA_SCR  \\\n",
              "0       0   med_stim          0.0            1.645311        0   \n",
              "1       1   low_stim          0.0            0.585128        1   \n",
              "2       2  high_stim          0.0            0.125666        1   \n",
              "3       3   low_stim          0.0            0.414831        1   \n",
              "4       4   med_stim          0.0            1.100837        1   \n",
              "5       5  high_stim          0.0            1.046483        0   \n",
              "6       6   low_stim          0.0            0.480728        1   \n",
              "7       7  high_stim          0.0            0.747126        0   \n",
              "8       8  high_stim          0.0            0.640206        0   \n",
              "9       9   med_stim          0.0            0.270397        0   \n",
              "10     10   med_stim          0.0            0.490650        0   \n",
              "11     11   low_stim          0.0            0.325995        0   \n",
              "\n",
              "    SCR_Peak_Amplitude  SCR_Peak_Amplitude_Time  SCR_RiseTime  \\\n",
              "0                  NaN                      NaN           NaN   \n",
              "1             1.330514                 0.201020        2.7970   \n",
              "2             0.340693                 2.555256        1.6145   \n",
              "3             0.791171                 4.194419        2.4425   \n",
              "4             1.292173                 4.714471        3.0445   \n",
              "5                  NaN                      NaN           NaN   \n",
              "6             0.153858                 0.025503        1.4180   \n",
              "7                  NaN                      NaN           NaN   \n",
              "8                  NaN                      NaN           NaN   \n",
              "9                  NaN                      NaN           NaN   \n",
              "10                 NaN                      NaN           NaN   \n",
              "11                 NaN                      NaN           NaN   \n",
              "\n",
              "    SCR_RecoveryTime  \n",
              "0                NaN  \n",
              "1                NaN  \n",
              "2              230.0  \n",
              "3                6.0  \n",
              "4                NaN  \n",
              "5                NaN  \n",
              "6             1603.0  \n",
              "7                NaN  \n",
              "8                NaN  \n",
              "9                NaN  \n",
              "10               NaN  \n",
              "11               NaN  "
            ],
            "text/html": [
              "\n",
              "  <div id=\"df-f4360533-5c41-427d-9b57-a8b8a7c3e525\">\n",
              "    <div class=\"colab-df-container\">\n",
              "      <div>\n",
              "<style scoped>\n",
              "    .dataframe tbody tr th:only-of-type {\n",
              "        vertical-align: middle;\n",
              "    }\n",
              "\n",
              "    .dataframe tbody tr th {\n",
              "        vertical-align: top;\n",
              "    }\n",
              "\n",
              "    .dataframe thead th {\n",
              "        text-align: right;\n",
              "    }\n",
              "</style>\n",
              "<table border=\"1\" class=\"dataframe\">\n",
              "  <thead>\n",
              "    <tr style=\"text-align: right;\">\n",
              "      <th></th>\n",
              "      <th>Label</th>\n",
              "      <th>Condition</th>\n",
              "      <th>Event_Onset</th>\n",
              "      <th>EDA_Peak_Amplitude</th>\n",
              "      <th>EDA_SCR</th>\n",
              "      <th>SCR_Peak_Amplitude</th>\n",
              "      <th>SCR_Peak_Amplitude_Time</th>\n",
              "      <th>SCR_RiseTime</th>\n",
              "      <th>SCR_RecoveryTime</th>\n",
              "    </tr>\n",
              "  </thead>\n",
              "  <tbody>\n",
              "    <tr>\n",
              "      <th>0</th>\n",
              "      <td>0</td>\n",
              "      <td>med_stim</td>\n",
              "      <td>0.0</td>\n",
              "      <td>1.645311</td>\n",
              "      <td>0</td>\n",
              "      <td>NaN</td>\n",
              "      <td>NaN</td>\n",
              "      <td>NaN</td>\n",
              "      <td>NaN</td>\n",
              "    </tr>\n",
              "    <tr>\n",
              "      <th>1</th>\n",
              "      <td>1</td>\n",
              "      <td>low_stim</td>\n",
              "      <td>0.0</td>\n",
              "      <td>0.585128</td>\n",
              "      <td>1</td>\n",
              "      <td>1.330514</td>\n",
              "      <td>0.201020</td>\n",
              "      <td>2.7970</td>\n",
              "      <td>NaN</td>\n",
              "    </tr>\n",
              "    <tr>\n",
              "      <th>2</th>\n",
              "      <td>2</td>\n",
              "      <td>high_stim</td>\n",
              "      <td>0.0</td>\n",
              "      <td>0.125666</td>\n",
              "      <td>1</td>\n",
              "      <td>0.340693</td>\n",
              "      <td>2.555256</td>\n",
              "      <td>1.6145</td>\n",
              "      <td>230.0</td>\n",
              "    </tr>\n",
              "    <tr>\n",
              "      <th>3</th>\n",
              "      <td>3</td>\n",
              "      <td>low_stim</td>\n",
              "      <td>0.0</td>\n",
              "      <td>0.414831</td>\n",
              "      <td>1</td>\n",
              "      <td>0.791171</td>\n",
              "      <td>4.194419</td>\n",
              "      <td>2.4425</td>\n",
              "      <td>6.0</td>\n",
              "    </tr>\n",
              "    <tr>\n",
              "      <th>4</th>\n",
              "      <td>4</td>\n",
              "      <td>med_stim</td>\n",
              "      <td>0.0</td>\n",
              "      <td>1.100837</td>\n",
              "      <td>1</td>\n",
              "      <td>1.292173</td>\n",
              "      <td>4.714471</td>\n",
              "      <td>3.0445</td>\n",
              "      <td>NaN</td>\n",
              "    </tr>\n",
              "    <tr>\n",
              "      <th>5</th>\n",
              "      <td>5</td>\n",
              "      <td>high_stim</td>\n",
              "      <td>0.0</td>\n",
              "      <td>1.046483</td>\n",
              "      <td>0</td>\n",
              "      <td>NaN</td>\n",
              "      <td>NaN</td>\n",
              "      <td>NaN</td>\n",
              "      <td>NaN</td>\n",
              "    </tr>\n",
              "    <tr>\n",
              "      <th>6</th>\n",
              "      <td>6</td>\n",
              "      <td>low_stim</td>\n",
              "      <td>0.0</td>\n",
              "      <td>0.480728</td>\n",
              "      <td>1</td>\n",
              "      <td>0.153858</td>\n",
              "      <td>0.025503</td>\n",
              "      <td>1.4180</td>\n",
              "      <td>1603.0</td>\n",
              "    </tr>\n",
              "    <tr>\n",
              "      <th>7</th>\n",
              "      <td>7</td>\n",
              "      <td>high_stim</td>\n",
              "      <td>0.0</td>\n",
              "      <td>0.747126</td>\n",
              "      <td>0</td>\n",
              "      <td>NaN</td>\n",
              "      <td>NaN</td>\n",
              "      <td>NaN</td>\n",
              "      <td>NaN</td>\n",
              "    </tr>\n",
              "    <tr>\n",
              "      <th>8</th>\n",
              "      <td>8</td>\n",
              "      <td>high_stim</td>\n",
              "      <td>0.0</td>\n",
              "      <td>0.640206</td>\n",
              "      <td>0</td>\n",
              "      <td>NaN</td>\n",
              "      <td>NaN</td>\n",
              "      <td>NaN</td>\n",
              "      <td>NaN</td>\n",
              "    </tr>\n",
              "    <tr>\n",
              "      <th>9</th>\n",
              "      <td>9</td>\n",
              "      <td>med_stim</td>\n",
              "      <td>0.0</td>\n",
              "      <td>0.270397</td>\n",
              "      <td>0</td>\n",
              "      <td>NaN</td>\n",
              "      <td>NaN</td>\n",
              "      <td>NaN</td>\n",
              "      <td>NaN</td>\n",
              "    </tr>\n",
              "    <tr>\n",
              "      <th>10</th>\n",
              "      <td>10</td>\n",
              "      <td>med_stim</td>\n",
              "      <td>0.0</td>\n",
              "      <td>0.490650</td>\n",
              "      <td>0</td>\n",
              "      <td>NaN</td>\n",
              "      <td>NaN</td>\n",
              "      <td>NaN</td>\n",
              "      <td>NaN</td>\n",
              "    </tr>\n",
              "    <tr>\n",
              "      <th>11</th>\n",
              "      <td>11</td>\n",
              "      <td>low_stim</td>\n",
              "      <td>0.0</td>\n",
              "      <td>0.325995</td>\n",
              "      <td>0</td>\n",
              "      <td>NaN</td>\n",
              "      <td>NaN</td>\n",
              "      <td>NaN</td>\n",
              "      <td>NaN</td>\n",
              "    </tr>\n",
              "  </tbody>\n",
              "</table>\n",
              "</div>\n",
              "      <button class=\"colab-df-convert\" onclick=\"convertToInteractive('df-f4360533-5c41-427d-9b57-a8b8a7c3e525')\"\n",
              "              title=\"Convert this dataframe to an interactive table.\"\n",
              "              style=\"display:none;\">\n",
              "        \n",
              "  <svg xmlns=\"http://www.w3.org/2000/svg\" height=\"24px\"viewBox=\"0 0 24 24\"\n",
              "       width=\"24px\">\n",
              "    <path d=\"M0 0h24v24H0V0z\" fill=\"none\"/>\n",
              "    <path d=\"M18.56 5.44l.94 2.06.94-2.06 2.06-.94-2.06-.94-.94-2.06-.94 2.06-2.06.94zm-11 1L8.5 8.5l.94-2.06 2.06-.94-2.06-.94L8.5 2.5l-.94 2.06-2.06.94zm10 10l.94 2.06.94-2.06 2.06-.94-2.06-.94-.94-2.06-.94 2.06-2.06.94z\"/><path d=\"M17.41 7.96l-1.37-1.37c-.4-.4-.92-.59-1.43-.59-.52 0-1.04.2-1.43.59L10.3 9.45l-7.72 7.72c-.78.78-.78 2.05 0 2.83L4 21.41c.39.39.9.59 1.41.59.51 0 1.02-.2 1.41-.59l7.78-7.78 2.81-2.81c.8-.78.8-2.07 0-2.86zM5.41 20L4 18.59l7.72-7.72 1.47 1.35L5.41 20z\"/>\n",
              "  </svg>\n",
              "      </button>\n",
              "      \n",
              "  <style>\n",
              "    .colab-df-container {\n",
              "      display:flex;\n",
              "      flex-wrap:wrap;\n",
              "      gap: 12px;\n",
              "    }\n",
              "\n",
              "    .colab-df-convert {\n",
              "      background-color: #E8F0FE;\n",
              "      border: none;\n",
              "      border-radius: 50%;\n",
              "      cursor: pointer;\n",
              "      display: none;\n",
              "      fill: #1967D2;\n",
              "      height: 32px;\n",
              "      padding: 0 0 0 0;\n",
              "      width: 32px;\n",
              "    }\n",
              "\n",
              "    .colab-df-convert:hover {\n",
              "      background-color: #E2EBFA;\n",
              "      box-shadow: 0px 1px 2px rgba(60, 64, 67, 0.3), 0px 1px 3px 1px rgba(60, 64, 67, 0.15);\n",
              "      fill: #174EA6;\n",
              "    }\n",
              "\n",
              "    [theme=dark] .colab-df-convert {\n",
              "      background-color: #3B4455;\n",
              "      fill: #D2E3FC;\n",
              "    }\n",
              "\n",
              "    [theme=dark] .colab-df-convert:hover {\n",
              "      background-color: #434B5C;\n",
              "      box-shadow: 0px 1px 3px 1px rgba(0, 0, 0, 0.15);\n",
              "      filter: drop-shadow(0px 1px 2px rgba(0, 0, 0, 0.3));\n",
              "      fill: #FFFFFF;\n",
              "    }\n",
              "  </style>\n",
              "\n",
              "      <script>\n",
              "        const buttonEl =\n",
              "          document.querySelector('#df-f4360533-5c41-427d-9b57-a8b8a7c3e525 button.colab-df-convert');\n",
              "        buttonEl.style.display =\n",
              "          google.colab.kernel.accessAllowed ? 'block' : 'none';\n",
              "\n",
              "        async function convertToInteractive(key) {\n",
              "          const element = document.querySelector('#df-f4360533-5c41-427d-9b57-a8b8a7c3e525');\n",
              "          const dataTable =\n",
              "            await google.colab.kernel.invokeFunction('convertToInteractive',\n",
              "                                                     [key], {});\n",
              "          if (!dataTable) return;\n",
              "\n",
              "          const docLinkHtml = 'Like what you see? Visit the ' +\n",
              "            '<a target=\"_blank\" href=https://colab.research.google.com/notebooks/data_table.ipynb>data table notebook</a>'\n",
              "            + ' to learn more about interactive tables.';\n",
              "          element.innerHTML = '';\n",
              "          dataTable['output_type'] = 'display_data';\n",
              "          await google.colab.output.renderOutput(dataTable, element);\n",
              "          const docLink = document.createElement('div');\n",
              "          docLink.innerHTML = docLinkHtml;\n",
              "          element.appendChild(docLink);\n",
              "        }\n",
              "      </script>\n",
              "    </div>\n",
              "  </div>\n",
              "  "
            ]
          },
          "metadata": {},
          "execution_count": 88
        }
      ],
      "source": [
        "scr_phasic = nk.eda_eventrelated(scr_epochs)\n",
        "scr_phasic # produces a dataframe with 12 trials and average information: EDA_Peak_Amplitude\tEDA_SCR\tSCR_Peak_Amplitude\tSCR_Peak_Amplitude_Time\tSCR_RiseTime\tSCR_RecoveryTime"
      ]
    },
    {
      "cell_type": "markdown",
      "metadata": {
        "id": "MhFbFAWAGBVA"
      },
      "source": [
        "# We're done with the SCR Phasic signal extraction! 🥳\n",
        "All we need to do is save this!"
      ]
    },
    {
      "cell_type": "markdown",
      "source": [
        "---"
      ],
      "metadata": {
        "id": "Vvj7X783bEqO"
      }
    },
    {
      "cell_type": "markdown",
      "metadata": {
        "id": "beMQpQLbDeD7"
      },
      "source": [
        "## Skin Conductance Level (SCL) Tonic 💻 `preprocess.extract_SCL`\n",
        "\n",
        "> #### **eda tonic**\n",
        "* interval-related analysis\n",
        "* of interest for longer time periods, also resting-state (input could therefore also be a whole condition instead of snipped-out epochs)\n",
        "* returns:\n",
        "   * SCR_Peaks_N: number of occurrences of Skin Conductance Response\n",
        "   * SCR_Peaks_Amplitude_Mean: mean amplitude of SCR peak occurrences\n",
        "\n",
        "> #### **eda level**\n",
        "* analysis of skin conductance level\n",
        "\n",
        "> NOTE:\n",
        "* For the tonic signals, note that we need baseline corrected signals. Other than that, we'll use very similar steps to SCR phasic: \n",
        "* signal ➔ filters ➔ detrend ➔ decompose.\n",
        "* The difference is that we'll use the `tonic` signals from the decomposed stage, and feed them into a neurokit function `epochs_create`"
      ]
    },
    {
      "cell_type": "code",
      "source": [
        "SCL_epoch_start = -1; SCL_epoch_end = 20"
      ],
      "metadata": {
        "id": "7RnsIQPCWbVY"
      },
      "execution_count": 93,
      "outputs": []
    },
    {
      "cell_type": "code",
      "source": [
        "tonic_length, scl_raw, scl_epoch = utils.preprocess.extract_SCL(df=physio_df_bl,\n",
        "                        eda_col='physio_eda_blcorrect', event_dict=event_stimuli, samplingrate=2000,\n",
        "                        SCL_start=SCL_epoch_start, SCL_end=SCL_epoch_end, baseline_truefalse=False)\n"
      ],
      "metadata": {
        "id": "0S9pf0cIWX1I"
      },
      "execution_count": 94,
      "outputs": []
    },
    {
      "cell_type": "markdown",
      "source": [
        "## NOTE: `preprocess.extract_SCL` is a series of neurokit functions.\n",
        "> We've compacted into a function, but feel free to use the functions directly from neurokit.\n",
        "> ```\n",
        "  tonic_epoch_start = -1\n",
        "    tonic_epoch_end = 8\n",
        "    tonic_length = np.abs(tonic_epoch_start-tonic_epoch_end) * samplingrate\n",
        "    scl_signal = nk.signal_sanitize(physio_df['EDA_corrected_02fixation'])\n",
        "    scl_filters = nk.signal_filter(scl_signal,\n",
        "                                sampling_rate=samplingrate,\n",
        "                                highcut=1,\n",
        "                                method=\"butterworth\",\n",
        "                                order=2)  \n",
        "    scl_detrend = nk.signal_detrend(scl_filters)\n",
        "    scl_decomposed = nk.eda_phasic(nk.standardize(scl_detrend),\n",
        "                                sampling_rate=samplingrate)\n",
        "    scl_signals = pd.DataFrame({\n",
        "        \"EDA_Raw\": scl_signal,\n",
        "        \"EDA_Clean\": scl_filters\n",
        "    })\n",
        "    scl_processed = pd.concat([scl_signals, scl_decomposed['EDA_Tonic']],\n",
        "                            axis=1)\n",
        "    try:\n",
        "        scl_epoch = nk.epochs_create(scl_processed['EDA_Tonic'],\n",
        "                                    event_stimuli,\n",
        "                                    sampling_rate=samplingrate,\n",
        "                                    epochs_start=tonic_epoch_start,\n",
        "                                    epochs_end=tonic_epoch_end,\n",
        "                                    baseline_correction=False)\n",
        "```\n",
        "\n",
        "\n",
        "  "
      ],
      "metadata": {
        "id": "mIMZpNvGZ0PC"
      }
    },
    {
      "cell_type": "markdown",
      "source": [
        "> 🎨 Let's plot the `scl_raw` output. It would be a dictionary, per Neurokit's output scheme. We'll plot the first signal, from the first trial, medium intensity, spanned across 21 seconds. "
      ],
      "metadata": {
        "id": "BeSn3woJWsG5"
      }
    },
    {
      "cell_type": "code",
      "source": [
        "scl_raw[0]['Signal'].plot()"
      ],
      "metadata": {
        "colab": {
          "base_uri": "https://localhost:8080/",
          "height": 282
        },
        "id": "hoEwQa87WiiY",
        "outputId": "c380e22a-09d9-483f-b65f-afc3041d06e4"
      },
      "execution_count": 98,
      "outputs": [
        {
          "output_type": "execute_result",
          "data": {
            "text/plain": [
              "<matplotlib.axes._subplots.AxesSubplot at 0x7f1577dafe50>"
            ]
          },
          "metadata": {},
          "execution_count": 98
        },
        {
          "output_type": "display_data",
          "data": {
            "text/plain": [
              "<Figure size 432x288 with 1 Axes>"
            ],
            "image/png": "[encoded data removed]"
          },
          "metadata": {
            "needs_background": "light"
          }
        }
      ]
    },
    {
      "cell_type": "markdown",
      "source": [
        "> 🎨 Let's plot the `scl_epoch` output. It would be a dictionary, per Neurokit's output scheme. We'll plot the first signal, from the first trial, medium intensity, spanned across 21 seconds. "
      ],
      "metadata": {
        "id": "-EmQgYB1XDbl"
      }
    },
    {
      "cell_type": "code",
      "source": [
        "scl_epoch[0]['Signal'].plot()\n"
      ],
      "metadata": {
        "colab": {
          "base_uri": "https://localhost:8080/",
          "height": 282
        },
        "id": "Lex1Z4O8W8-M",
        "outputId": "e8a50df5-f6eb-417b-d214-9957668e392c"
      },
      "execution_count": 99,
      "outputs": [
        {
          "output_type": "execute_result",
          "data": {
            "text/plain": [
              "<matplotlib.axes._subplots.AxesSubplot at 0x7f1577d5fbb0>"
            ]
          },
          "metadata": {},
          "execution_count": 99
        },
        {
          "output_type": "display_data",
          "data": {
            "text/plain": [
              "<Figure size 432x288 with 1 Axes>"
            ],
            "image/png": "[encoded data removed]"
          },
          "metadata": {
            "needs_background": "light"
          }
        }
      ]
    },
    {
      "cell_type": "markdown",
      "source": [
        "> And finally, plot all trials.\n",
        "* imagine doing this on a group level basis!\n",
        "* Given that this is a dictionary from a single run, now you can do this iteratively for all the runs and do a group analysis."
      ],
      "metadata": {
        "id": "sdLcJSpwknw-"
      }
    },
    {
      "cell_type": "code",
      "source": [
        "plot_level = nk.epochs_plot(scl_raw)"
      ],
      "metadata": {
        "colab": {
          "base_uri": "https://localhost:8080/",
          "height": 295
        },
        "id": "p4GK48TeX3q3",
        "outputId": "a2575853-4380-475e-af57-f6cb9c878fb8"
      },
      "execution_count": 100,
      "outputs": [
        {
          "output_type": "display_data",
          "data": {
            "text/plain": [
              "<Figure size 432x288 with 1 Axes>"
            ],
            "image/png": "[encoded data removed]"
          },
          "metadata": {
            "needs_background": "light"
          }
        }
      ]
    },
    {
      "cell_type": "markdown",
      "source": [
        "#### Last step is to save `scl_raw` and also the scl_epoch. In addition.... \n",
        "\n",
        "> ## 💻 `utils.preprocess.combine_metadata_SCL`\n",
        "* We can also grab the mean_signal from scl_epoch and save is a more compact dataframe.\n",
        "* I have a function for that!"
      ],
      "metadata": {
        "id": "5rdLzs54aJAx"
      }
    },
    {
      "cell_type": "code",
      "source": [
        "metadata_SCL = utils.preprocess.combine_metadata_SCL(scl_epoch, metadf_dropNA, total_trial = 12)"
      ],
      "metadata": {
        "id": "5SpKzGpfaah8"
      },
      "execution_count": 103,
      "outputs": []
    },
    {
      "cell_type": "code",
      "source": [
        "metadata_SCL"
      ],
      "metadata": {
        "colab": {
          "base_uri": "https://localhost:8080/",
          "height": 426
        },
        "id": "24o_14v0ae_8",
        "outputId": "fbda4827-b7fe-4058-b603-3f7dc8af0324"
      },
      "execution_count": 104,
      "outputs": [
        {
          "output_type": "execute_result",
          "data": {
            "text/plain": [
              "   trial_order    iv_stim mean_signal\n",
              "0            1   med_stim    0.158465\n",
              "1            2   low_stim    0.433369\n",
              "2            3  high_stim    1.642057\n",
              "3            4   low_stim    0.867144\n",
              "4            5   med_stim    0.700344\n",
              "5            6  high_stim     0.20206\n",
              "6            7   low_stim    0.120246\n",
              "7            8  high_stim   -0.117506\n",
              "8            9  high_stim     0.25648\n",
              "9           10   med_stim   -0.064399\n",
              "10          11   med_stim    0.536733\n",
              "11          12   low_stim    0.055628"
            ],
            "text/html": [
              "\n",
              "  <div id=\"df-80f43c22-a95e-4947-9ebc-d76d131b9a44\">\n",
              "    <div class=\"colab-df-container\">\n",
              "      <div>\n",
              "<style scoped>\n",
              "    .dataframe tbody tr th:only-of-type {\n",
              "        vertical-align: middle;\n",
              "    }\n",
              "\n",
              "    .dataframe tbody tr th {\n",
              "        vertical-align: top;\n",
              "    }\n",
              "\n",
              "    .dataframe thead th {\n",
              "        text-align: right;\n",
              "    }\n",
              "</style>\n",
              "<table border=\"1\" class=\"dataframe\">\n",
              "  <thead>\n",
              "    <tr style=\"text-align: right;\">\n",
              "      <th></th>\n",
              "      <th>trial_order</th>\n",
              "      <th>iv_stim</th>\n",
              "      <th>mean_signal</th>\n",
              "    </tr>\n",
              "  </thead>\n",
              "  <tbody>\n",
              "    <tr>\n",
              "      <th>0</th>\n",
              "      <td>1</td>\n",
              "      <td>med_stim</td>\n",
              "      <td>0.158465</td>\n",
              "    </tr>\n",
              "    <tr>\n",
              "      <th>1</th>\n",
              "      <td>2</td>\n",
              "      <td>low_stim</td>\n",
              "      <td>0.433369</td>\n",
              "    </tr>\n",
              "    <tr>\n",
              "      <th>2</th>\n",
              "      <td>3</td>\n",
              "      <td>high_stim</td>\n",
              "      <td>1.642057</td>\n",
              "    </tr>\n",
              "    <tr>\n",
              "      <th>3</th>\n",
              "      <td>4</td>\n",
              "      <td>low_stim</td>\n",
              "      <td>0.867144</td>\n",
              "    </tr>\n",
              "    <tr>\n",
              "      <th>4</th>\n",
              "      <td>5</td>\n",
              "      <td>med_stim</td>\n",
              "      <td>0.700344</td>\n",
              "    </tr>\n",
              "    <tr>\n",
              "      <th>5</th>\n",
              "      <td>6</td>\n",
              "      <td>high_stim</td>\n",
              "      <td>0.20206</td>\n",
              "    </tr>\n",
              "    <tr>\n",
              "      <th>6</th>\n",
              "      <td>7</td>\n",
              "      <td>low_stim</td>\n",
              "      <td>0.120246</td>\n",
              "    </tr>\n",
              "    <tr>\n",
              "      <th>7</th>\n",
              "      <td>8</td>\n",
              "      <td>high_stim</td>\n",
              "      <td>-0.117506</td>\n",
              "    </tr>\n",
              "    <tr>\n",
              "      <th>8</th>\n",
              "      <td>9</td>\n",
              "      <td>high_stim</td>\n",
              "      <td>0.25648</td>\n",
              "    </tr>\n",
              "    <tr>\n",
              "      <th>9</th>\n",
              "      <td>10</td>\n",
              "      <td>med_stim</td>\n",
              "      <td>-0.064399</td>\n",
              "    </tr>\n",
              "    <tr>\n",
              "      <th>10</th>\n",
              "      <td>11</td>\n",
              "      <td>med_stim</td>\n",
              "      <td>0.536733</td>\n",
              "    </tr>\n",
              "    <tr>\n",
              "      <th>11</th>\n",
              "      <td>12</td>\n",
              "      <td>low_stim</td>\n",
              "      <td>0.055628</td>\n",
              "    </tr>\n",
              "  </tbody>\n",
              "</table>\n",
              "</div>\n",
              "      <button class=\"colab-df-convert\" onclick=\"convertToInteractive('df-80f43c22-a95e-4947-9ebc-d76d131b9a44')\"\n",
              "              title=\"Convert this dataframe to an interactive table.\"\n",
              "              style=\"display:none;\">\n",
              "        \n",
              "  <svg xmlns=\"http://www.w3.org/2000/svg\" height=\"24px\"viewBox=\"0 0 24 24\"\n",
              "       width=\"24px\">\n",
              "    <path d=\"M0 0h24v24H0V0z\" fill=\"none\"/>\n",
              "    <path d=\"M18.56 5.44l.94 2.06.94-2.06 2.06-.94-2.06-.94-.94-2.06-.94 2.06-2.06.94zm-11 1L8.5 8.5l.94-2.06 2.06-.94-2.06-.94L8.5 2.5l-.94 2.06-2.06.94zm10 10l.94 2.06.94-2.06 2.06-.94-2.06-.94-.94-2.06-.94 2.06-2.06.94z\"/><path d=\"M17.41 7.96l-1.37-1.37c-.4-.4-.92-.59-1.43-.59-.52 0-1.04.2-1.43.59L10.3 9.45l-7.72 7.72c-.78.78-.78 2.05 0 2.83L4 21.41c.39.39.9.59 1.41.59.51 0 1.02-.2 1.41-.59l7.78-7.78 2.81-2.81c.8-.78.8-2.07 0-2.86zM5.41 20L4 18.59l7.72-7.72 1.47 1.35L5.41 20z\"/>\n",
              "  </svg>\n",
              "      </button>\n",
              "      \n",
              "  <style>\n",
              "    .colab-df-container {\n",
              "      display:flex;\n",
              "      flex-wrap:wrap;\n",
              "      gap: 12px;\n",
              "    }\n",
              "\n",
              "    .colab-df-convert {\n",
              "      background-color: #E8F0FE;\n",
              "      border: none;\n",
              "      border-radius: 50%;\n",
              "      cursor: pointer;\n",
              "      display: none;\n",
              "      fill: #1967D2;\n",
              "      height: 32px;\n",
              "      padding: 0 0 0 0;\n",
              "      width: 32px;\n",
              "    }\n",
              "\n",
              "    .colab-df-convert:hover {\n",
              "      background-color: #E2EBFA;\n",
              "      box-shadow: 0px 1px 2px rgba(60, 64, 67, 0.3), 0px 1px 3px 1px rgba(60, 64, 67, 0.15);\n",
              "      fill: #174EA6;\n",
              "    }\n",
              "\n",
              "    [theme=dark] .colab-df-convert {\n",
              "      background-color: #3B4455;\n",
              "      fill: #D2E3FC;\n",
              "    }\n",
              "\n",
              "    [theme=dark] .colab-df-convert:hover {\n",
              "      background-color: #434B5C;\n",
              "      box-shadow: 0px 1px 3px 1px rgba(0, 0, 0, 0.15);\n",
              "      filter: drop-shadow(0px 1px 2px rgba(0, 0, 0, 0.3));\n",
              "      fill: #FFFFFF;\n",
              "    }\n",
              "  </style>\n",
              "\n",
              "      <script>\n",
              "        const buttonEl =\n",
              "          document.querySelector('#df-80f43c22-a95e-4947-9ebc-d76d131b9a44 button.colab-df-convert');\n",
              "        buttonEl.style.display =\n",
              "          google.colab.kernel.accessAllowed ? 'block' : 'none';\n",
              "\n",
              "        async function convertToInteractive(key) {\n",
              "          const element = document.querySelector('#df-80f43c22-a95e-4947-9ebc-d76d131b9a44');\n",
              "          const dataTable =\n",
              "            await google.colab.kernel.invokeFunction('convertToInteractive',\n",
              "                                                     [key], {});\n",
              "          if (!dataTable) return;\n",
              "\n",
              "          const docLinkHtml = 'Like what you see? Visit the ' +\n",
              "            '<a target=\"_blank\" href=https://colab.research.google.com/notebooks/data_table.ipynb>data table notebook</a>'\n",
              "            + ' to learn more about interactive tables.';\n",
              "          element.innerHTML = '';\n",
              "          dataTable['output_type'] = 'display_data';\n",
              "          await google.colab.output.renderOutput(dataTable, element);\n",
              "          const docLink = document.createElement('div');\n",
              "          docLink.innerHTML = docLinkHtml;\n",
              "          element.appendChild(docLink);\n",
              "        }\n",
              "      </script>\n",
              "    </div>\n",
              "  </div>\n",
              "  "
            ]
          },
          "metadata": {},
          "execution_count": 104
        }
      ]
    },
    {
      "cell_type": "markdown",
      "metadata": {
        "id": "Wii50wY3HsHB"
      },
      "source": [
        "# We're also done extracting SCR tonic signals 🥳 Save this to a file :) "
      ]
    }
  ],
  "metadata": {
    "colab": {
      "provenance": [],
      "toc_visible": true,
      "include_colab_link": true
    },
    "kernelspec": {
      "display_name": "Python 3.7.12 ('base')",
      "language": "python",
      "name": "python3"
    },
    "language_info": {
      "codemirror_mode": {
        "name": "ipython",
        "version": 3
      },
      "file_extension": ".py",
      "mimetype": "text/x-python",
      "name": "python",
      "nbconvert_exporter": "python",
      "pygments_lexer": "ipython3",
      "version": "3.7.12"
    },
    "vscode": {
      "interpreter": {
        "hash": "289de2d1509dffbfcb474e6fb6eeea37b5e4af0dae9725bde59f4e306451cdc6"
      }
    }
  },
  "nbformat": 4,
  "nbformat_minor": 0
}