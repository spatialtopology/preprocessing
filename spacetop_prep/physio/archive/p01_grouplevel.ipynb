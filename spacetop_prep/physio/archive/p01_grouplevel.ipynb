{
  "cells": [
    {
      "cell_type": "markdown",
      "metadata": {
        "colab_type": "text",
        "id": "view-in-github"
      },
      "source": [
        "<a href=\"https://colab.research.google.com/github/spatialtopology/spacetop-prep/blob/master/spacetop-prep/physio/spacetop_biopac_analysis_walkthrough.ipynb\" target=\"_parent\"><img src=\"https://colab.research.google.com/assets/colab-badge.svg\" alt=\"Open In Colab\"/></a>"
      ]
    },
    {
      "cell_type": "markdown",
      "metadata": {
        "id": "1J7fk9sBXS6O"
      },
      "source": [
        "<img src=\"https://user-images.githubusercontent.com/18406041/195505977-bfbf8e61-32d2-4ac7-b23d-192abde3dd1f.png\" alt=\"drawing\"  width = \"400\" align=\"right\" hspace=\"0px\" vspace=\"0px\"/>\n",
        "\n",
        "\n",
        "# Physio analysis with Neurokit\n",
        "\n",
        "\n",
        "\n",
        "#### To navigate, simply click on a cell and hit Shift + Enter.\n",
        "\n",
        "**The purpose of this notebook is to demonstrate:**\n",
        "1.   How to load in biopac acquisition files into a python environment\n",
        "2.   Which set of neurokit functions to use\n",
        "3.   A demonstration of an analysis (the effect of stimulus intensity on skin conductance response)\n",
        "\n",
        "<!-- \n",
        "\n",
        "<img height=\"60px\" src=\"https://colab.research.google.com/img/colab_favicon.ico\" > -->\n"
      ]
    },
    {
      "cell_type": "code",
      "execution_count": 1,
      "metadata": {
        "id": "rXqu5aFdX_N7"
      },
      "outputs": [],
      "source": [
        "__author__ = \"Heejung Jung, Isabel Neumann, Yaroslav Halchenko\"\n",
        "__copyright__ = \"Spatial Topology Project\"\n",
        "__credits__ = [\"\"] # people who reported bug fixes, made suggestions, etc. but did not actually write the code.\n",
        "__license__ = \"MIT\"\n",
        "__version__ = \"0.0.1\"\n",
        "__maintainer__ = \"Heejung Jung\"\n",
        "__email__ = \"heejung.jung.gr@dartmouth.edu\"\n",
        "__status__ = \"Development\""
      ]
    },
    {
      "cell_type": "markdown",
      "metadata": {
        "id": "EhyoXlg_Zfxw"
      },
      "source": [
        "If you encounter bugs, have any questions, or comments, please raise an issue in our GitHub repository: https://github.com/jungheejung/spacetop_biopac"
      ]
    },
    {
      "cell_type": "markdown",
      "metadata": {
        "id": "0lTzrawyYoHU"
      },
      "source": [
        "### Import packages \n"
      ]
    },
    {
      "cell_type": "code",
      "execution_count": 31,
      "metadata": {
        "id": "GENkA1yViqJH"
      },
      "outputs": [
        {
          "name": "stdout",
          "output_type": "stream",
          "text": [
            "Requirement already satisfied: neurokit2 in /Users/h/anaconda3/lib/python3.7/site-packages (0.2.2)\n",
            "Requirement already satisfied: scikit-learn>=1.0.0 in /Users/h/anaconda3/lib/python3.7/site-packages (from neurokit2) (1.0.2)\n",
            "Requirement already satisfied: pandas in /Users/h/anaconda3/lib/python3.7/site-packages (from neurokit2) (1.3.5)\n",
            "Requirement already satisfied: scipy in /Users/h/anaconda3/lib/python3.7/site-packages (from neurokit2) (1.7.3)\n",
            "Requirement already satisfied: numpy in /Users/h/anaconda3/lib/python3.7/site-packages (from neurokit2) (1.21.5)\n",
            "Requirement already satisfied: matplotlib in /Users/h/anaconda3/lib/python3.7/site-packages (from neurokit2) (3.5.3)\n",
            "Requirement already satisfied: threadpoolctl>=2.0.0 in /Users/h/anaconda3/lib/python3.7/site-packages (from scikit-learn>=1.0.0->neurokit2) (3.1.0)\n",
            "Requirement already satisfied: joblib>=0.11 in /Users/h/anaconda3/lib/python3.7/site-packages (from scikit-learn>=1.0.0->neurokit2) (1.1.0)\n",
            "Requirement already satisfied: pillow>=6.2.0 in /Users/h/anaconda3/lib/python3.7/site-packages (from matplotlib->neurokit2) (8.4.0)\n",
            "Requirement already satisfied: python-dateutil>=2.7 in /Users/h/anaconda3/lib/python3.7/site-packages (from matplotlib->neurokit2) (2.8.2)\n",
            "Requirement already satisfied: packaging>=20.0 in /Users/h/anaconda3/lib/python3.7/site-packages (from matplotlib->neurokit2) (21.3)\n",
            "Requirement already satisfied: pyparsing>=2.2.1 in /Users/h/anaconda3/lib/python3.7/site-packages (from matplotlib->neurokit2) (3.0.8)\n",
            "Requirement already satisfied: fonttools>=4.22.0 in /Users/h/anaconda3/lib/python3.7/site-packages (from matplotlib->neurokit2) (4.32.0)\n",
            "Requirement already satisfied: cycler>=0.10 in /Users/h/anaconda3/lib/python3.7/site-packages (from matplotlib->neurokit2) (0.11.0)\n",
            "Requirement already satisfied: kiwisolver>=1.0.1 in /Users/h/anaconda3/lib/python3.7/site-packages (from matplotlib->neurokit2) (1.4.2)\n",
            "Requirement already satisfied: pytz>=2017.3 in /Users/h/anaconda3/lib/python3.7/site-packages (from pandas->neurokit2) (2022.1)\n",
            "Requirement already satisfied: typing-extensions in /Users/h/anaconda3/lib/python3.7/site-packages (from kiwisolver>=1.0.1->matplotlib->neurokit2) (4.2.0)\n",
            "Requirement already satisfied: six>=1.5 in /Users/h/anaconda3/lib/python3.7/site-packages (from python-dateutil>=2.7->matplotlib->neurokit2) (1.16.0)\n",
            "Requirement already satisfied: bioread in /Users/h/anaconda3/lib/python3.7/site-packages (3.0.0)\n",
            "Requirement already satisfied: docopt>=0.6.1 in /Users/h/anaconda3/lib/python3.7/site-packages (from bioread) (0.6.2)\n",
            "Requirement already satisfied: numpy in /Users/h/anaconda3/lib/python3.7/site-packages (from bioread) (1.21.5)\n",
            "Requirement already satisfied: matplotlib in /Users/h/anaconda3/lib/python3.7/site-packages (3.5.3)\n",
            "Requirement already satisfied: packaging>=20.0 in /Users/h/anaconda3/lib/python3.7/site-packages (from matplotlib) (21.3)\n",
            "Requirement already satisfied: fonttools>=4.22.0 in /Users/h/anaconda3/lib/python3.7/site-packages (from matplotlib) (4.32.0)\n",
            "Requirement already satisfied: numpy>=1.17 in /Users/h/anaconda3/lib/python3.7/site-packages (from matplotlib) (1.21.5)\n",
            "Requirement already satisfied: pillow>=6.2.0 in /Users/h/anaconda3/lib/python3.7/site-packages (from matplotlib) (8.4.0)\n",
            "Requirement already satisfied: cycler>=0.10 in /Users/h/anaconda3/lib/python3.7/site-packages (from matplotlib) (0.11.0)\n",
            "Requirement already satisfied: kiwisolver>=1.0.1 in /Users/h/anaconda3/lib/python3.7/site-packages (from matplotlib) (1.4.2)\n",
            "Requirement already satisfied: python-dateutil>=2.7 in /Users/h/anaconda3/lib/python3.7/site-packages (from matplotlib) (2.8.2)\n",
            "Requirement already satisfied: pyparsing>=2.2.1 in /Users/h/anaconda3/lib/python3.7/site-packages (from matplotlib) (3.0.8)\n",
            "Requirement already satisfied: typing-extensions in /Users/h/anaconda3/lib/python3.7/site-packages (from kiwisolver>=1.0.1->matplotlib) (4.2.0)\n",
            "Requirement already satisfied: six>=1.5 in /Users/h/anaconda3/lib/python3.7/site-packages (from python-dateutil>=2.7->matplotlib) (1.16.0)\n"
          ]
        }
      ],
      "source": [
        "!pip install neurokit2\n",
        "!pip install bioread\n",
        "!{sys.executable} -m pip install matplotlib"
      ]
    },
    {
      "cell_type": "code",
      "execution_count": 34,
      "metadata": {
        "id": "XWDipLakYqyX"
      },
      "outputs": [
        {
          "ename": "ModuleNotFoundError",
          "evalue": "No module named 'matplotlib_inline'",
          "output_type": "error",
          "traceback": [
            "\u001b[0;31m---------------------------------------------------------------------------\u001b[0m",
            "\u001b[0;31mModuleNotFoundError\u001b[0m                       Traceback (most recent call last)",
            "\u001b[0;32m/var/folders/w8/z3vy42z17hq5gc9r_5hzsgxw0000gn/T/ipykernel_60897/1993313883.py\u001b[0m in \u001b[0;36m<module>\u001b[0;34m\u001b[0m\n\u001b[1;32m     12\u001b[0m \u001b[0mplt\u001b[0m\u001b[0;34m.\u001b[0m\u001b[0mrcParams\u001b[0m\u001b[0;34m[\u001b[0m\u001b[0;34m'font.size'\u001b[0m\u001b[0;34m]\u001b[0m\u001b[0;34m=\u001b[0m \u001b[0;36m14\u001b[0m\u001b[0;34m\u001b[0m\u001b[0;34m\u001b[0m\u001b[0m\n\u001b[1;32m     13\u001b[0m \u001b[0;34m\u001b[0m\u001b[0m\n\u001b[0;32m---> 14\u001b[0;31m \u001b[0mget_ipython\u001b[0m\u001b[0;34m(\u001b[0m\u001b[0;34m)\u001b[0m\u001b[0;34m.\u001b[0m\u001b[0mrun_line_magic\u001b[0m\u001b[0;34m(\u001b[0m\u001b[0;34m'matplotlib'\u001b[0m\u001b[0;34m,\u001b[0m \u001b[0;34m'inline'\u001b[0m\u001b[0;34m)\u001b[0m\u001b[0;34m\u001b[0m\u001b[0;34m\u001b[0m\u001b[0m\n\u001b[0m",
            "\u001b[0;32m~/anaconda3/lib/python3.7/site-packages/IPython/core/interactiveshell.py\u001b[0m in \u001b[0;36mrun_line_magic\u001b[0;34m(self, magic_name, line, _stack_depth)\u001b[0m\n\u001b[1;32m   2405\u001b[0m                 \u001b[0mkwargs\u001b[0m\u001b[0;34m[\u001b[0m\u001b[0;34m'local_ns'\u001b[0m\u001b[0;34m]\u001b[0m \u001b[0;34m=\u001b[0m \u001b[0mself\u001b[0m\u001b[0;34m.\u001b[0m\u001b[0mget_local_scope\u001b[0m\u001b[0;34m(\u001b[0m\u001b[0mstack_depth\u001b[0m\u001b[0;34m)\u001b[0m\u001b[0;34m\u001b[0m\u001b[0;34m\u001b[0m\u001b[0m\n\u001b[1;32m   2406\u001b[0m             \u001b[0;32mwith\u001b[0m \u001b[0mself\u001b[0m\u001b[0;34m.\u001b[0m\u001b[0mbuiltin_trap\u001b[0m\u001b[0;34m:\u001b[0m\u001b[0;34m\u001b[0m\u001b[0;34m\u001b[0m\u001b[0m\n\u001b[0;32m-> 2407\u001b[0;31m                 \u001b[0mresult\u001b[0m \u001b[0;34m=\u001b[0m \u001b[0mfn\u001b[0m\u001b[0;34m(\u001b[0m\u001b[0;34m*\u001b[0m\u001b[0margs\u001b[0m\u001b[0;34m,\u001b[0m \u001b[0;34m**\u001b[0m\u001b[0mkwargs\u001b[0m\u001b[0;34m)\u001b[0m\u001b[0;34m\u001b[0m\u001b[0;34m\u001b[0m\u001b[0m\n\u001b[0m\u001b[1;32m   2408\u001b[0m             \u001b[0;32mreturn\u001b[0m \u001b[0mresult\u001b[0m\u001b[0;34m\u001b[0m\u001b[0;34m\u001b[0m\u001b[0m\n\u001b[1;32m   2409\u001b[0m \u001b[0;34m\u001b[0m\u001b[0m\n",
            "\u001b[0;32m~/anaconda3/lib/python3.7/site-packages/decorator.py\u001b[0m in \u001b[0;36mfun\u001b[0;34m(*args, **kw)\u001b[0m\n\u001b[1;32m    230\u001b[0m             \u001b[0;32mif\u001b[0m \u001b[0;32mnot\u001b[0m \u001b[0mkwsyntax\u001b[0m\u001b[0;34m:\u001b[0m\u001b[0;34m\u001b[0m\u001b[0;34m\u001b[0m\u001b[0m\n\u001b[1;32m    231\u001b[0m                 \u001b[0margs\u001b[0m\u001b[0;34m,\u001b[0m \u001b[0mkw\u001b[0m \u001b[0;34m=\u001b[0m \u001b[0mfix\u001b[0m\u001b[0;34m(\u001b[0m\u001b[0margs\u001b[0m\u001b[0;34m,\u001b[0m \u001b[0mkw\u001b[0m\u001b[0;34m,\u001b[0m \u001b[0msig\u001b[0m\u001b[0;34m)\u001b[0m\u001b[0;34m\u001b[0m\u001b[0;34m\u001b[0m\u001b[0m\n\u001b[0;32m--> 232\u001b[0;31m             \u001b[0;32mreturn\u001b[0m \u001b[0mcaller\u001b[0m\u001b[0;34m(\u001b[0m\u001b[0mfunc\u001b[0m\u001b[0;34m,\u001b[0m \u001b[0;34m*\u001b[0m\u001b[0;34m(\u001b[0m\u001b[0mextras\u001b[0m \u001b[0;34m+\u001b[0m \u001b[0margs\u001b[0m\u001b[0;34m)\u001b[0m\u001b[0;34m,\u001b[0m \u001b[0;34m**\u001b[0m\u001b[0mkw\u001b[0m\u001b[0;34m)\u001b[0m\u001b[0;34m\u001b[0m\u001b[0;34m\u001b[0m\u001b[0m\n\u001b[0m\u001b[1;32m    233\u001b[0m     \u001b[0mfun\u001b[0m\u001b[0;34m.\u001b[0m\u001b[0m__name__\u001b[0m \u001b[0;34m=\u001b[0m \u001b[0mfunc\u001b[0m\u001b[0;34m.\u001b[0m\u001b[0m__name__\u001b[0m\u001b[0;34m\u001b[0m\u001b[0;34m\u001b[0m\u001b[0m\n\u001b[1;32m    234\u001b[0m     \u001b[0mfun\u001b[0m\u001b[0;34m.\u001b[0m\u001b[0m__doc__\u001b[0m \u001b[0;34m=\u001b[0m \u001b[0mfunc\u001b[0m\u001b[0;34m.\u001b[0m\u001b[0m__doc__\u001b[0m\u001b[0;34m\u001b[0m\u001b[0;34m\u001b[0m\u001b[0m\n",
            "\u001b[0;32m~/anaconda3/lib/python3.7/site-packages/IPython/core/magic.py\u001b[0m in \u001b[0;36m<lambda>\u001b[0;34m(f, *a, **k)\u001b[0m\n\u001b[1;32m    185\u001b[0m     \u001b[0;31m# but it's overkill for just that one bit of state.\u001b[0m\u001b[0;34m\u001b[0m\u001b[0;34m\u001b[0m\u001b[0;34m\u001b[0m\u001b[0m\n\u001b[1;32m    186\u001b[0m     \u001b[0;32mdef\u001b[0m \u001b[0mmagic_deco\u001b[0m\u001b[0;34m(\u001b[0m\u001b[0marg\u001b[0m\u001b[0;34m)\u001b[0m\u001b[0;34m:\u001b[0m\u001b[0;34m\u001b[0m\u001b[0;34m\u001b[0m\u001b[0m\n\u001b[0;32m--> 187\u001b[0;31m         \u001b[0mcall\u001b[0m \u001b[0;34m=\u001b[0m \u001b[0;32mlambda\u001b[0m \u001b[0mf\u001b[0m\u001b[0;34m,\u001b[0m \u001b[0;34m*\u001b[0m\u001b[0ma\u001b[0m\u001b[0;34m,\u001b[0m \u001b[0;34m**\u001b[0m\u001b[0mk\u001b[0m\u001b[0;34m:\u001b[0m \u001b[0mf\u001b[0m\u001b[0;34m(\u001b[0m\u001b[0;34m*\u001b[0m\u001b[0ma\u001b[0m\u001b[0;34m,\u001b[0m \u001b[0;34m**\u001b[0m\u001b[0mk\u001b[0m\u001b[0;34m)\u001b[0m\u001b[0;34m\u001b[0m\u001b[0;34m\u001b[0m\u001b[0m\n\u001b[0m\u001b[1;32m    188\u001b[0m \u001b[0;34m\u001b[0m\u001b[0m\n\u001b[1;32m    189\u001b[0m         \u001b[0;32mif\u001b[0m \u001b[0mcallable\u001b[0m\u001b[0;34m(\u001b[0m\u001b[0marg\u001b[0m\u001b[0;34m)\u001b[0m\u001b[0;34m:\u001b[0m\u001b[0;34m\u001b[0m\u001b[0;34m\u001b[0m\u001b[0m\n",
            "\u001b[0;32m~/anaconda3/lib/python3.7/site-packages/IPython/core/magics/pylab.py\u001b[0m in \u001b[0;36mmatplotlib\u001b[0;34m(self, line)\u001b[0m\n\u001b[1;32m     97\u001b[0m             \u001b[0mprint\u001b[0m\u001b[0;34m(\u001b[0m\u001b[0;34m\"Available matplotlib backends: %s\"\u001b[0m \u001b[0;34m%\u001b[0m \u001b[0mbackends_list\u001b[0m\u001b[0;34m)\u001b[0m\u001b[0;34m\u001b[0m\u001b[0;34m\u001b[0m\u001b[0m\n\u001b[1;32m     98\u001b[0m         \u001b[0;32melse\u001b[0m\u001b[0;34m:\u001b[0m\u001b[0;34m\u001b[0m\u001b[0;34m\u001b[0m\u001b[0m\n\u001b[0;32m---> 99\u001b[0;31m             \u001b[0mgui\u001b[0m\u001b[0;34m,\u001b[0m \u001b[0mbackend\u001b[0m \u001b[0;34m=\u001b[0m \u001b[0mself\u001b[0m\u001b[0;34m.\u001b[0m\u001b[0mshell\u001b[0m\u001b[0;34m.\u001b[0m\u001b[0menable_matplotlib\u001b[0m\u001b[0;34m(\u001b[0m\u001b[0margs\u001b[0m\u001b[0;34m.\u001b[0m\u001b[0mgui\u001b[0m\u001b[0;34m.\u001b[0m\u001b[0mlower\u001b[0m\u001b[0;34m(\u001b[0m\u001b[0;34m)\u001b[0m \u001b[0;32mif\u001b[0m \u001b[0misinstance\u001b[0m\u001b[0;34m(\u001b[0m\u001b[0margs\u001b[0m\u001b[0;34m.\u001b[0m\u001b[0mgui\u001b[0m\u001b[0;34m,\u001b[0m \u001b[0mstr\u001b[0m\u001b[0;34m)\u001b[0m \u001b[0;32melse\u001b[0m \u001b[0margs\u001b[0m\u001b[0;34m.\u001b[0m\u001b[0mgui\u001b[0m\u001b[0;34m)\u001b[0m\u001b[0;34m\u001b[0m\u001b[0;34m\u001b[0m\u001b[0m\n\u001b[0m\u001b[1;32m    100\u001b[0m             \u001b[0mself\u001b[0m\u001b[0;34m.\u001b[0m\u001b[0m_show_matplotlib_backend\u001b[0m\u001b[0;34m(\u001b[0m\u001b[0margs\u001b[0m\u001b[0;34m.\u001b[0m\u001b[0mgui\u001b[0m\u001b[0;34m,\u001b[0m \u001b[0mbackend\u001b[0m\u001b[0;34m)\u001b[0m\u001b[0;34m\u001b[0m\u001b[0;34m\u001b[0m\u001b[0m\n\u001b[1;32m    101\u001b[0m \u001b[0;34m\u001b[0m\u001b[0m\n",
            "\u001b[0;32m~/anaconda3/lib/python3.7/site-packages/IPython/core/interactiveshell.py\u001b[0m in \u001b[0;36menable_matplotlib\u001b[0;34m(self, gui)\u001b[0m\n\u001b[1;32m   3598\u001b[0m         \"\"\"\n\u001b[1;32m   3599\u001b[0m         \u001b[0;32mfrom\u001b[0m \u001b[0mIPython\u001b[0m\u001b[0;34m.\u001b[0m\u001b[0mcore\u001b[0m \u001b[0;32mimport\u001b[0m \u001b[0mpylabtools\u001b[0m \u001b[0;32mas\u001b[0m \u001b[0mpt\u001b[0m\u001b[0;34m\u001b[0m\u001b[0;34m\u001b[0m\u001b[0m\n\u001b[0;32m-> 3600\u001b[0;31m         \u001b[0;32mfrom\u001b[0m \u001b[0mmatplotlib_inline\u001b[0m\u001b[0;34m.\u001b[0m\u001b[0mbackend_inline\u001b[0m \u001b[0;32mimport\u001b[0m \u001b[0mconfigure_inline_support\u001b[0m\u001b[0;34m\u001b[0m\u001b[0;34m\u001b[0m\u001b[0m\n\u001b[0m\u001b[1;32m   3601\u001b[0m         \u001b[0mgui\u001b[0m\u001b[0;34m,\u001b[0m \u001b[0mbackend\u001b[0m \u001b[0;34m=\u001b[0m \u001b[0mpt\u001b[0m\u001b[0;34m.\u001b[0m\u001b[0mfind_gui_and_backend\u001b[0m\u001b[0;34m(\u001b[0m\u001b[0mgui\u001b[0m\u001b[0;34m,\u001b[0m \u001b[0mself\u001b[0m\u001b[0;34m.\u001b[0m\u001b[0mpylab_gui_select\u001b[0m\u001b[0;34m)\u001b[0m\u001b[0;34m\u001b[0m\u001b[0;34m\u001b[0m\u001b[0m\n\u001b[1;32m   3602\u001b[0m \u001b[0;34m\u001b[0m\u001b[0m\n",
            "\u001b[0;31mModuleNotFoundError\u001b[0m: No module named 'matplotlib_inline'"
          ]
        }
      ],
      "source": [
        "import neurokit2 as nk\n",
        "import pandas as pd\n",
        "import numpy as np\n",
        "import matplotlib.pyplot as plt\n",
        "import os, glob, sys\n",
        "from pathlib import Path\n",
        "from os.path import join\n",
        "import itertools\n",
        "from statistics import mean\n",
        "\n",
        "plt.rcParams['figure.figsize'] = [15, 5]  # Bigger images\n",
        "plt.rcParams['font.size']= 14\n",
        "\n",
        "%matplotlib inline"
      ]
    },
    {
      "cell_type": "code",
      "execution_count": 5,
      "metadata": {
        "colab": {
          "base_uri": "https://localhost:8080/"
        },
        "id": "jAPfJMqa8gT7",
        "outputId": "a3091b01-d6c0-430f-e1e3-94470274ab96"
      },
      "outputs": [
        {
          "name": "stdout",
          "output_type": "stream",
          "text": [
            "Cloning into 'spacetop-prep'...\n",
            "remote: Enumerating objects: 1879, done.\u001b[K\n",
            "remote: Counting objects: 100% (409/409), done.\u001b[K\n",
            "remote: Compressing objects: 100% (203/203), done.\u001b[K\n",
            "remote: Total 1879 (delta 303), reused 287 (delta 200), pack-reused 1470\u001b[K\n",
            "Receiving objects: 100% (1879/1879), 6.12 MiB | 11.93 MiB/s, done.\n",
            "Resolving deltas: 100% (1268/1268), done.\n"
          ]
        }
      ],
      "source": [
        "!git clone https://github.com/spatialtopology/spacetop-prep.git"
      ]
    },
    {
      "cell_type": "code",
      "execution_count": 7,
      "metadata": {},
      "outputs": [],
      "source": [
        "from spacetop_prep.physio import utils"
      ]
    },
    {
      "cell_type": "markdown",
      "metadata": {
        "id": "oIdGu-03cAJb"
      },
      "source": [
        "## 1.Download example dataset \n",
        "(spacetop cue-expectancy task, sub-0051, ses-03, run-02)"
      ]
    },
    {
      "cell_type": "code",
      "execution_count": null,
      "metadata": {
        "id": "0nO0NYprhZa6"
      },
      "outputs": [],
      "source": [
        "!gdown 1SMnCANtc3LuocGTFq1d7ZrzlchWb_24v\n",
        "!unzip /content/example_data.zip"
      ]
    },
    {
      "attachments": {},
      "cell_type": "markdown",
      "metadata": {
        "id": "c8Nuyy3TYONh"
      },
      "source": [
        "## 2.Load data\n",
        "load the data in demo directory. Also load corresponding behavioral file"
      ]
    },
    {
      "cell_type": "code",
      "execution_count": 22,
      "metadata": {},
      "outputs": [
        {
          "name": "stdout",
          "output_type": "stream",
          "text": [
            "/Users/h/Documents/projects_local/spacetop-prep/spacetop_prep/physio\n",
            "['sub-0051']\n",
            "['ses-01']\n",
            "['run-02-pain']\n"
          ]
        }
      ],
      "source": [
        "pwd = os.getcwd()\n",
        "print(pwd)\n",
        "demo_dir = join(pwd, 'demo', 'data', 'physio03_bids')\n",
        "physio_fname = 'sub-0051_ses-01_task-cue_run-02-pain_recording-ppg-eda-trigger_physio.tsv'\n",
        "sub = utils.initialize.extract_bids(physio_fname, 'sub')\n",
        "ses = utils.initialize.extract_bids(physio_fname, 'ses')\n",
        "run = utils.initialize.extract_bids(physio_fname, 'run')\n",
        "physio_fpath = join(demo_dir, sub, ses, physio_fname)\n",
        "beh_fname = glob.glob(join(demo_dir, sub, ses, f\"{sub}_{ses}_task-social_{run}*_beh.csv\"), recursive = True)[0]"
      ]
    },
    {
      "cell_type": "code",
      "execution_count": 23,
      "metadata": {
        "colab": {
          "base_uri": "https://localhost:8080/"
        },
        "id": "ZdQIijuCmHtq",
        "outputId": "bf621a3e-1b29-4d5a-9245-3b39939f1db6"
      },
      "outputs": [
        {
          "name": "stdout",
          "output_type": "stream",
          "text": [
            "load physio data...\n",
            "check physio data columns:  Index(['physio_eda', 'physio_ppg', 'trigger_mri', 'trigger_heat',\n",
            "       'event_experimentduration', 'event_fixation', 'event_cue',\n",
            "       'event_expectrating', 'event_stimuli', 'event_actualrating'],\n",
            "      dtype='object')\n"
          ]
        }
      ],
      "source": [
        "print(\"load physio data...\")\n",
        "physio_df = pd.read_csv(physio_fpath, sep='\\t')\n",
        "print(\"check physio data columns: \",physio_df.columns)\n",
        "\n",
        "beh_df = pd.read_csv(beh_fname)"
      ]
    },
    {
      "cell_type": "markdown",
      "metadata": {
        "id": "Avc7gNblWgx7"
      },
      "source": [
        "> *   We're going to harmonize the column names before we do any data analysis\n",
        "> *   Dictionary structure is {`old column name`: `new column name`, ... }\n",
        "> *   *Mind you, this was named before the CANlab discussed column names across physio data analysis* "
      ]
    },
    {
      "cell_type": "code",
      "execution_count": 24,
      "metadata": {
        "id": "rSu_L7Z1We6m"
      },
      "outputs": [],
      "source": [
        "dict_column = {\n",
        "    'fMRI Trigger - CBLCFMA - Current Feedba':'trigger_mri',\n",
        "    'TSA2 TTL - CBLCFMA - Current Feedback M':'trigger_heat',\n",
        "    'Skin Conductance (EDA) - EDA100C-MRI':'physio_eda',\n",
        "    'Pulse (PPG) - PPG100C':'physio_ppg',\n",
        "    'trigger': 'event_experimentduration',\n",
        "    'fixation': 'event_fixation',\n",
        "    'cue': 'event_cue',\n",
        "    'expect': 'event_expectrating',\n",
        "    'administer': 'event_stimuli',\n",
        "    'actual': 'event_actualrating',\n",
        "}\n",
        "physio_df.rename(columns=dict_column, inplace=True)"
      ]
    },
    {
      "cell_type": "code",
      "execution_count": 25,
      "metadata": {
        "colab": {
          "base_uri": "https://localhost:8080/"
        },
        "id": "DQd7nmTfWyvk",
        "outputId": "0b9e3efc-1f8a-44d2-e1e7-3451d72de1ee"
      },
      "outputs": [
        {
          "data": {
            "text/plain": [
              "Index(['physio_eda', 'physio_ppg', 'trigger_mri', 'trigger_heat',\n",
              "       'event_experimentduration', 'event_fixation', 'event_cue',\n",
              "       'event_expectrating', 'event_stimuli', 'event_actualrating'],\n",
              "      dtype='object')"
            ]
          },
          "execution_count": 25,
          "metadata": {},
          "output_type": "execute_result"
        }
      ],
      "source": [
        "physio_df.columns\n"
      ]
    },
    {
      "cell_type": "markdown",
      "metadata": {
        "id": "3wQvgyJ3mmXR"
      },
      "source": [
        "## +Note about data structure\n",
        "\n",
        "\n",
        "\n",
        "\n"
      ]
    },
    {
      "cell_type": "markdown",
      "metadata": {
        "id": "b6BSeshI8toz"
      },
      "source": [
        "> In spacetop, we collected all 6 runs in one acquisition file. In between runs, data collection stopped; we resumed again before MRtrigger. \n",
        "> As you can see from the output above, we have a number of channels recorded in this physio file.\n",
        "\n",
        "**Description of the channels**\n",
        "\n",
        "**A. Two Physio (analog) channels**\n",
        "1.   **`physio_eda`** Skin  Conductance (EDA)\n",
        "2.   **`physio_ppg`** Pulse (PPG)\n",
        "\n",
        "**B. Digital channels**<br> we toggled the channels whenever  MATlab-stim PC transitioned to a new event. In other words, we have boxcar signals for whenever an event was displayed on screen.\n",
        "\n",
        "1.   **`event_experimentduration`**: when the experiment started/finished, i.e. one boxcar for duration of experiment\n",
        "2.   **`event_fixation`**: when the fixation was present on screen\n",
        "3.   **`event_cue`**: when the cue was present on screen (1s per trial, 2 levels of high vs. low)\n",
        "4.   **`event_expectrating`**: when the participant saw the \"expect\" keyword until they rated their expectation ratings for the upcoming stimulus\n",
        "5.   **`event_stimuli`**: when the participant undergoes the stimulus delivery (5s per trial; 9s for pain run, 5s plateau; 3 levels of high vs. med vs. low stimulus intensity)\n",
        "6.   **`event_actualrating`**:  when the participant saw the \"actual\" keyword until they rated their actual ratings for the experienced stimulus\n",
        "\n",
        "**C. TTL channels**\n",
        "\n",
        "1.   **`trigger_mri`**: TTl signals from the radio-frequency (RF) pulses, recorded in columns. In this study, we would have a TTL for every .46 sec.\n",
        "2.   **`trigger_heat`**: Only for pain runs. We recorded the TTL signals for every pain stimulus. 1) initiation of pain stimulus 2) time it reached intended temperature (beginning of plateau), 3) time it terminated intended termperature (end of pleateau), and 4) return to baseline temperatuer of 32 degrees"
      ]
    },
    {
      "cell_type": "code",
      "execution_count": 33,
      "metadata": {
        "colab": {
          "base_uri": "https://localhost:8080/",
          "height": 359
        },
        "id": "yjTt-ef_e8EA",
        "outputId": "3ca09677-3e7e-44c3-b4f8-4d6789e855a3"
      },
      "outputs": [
        {
          "ename": "ModuleNotFoundError",
          "evalue": "No module named 'matplotlib_inline'",
          "output_type": "error",
          "traceback": [
            "\u001b[0;31m---------------------------------------------------------------------------\u001b[0m",
            "\u001b[0;31mModuleNotFoundError\u001b[0m                       Traceback (most recent call last)",
            "\u001b[0;32m/var/folders/w8/z3vy42z17hq5gc9r_5hzsgxw0000gn/T/ipykernel_60897/2384368320.py\u001b[0m in \u001b[0;36m<module>\u001b[0;34m\u001b[0m\n\u001b[1;32m      1\u001b[0m physio_df[['trigger_mri', 'physio_eda', 'physio_ppg', 'trigger_heat',\n\u001b[0;32m----> 2\u001b[0;31m            'event_cue', 'event_expectrating', 'event_stimuli', 'event_actualrating']].plot()\n\u001b[0m",
            "\u001b[0;32m~/anaconda3/lib/python3.7/site-packages/pandas/plotting/_core.py\u001b[0m in \u001b[0;36m__call__\u001b[0;34m(self, *args, **kwargs)\u001b[0m\n\u001b[1;32m    970\u001b[0m                     \u001b[0mdata\u001b[0m\u001b[0;34m.\u001b[0m\u001b[0mcolumns\u001b[0m \u001b[0;34m=\u001b[0m \u001b[0mlabel_name\u001b[0m\u001b[0;34m\u001b[0m\u001b[0;34m\u001b[0m\u001b[0m\n\u001b[1;32m    971\u001b[0m \u001b[0;34m\u001b[0m\u001b[0m\n\u001b[0;32m--> 972\u001b[0;31m         \u001b[0;32mreturn\u001b[0m \u001b[0mplot_backend\u001b[0m\u001b[0;34m.\u001b[0m\u001b[0mplot\u001b[0m\u001b[0;34m(\u001b[0m\u001b[0mdata\u001b[0m\u001b[0;34m,\u001b[0m \u001b[0mkind\u001b[0m\u001b[0;34m=\u001b[0m\u001b[0mkind\u001b[0m\u001b[0;34m,\u001b[0m \u001b[0;34m**\u001b[0m\u001b[0mkwargs\u001b[0m\u001b[0;34m)\u001b[0m\u001b[0;34m\u001b[0m\u001b[0;34m\u001b[0m\u001b[0m\n\u001b[0m\u001b[1;32m    973\u001b[0m \u001b[0;34m\u001b[0m\u001b[0m\n\u001b[1;32m    974\u001b[0m     \u001b[0m__call__\u001b[0m\u001b[0;34m.\u001b[0m\u001b[0m__doc__\u001b[0m \u001b[0;34m=\u001b[0m \u001b[0m__doc__\u001b[0m\u001b[0;34m\u001b[0m\u001b[0;34m\u001b[0m\u001b[0m\n",
            "\u001b[0;32m~/anaconda3/lib/python3.7/site-packages/pandas/plotting/_matplotlib/__init__.py\u001b[0m in \u001b[0;36mplot\u001b[0;34m(data, kind, **kwargs)\u001b[0m\n\u001b[1;32m     69\u001b[0m             \u001b[0mkwargs\u001b[0m\u001b[0;34m[\u001b[0m\u001b[0;34m\"ax\"\u001b[0m\u001b[0;34m]\u001b[0m \u001b[0;34m=\u001b[0m \u001b[0mgetattr\u001b[0m\u001b[0;34m(\u001b[0m\u001b[0max\u001b[0m\u001b[0;34m,\u001b[0m \u001b[0;34m\"left_ax\"\u001b[0m\u001b[0;34m,\u001b[0m \u001b[0max\u001b[0m\u001b[0;34m)\u001b[0m\u001b[0;34m\u001b[0m\u001b[0;34m\u001b[0m\u001b[0m\n\u001b[1;32m     70\u001b[0m     \u001b[0mplot_obj\u001b[0m \u001b[0;34m=\u001b[0m \u001b[0mPLOT_CLASSES\u001b[0m\u001b[0;34m[\u001b[0m\u001b[0mkind\u001b[0m\u001b[0;34m]\u001b[0m\u001b[0;34m(\u001b[0m\u001b[0mdata\u001b[0m\u001b[0;34m,\u001b[0m \u001b[0;34m**\u001b[0m\u001b[0mkwargs\u001b[0m\u001b[0;34m)\u001b[0m\u001b[0;34m\u001b[0m\u001b[0;34m\u001b[0m\u001b[0m\n\u001b[0;32m---> 71\u001b[0;31m     \u001b[0mplot_obj\u001b[0m\u001b[0;34m.\u001b[0m\u001b[0mgenerate\u001b[0m\u001b[0;34m(\u001b[0m\u001b[0;34m)\u001b[0m\u001b[0;34m\u001b[0m\u001b[0;34m\u001b[0m\u001b[0m\n\u001b[0m\u001b[1;32m     72\u001b[0m     \u001b[0mplot_obj\u001b[0m\u001b[0;34m.\u001b[0m\u001b[0mdraw\u001b[0m\u001b[0;34m(\u001b[0m\u001b[0;34m)\u001b[0m\u001b[0;34m\u001b[0m\u001b[0;34m\u001b[0m\u001b[0m\n\u001b[1;32m     73\u001b[0m     \u001b[0;32mreturn\u001b[0m \u001b[0mplot_obj\u001b[0m\u001b[0;34m.\u001b[0m\u001b[0mresult\u001b[0m\u001b[0;34m\u001b[0m\u001b[0;34m\u001b[0m\u001b[0m\n",
            "\u001b[0;32m~/anaconda3/lib/python3.7/site-packages/pandas/plotting/_matplotlib/core.py\u001b[0m in \u001b[0;36mgenerate\u001b[0;34m(self)\u001b[0m\n\u001b[1;32m    285\u001b[0m         \u001b[0mself\u001b[0m\u001b[0;34m.\u001b[0m\u001b[0m_args_adjust\u001b[0m\u001b[0;34m(\u001b[0m\u001b[0;34m)\u001b[0m\u001b[0;34m\u001b[0m\u001b[0;34m\u001b[0m\u001b[0m\n\u001b[1;32m    286\u001b[0m         \u001b[0mself\u001b[0m\u001b[0;34m.\u001b[0m\u001b[0m_compute_plot_data\u001b[0m\u001b[0;34m(\u001b[0m\u001b[0;34m)\u001b[0m\u001b[0;34m\u001b[0m\u001b[0;34m\u001b[0m\u001b[0m\n\u001b[0;32m--> 287\u001b[0;31m         \u001b[0mself\u001b[0m\u001b[0;34m.\u001b[0m\u001b[0m_setup_subplots\u001b[0m\u001b[0;34m(\u001b[0m\u001b[0;34m)\u001b[0m\u001b[0;34m\u001b[0m\u001b[0;34m\u001b[0m\u001b[0m\n\u001b[0m\u001b[1;32m    288\u001b[0m         \u001b[0mself\u001b[0m\u001b[0;34m.\u001b[0m\u001b[0m_make_plot\u001b[0m\u001b[0;34m(\u001b[0m\u001b[0;34m)\u001b[0m\u001b[0;34m\u001b[0m\u001b[0;34m\u001b[0m\u001b[0m\n\u001b[1;32m    289\u001b[0m         \u001b[0mself\u001b[0m\u001b[0;34m.\u001b[0m\u001b[0m_add_table\u001b[0m\u001b[0;34m(\u001b[0m\u001b[0;34m)\u001b[0m\u001b[0;34m\u001b[0m\u001b[0;34m\u001b[0m\u001b[0m\n",
            "\u001b[0;32m~/anaconda3/lib/python3.7/site-packages/pandas/plotting/_matplotlib/core.py\u001b[0m in \u001b[0;36m_setup_subplots\u001b[0;34m(self)\u001b[0m\n\u001b[1;32m    343\u001b[0m         \u001b[0;32melse\u001b[0m\u001b[0;34m:\u001b[0m\u001b[0;34m\u001b[0m\u001b[0;34m\u001b[0m\u001b[0m\n\u001b[1;32m    344\u001b[0m             \u001b[0;32mif\u001b[0m \u001b[0mself\u001b[0m\u001b[0;34m.\u001b[0m\u001b[0max\u001b[0m \u001b[0;32mis\u001b[0m \u001b[0;32mNone\u001b[0m\u001b[0;34m:\u001b[0m\u001b[0;34m\u001b[0m\u001b[0;34m\u001b[0m\u001b[0m\n\u001b[0;32m--> 345\u001b[0;31m                 \u001b[0mfig\u001b[0m \u001b[0;34m=\u001b[0m \u001b[0mself\u001b[0m\u001b[0;34m.\u001b[0m\u001b[0mplt\u001b[0m\u001b[0;34m.\u001b[0m\u001b[0mfigure\u001b[0m\u001b[0;34m(\u001b[0m\u001b[0mfigsize\u001b[0m\u001b[0;34m=\u001b[0m\u001b[0mself\u001b[0m\u001b[0;34m.\u001b[0m\u001b[0mfigsize\u001b[0m\u001b[0;34m)\u001b[0m\u001b[0;34m\u001b[0m\u001b[0;34m\u001b[0m\u001b[0m\n\u001b[0m\u001b[1;32m    346\u001b[0m                 \u001b[0maxes\u001b[0m \u001b[0;34m=\u001b[0m \u001b[0mfig\u001b[0m\u001b[0;34m.\u001b[0m\u001b[0madd_subplot\u001b[0m\u001b[0;34m(\u001b[0m\u001b[0;36m111\u001b[0m\u001b[0;34m)\u001b[0m\u001b[0;34m\u001b[0m\u001b[0;34m\u001b[0m\u001b[0m\n\u001b[1;32m    347\u001b[0m             \u001b[0;32melse\u001b[0m\u001b[0;34m:\u001b[0m\u001b[0;34m\u001b[0m\u001b[0;34m\u001b[0m\u001b[0m\n",
            "\u001b[0;32m~/anaconda3/lib/python3.7/site-packages/matplotlib/pyplot.py\u001b[0m in \u001b[0;36mfigure\u001b[0;34m(num, figsize, dpi, facecolor, edgecolor, frameon, FigureClass, clear, **kwargs)\u001b[0m\n\u001b[1;32m    807\u001b[0m             \u001b[0mnum\u001b[0m\u001b[0;34m,\u001b[0m \u001b[0mfigsize\u001b[0m\u001b[0;34m=\u001b[0m\u001b[0mfigsize\u001b[0m\u001b[0;34m,\u001b[0m \u001b[0mdpi\u001b[0m\u001b[0;34m=\u001b[0m\u001b[0mdpi\u001b[0m\u001b[0;34m,\u001b[0m\u001b[0;34m\u001b[0m\u001b[0;34m\u001b[0m\u001b[0m\n\u001b[1;32m    808\u001b[0m             \u001b[0mfacecolor\u001b[0m\u001b[0;34m=\u001b[0m\u001b[0mfacecolor\u001b[0m\u001b[0;34m,\u001b[0m \u001b[0medgecolor\u001b[0m\u001b[0;34m=\u001b[0m\u001b[0medgecolor\u001b[0m\u001b[0;34m,\u001b[0m \u001b[0mframeon\u001b[0m\u001b[0;34m=\u001b[0m\u001b[0mframeon\u001b[0m\u001b[0;34m,\u001b[0m\u001b[0;34m\u001b[0m\u001b[0;34m\u001b[0m\u001b[0m\n\u001b[0;32m--> 809\u001b[0;31m             FigureClass=FigureClass, **kwargs)\n\u001b[0m\u001b[1;32m    810\u001b[0m         \u001b[0mfig\u001b[0m \u001b[0;34m=\u001b[0m \u001b[0mmanager\u001b[0m\u001b[0;34m.\u001b[0m\u001b[0mcanvas\u001b[0m\u001b[0;34m.\u001b[0m\u001b[0mfigure\u001b[0m\u001b[0;34m\u001b[0m\u001b[0;34m\u001b[0m\u001b[0m\n\u001b[1;32m    811\u001b[0m         \u001b[0;32mif\u001b[0m \u001b[0mfig_label\u001b[0m\u001b[0;34m:\u001b[0m\u001b[0;34m\u001b[0m\u001b[0;34m\u001b[0m\u001b[0m\n",
            "\u001b[0;32m~/anaconda3/lib/python3.7/site-packages/matplotlib/pyplot.py\u001b[0m in \u001b[0;36mnew_figure_manager\u001b[0;34m(*args, **kwargs)\u001b[0m\n\u001b[1;32m    322\u001b[0m \u001b[0;32mdef\u001b[0m \u001b[0mnew_figure_manager\u001b[0m\u001b[0;34m(\u001b[0m\u001b[0;34m*\u001b[0m\u001b[0margs\u001b[0m\u001b[0;34m,\u001b[0m \u001b[0;34m**\u001b[0m\u001b[0mkwargs\u001b[0m\u001b[0;34m)\u001b[0m\u001b[0;34m:\u001b[0m\u001b[0;34m\u001b[0m\u001b[0;34m\u001b[0m\u001b[0m\n\u001b[1;32m    323\u001b[0m     \u001b[0;34m\"\"\"Create a new figure manager instance.\"\"\"\u001b[0m\u001b[0;34m\u001b[0m\u001b[0;34m\u001b[0m\u001b[0m\n\u001b[0;32m--> 324\u001b[0;31m     \u001b[0m_warn_if_gui_out_of_main_thread\u001b[0m\u001b[0;34m(\u001b[0m\u001b[0;34m)\u001b[0m\u001b[0;34m\u001b[0m\u001b[0;34m\u001b[0m\u001b[0m\n\u001b[0m\u001b[1;32m    325\u001b[0m     \u001b[0;32mreturn\u001b[0m \u001b[0m_get_backend_mod\u001b[0m\u001b[0;34m(\u001b[0m\u001b[0;34m)\u001b[0m\u001b[0;34m.\u001b[0m\u001b[0mnew_figure_manager\u001b[0m\u001b[0;34m(\u001b[0m\u001b[0;34m*\u001b[0m\u001b[0margs\u001b[0m\u001b[0;34m,\u001b[0m \u001b[0;34m**\u001b[0m\u001b[0mkwargs\u001b[0m\u001b[0;34m)\u001b[0m\u001b[0;34m\u001b[0m\u001b[0;34m\u001b[0m\u001b[0m\n\u001b[1;32m    326\u001b[0m \u001b[0;34m\u001b[0m\u001b[0m\n",
            "\u001b[0;32m~/anaconda3/lib/python3.7/site-packages/matplotlib/pyplot.py\u001b[0m in \u001b[0;36m_warn_if_gui_out_of_main_thread\u001b[0;34m()\u001b[0m\n\u001b[1;32m    312\u001b[0m \u001b[0;34m\u001b[0m\u001b[0m\n\u001b[1;32m    313\u001b[0m \u001b[0;32mdef\u001b[0m \u001b[0m_warn_if_gui_out_of_main_thread\u001b[0m\u001b[0;34m(\u001b[0m\u001b[0;34m)\u001b[0m\u001b[0;34m:\u001b[0m\u001b[0;34m\u001b[0m\u001b[0;34m\u001b[0m\u001b[0m\n\u001b[0;32m--> 314\u001b[0;31m     if (_get_required_interactive_framework(_get_backend_mod())\n\u001b[0m\u001b[1;32m    315\u001b[0m             and threading.current_thread() is not threading.main_thread()):\n\u001b[1;32m    316\u001b[0m         _api.warn_external(\n",
            "\u001b[0;32m~/anaconda3/lib/python3.7/site-packages/matplotlib/pyplot.py\u001b[0m in \u001b[0;36m_get_backend_mod\u001b[0;34m()\u001b[0m\n\u001b[1;32m    215\u001b[0m         \u001b[0;31m# will (re)import pyplot and then call switch_backend if we need to\u001b[0m\u001b[0;34m\u001b[0m\u001b[0;34m\u001b[0m\u001b[0;34m\u001b[0m\u001b[0m\n\u001b[1;32m    216\u001b[0m         \u001b[0;31m# resolve the auto sentinel)\u001b[0m\u001b[0;34m\u001b[0m\u001b[0;34m\u001b[0m\u001b[0;34m\u001b[0m\u001b[0m\n\u001b[0;32m--> 217\u001b[0;31m         \u001b[0mswitch_backend\u001b[0m\u001b[0;34m(\u001b[0m\u001b[0mdict\u001b[0m\u001b[0;34m.\u001b[0m\u001b[0m__getitem__\u001b[0m\u001b[0;34m(\u001b[0m\u001b[0mrcParams\u001b[0m\u001b[0;34m,\u001b[0m \u001b[0;34m\"backend\"\u001b[0m\u001b[0;34m)\u001b[0m\u001b[0;34m)\u001b[0m\u001b[0;34m\u001b[0m\u001b[0;34m\u001b[0m\u001b[0m\n\u001b[0m\u001b[1;32m    218\u001b[0m     \u001b[0;32mreturn\u001b[0m \u001b[0m_backend_mod\u001b[0m\u001b[0;34m\u001b[0m\u001b[0;34m\u001b[0m\u001b[0m\n\u001b[1;32m    219\u001b[0m \u001b[0;34m\u001b[0m\u001b[0m\n",
            "\u001b[0;32m~/anaconda3/lib/python3.7/site-packages/matplotlib/pyplot.py\u001b[0m in \u001b[0;36mswitch_backend\u001b[0;34m(newbackend)\u001b[0m\n\u001b[1;32m    280\u001b[0m     \u001b[0mbackend_name\u001b[0m \u001b[0;34m=\u001b[0m \u001b[0mcbook\u001b[0m\u001b[0;34m.\u001b[0m\u001b[0m_backend_module_name\u001b[0m\u001b[0;34m(\u001b[0m\u001b[0mnewbackend\u001b[0m\u001b[0;34m)\u001b[0m\u001b[0;34m\u001b[0m\u001b[0;34m\u001b[0m\u001b[0m\n\u001b[1;32m    281\u001b[0m \u001b[0;34m\u001b[0m\u001b[0m\n\u001b[0;32m--> 282\u001b[0;31m     \u001b[0;32mclass\u001b[0m \u001b[0mbackend_mod\u001b[0m\u001b[0;34m(\u001b[0m\u001b[0mmatplotlib\u001b[0m\u001b[0;34m.\u001b[0m\u001b[0mbackend_bases\u001b[0m\u001b[0;34m.\u001b[0m\u001b[0m_Backend\u001b[0m\u001b[0;34m)\u001b[0m\u001b[0;34m:\u001b[0m\u001b[0;34m\u001b[0m\u001b[0;34m\u001b[0m\u001b[0m\n\u001b[0m\u001b[1;32m    283\u001b[0m         \u001b[0mlocals\u001b[0m\u001b[0;34m(\u001b[0m\u001b[0;34m)\u001b[0m\u001b[0;34m.\u001b[0m\u001b[0mupdate\u001b[0m\u001b[0;34m(\u001b[0m\u001b[0mvars\u001b[0m\u001b[0;34m(\u001b[0m\u001b[0mimportlib\u001b[0m\u001b[0;34m.\u001b[0m\u001b[0mimport_module\u001b[0m\u001b[0;34m(\u001b[0m\u001b[0mbackend_name\u001b[0m\u001b[0;34m)\u001b[0m\u001b[0;34m)\u001b[0m\u001b[0;34m)\u001b[0m\u001b[0;34m\u001b[0m\u001b[0;34m\u001b[0m\u001b[0m\n\u001b[1;32m    284\u001b[0m \u001b[0;34m\u001b[0m\u001b[0m\n",
            "\u001b[0;32m~/anaconda3/lib/python3.7/site-packages/matplotlib/pyplot.py\u001b[0m in \u001b[0;36mbackend_mod\u001b[0;34m()\u001b[0m\n\u001b[1;32m    281\u001b[0m \u001b[0;34m\u001b[0m\u001b[0m\n\u001b[1;32m    282\u001b[0m     \u001b[0;32mclass\u001b[0m \u001b[0mbackend_mod\u001b[0m\u001b[0;34m(\u001b[0m\u001b[0mmatplotlib\u001b[0m\u001b[0;34m.\u001b[0m\u001b[0mbackend_bases\u001b[0m\u001b[0;34m.\u001b[0m\u001b[0m_Backend\u001b[0m\u001b[0;34m)\u001b[0m\u001b[0;34m:\u001b[0m\u001b[0;34m\u001b[0m\u001b[0;34m\u001b[0m\u001b[0m\n\u001b[0;32m--> 283\u001b[0;31m         \u001b[0mlocals\u001b[0m\u001b[0;34m(\u001b[0m\u001b[0;34m)\u001b[0m\u001b[0;34m.\u001b[0m\u001b[0mupdate\u001b[0m\u001b[0;34m(\u001b[0m\u001b[0mvars\u001b[0m\u001b[0;34m(\u001b[0m\u001b[0mimportlib\u001b[0m\u001b[0;34m.\u001b[0m\u001b[0mimport_module\u001b[0m\u001b[0;34m(\u001b[0m\u001b[0mbackend_name\u001b[0m\u001b[0;34m)\u001b[0m\u001b[0;34m)\u001b[0m\u001b[0;34m)\u001b[0m\u001b[0;34m\u001b[0m\u001b[0;34m\u001b[0m\u001b[0m\n\u001b[0m\u001b[1;32m    284\u001b[0m \u001b[0;34m\u001b[0m\u001b[0m\n\u001b[1;32m    285\u001b[0m     \u001b[0mrequired_framework\u001b[0m \u001b[0;34m=\u001b[0m \u001b[0m_get_required_interactive_framework\u001b[0m\u001b[0;34m(\u001b[0m\u001b[0mbackend_mod\u001b[0m\u001b[0;34m)\u001b[0m\u001b[0;34m\u001b[0m\u001b[0;34m\u001b[0m\u001b[0m\n",
            "\u001b[0;32m~/anaconda3/lib/python3.7/importlib/__init__.py\u001b[0m in \u001b[0;36mimport_module\u001b[0;34m(name, package)\u001b[0m\n\u001b[1;32m    125\u001b[0m                 \u001b[0;32mbreak\u001b[0m\u001b[0;34m\u001b[0m\u001b[0;34m\u001b[0m\u001b[0m\n\u001b[1;32m    126\u001b[0m             \u001b[0mlevel\u001b[0m \u001b[0;34m+=\u001b[0m \u001b[0;36m1\u001b[0m\u001b[0;34m\u001b[0m\u001b[0;34m\u001b[0m\u001b[0m\n\u001b[0;32m--> 127\u001b[0;31m     \u001b[0;32mreturn\u001b[0m \u001b[0m_bootstrap\u001b[0m\u001b[0;34m.\u001b[0m\u001b[0m_gcd_import\u001b[0m\u001b[0;34m(\u001b[0m\u001b[0mname\u001b[0m\u001b[0;34m[\u001b[0m\u001b[0mlevel\u001b[0m\u001b[0;34m:\u001b[0m\u001b[0;34m]\u001b[0m\u001b[0;34m,\u001b[0m \u001b[0mpackage\u001b[0m\u001b[0;34m,\u001b[0m \u001b[0mlevel\u001b[0m\u001b[0;34m)\u001b[0m\u001b[0;34m\u001b[0m\u001b[0;34m\u001b[0m\u001b[0m\n\u001b[0m\u001b[1;32m    128\u001b[0m \u001b[0;34m\u001b[0m\u001b[0m\n\u001b[1;32m    129\u001b[0m \u001b[0;34m\u001b[0m\u001b[0m\n",
            "\u001b[0;32m~/anaconda3/lib/python3.7/importlib/_bootstrap.py\u001b[0m in \u001b[0;36m_gcd_import\u001b[0;34m(name, package, level)\u001b[0m\n",
            "\u001b[0;32m~/anaconda3/lib/python3.7/importlib/_bootstrap.py\u001b[0m in \u001b[0;36m_find_and_load\u001b[0;34m(name, import_)\u001b[0m\n",
            "\u001b[0;32m~/anaconda3/lib/python3.7/importlib/_bootstrap.py\u001b[0m in \u001b[0;36m_find_and_load_unlocked\u001b[0;34m(name, import_)\u001b[0m\n",
            "\u001b[0;32m~/anaconda3/lib/python3.7/importlib/_bootstrap.py\u001b[0m in \u001b[0;36m_call_with_frames_removed\u001b[0;34m(f, *args, **kwds)\u001b[0m\n",
            "\u001b[0;32m~/anaconda3/lib/python3.7/importlib/_bootstrap.py\u001b[0m in \u001b[0;36m_gcd_import\u001b[0;34m(name, package, level)\u001b[0m\n",
            "\u001b[0;32m~/anaconda3/lib/python3.7/importlib/_bootstrap.py\u001b[0m in \u001b[0;36m_find_and_load\u001b[0;34m(name, import_)\u001b[0m\n",
            "\u001b[0;32m~/anaconda3/lib/python3.7/importlib/_bootstrap.py\u001b[0m in \u001b[0;36m_find_and_load_unlocked\u001b[0;34m(name, import_)\u001b[0m\n",
            "\u001b[0;31mModuleNotFoundError\u001b[0m: No module named 'matplotlib_inline'"
          ]
        }
      ],
      "source": [
        "physio_df[['trigger_mri', 'physio_eda', 'physio_ppg', 'trigger_heat',\n",
        "           'event_cue', 'event_expectrating', 'event_stimuli', 'event_actualrating']].plot()"
      ]
    },
    {
      "cell_type": "markdown",
      "metadata": {
        "id": "x0PTrlXDl5QL"
      },
      "source": [
        "> We'll first check if the dataframes look kosher. <br>\n",
        "Question: Do we see 6 data chunks?\n",
        "\n"
      ]
    },
    {
      "cell_type": "code",
      "execution_count": null,
      "metadata": {
        "colab": {
          "base_uri": "https://localhost:8080/",
          "height": 358
        },
        "id": "QoYgnWrJsbtH",
        "outputId": "35645046-0c1b-4b74-bc76-4e080f0fe0e5"
      },
      "outputs": [
        {
          "data": {
            "text/plain": [
              "<matplotlib.axes._subplots.AxesSubplot at 0x7f70a1ecd3d0>"
            ]
          },
          "execution_count": 11,
          "metadata": {},
          "output_type": "execute_result"
        },
        {
          "data": {
            "image/png": "[encoded data removed]",
            "text/plain": [
              "<Figure size 1080x360 with 1 Axes>"
            ]
          },
          "metadata": {
            "needs_background": "light"
          },
          "output_type": "display_data"
        }
      ],
      "source": [
        "physio_df['trigger_mri'].plot()"
      ]
    },
    {
      "cell_type": "markdown",
      "metadata": {
        "id": "DOgmujEVsXdW"
      },
      "source": [
        "> Question: Are the stimulus delivered for all 6 runs? (12 trials per run)"
      ]
    },
    {
      "cell_type": "code",
      "execution_count": null,
      "metadata": {
        "colab": {
          "base_uri": "https://localhost:8080/",
          "height": 358
        },
        "id": "71VbBl9Isz7j",
        "outputId": "52ac3dfd-c064-4bea-8b2e-82829f51cd43"
      },
      "outputs": [
        {
          "data": {
            "text/plain": [
              "<matplotlib.axes._subplots.AxesSubplot at 0x7f70a1e09790>"
            ]
          },
          "execution_count": 12,
          "metadata": {},
          "output_type": "execute_result"
        },
        {
          "data": {
            "image/png": "[encoded data removed]",
            "text/plain": [
              "<Figure size 1080x360 with 1 Axes>"
            ]
          },
          "metadata": {
            "needs_background": "light"
          },
          "output_type": "display_data"
        }
      ],
      "source": [
        "physio_df['event_stimuli'].plot()"
      ]
    },
    {
      "cell_type": "markdown",
      "metadata": {
        "id": "VIKbLwrfsX80"
      },
      "source": [
        "> Question: Do we see TSA2 TTLs for the pain runs?"
      ]
    },
    {
      "cell_type": "code",
      "execution_count": null,
      "metadata": {
        "colab": {
          "base_uri": "https://localhost:8080/",
          "height": 358
        },
        "id": "Chv6Po4Is6Rb",
        "outputId": "78b93a10-4028-41cf-c7ea-a0a1aedc34ca"
      },
      "outputs": [
        {
          "data": {
            "text/plain": [
              "<matplotlib.axes._subplots.AxesSubplot at 0x7f70a1945350>"
            ]
          },
          "execution_count": 13,
          "metadata": {},
          "output_type": "execute_result"
        },
        {
          "data": {
            "image/png": "[encoded data removed]",
            "text/plain": [
              "<Figure size 1080x360 with 1 Axes>"
            ]
          },
          "metadata": {
            "needs_background": "light"
          },
          "output_type": "display_data"
        }
      ],
      "source": [
        "physio_df['trigger_heat'].plot()"
      ]
    },
    {
      "cell_type": "markdown",
      "metadata": {
        "id": "Epzxo-xHtHJ4"
      },
      "source": [
        "## 3.Extract 1 run out of the 6"
      ]
    },
    {
      "cell_type": "markdown",
      "metadata": {
        "id": "PibBRu7v9pWT"
      },
      "source": [
        "> Here's a sample code"
      ]
    },
    {
      "cell_type": "code",
      "execution_count": null,
      "metadata": {
        "colab": {
          "base_uri": "https://localhost:8080/"
        },
        "id": "-3F43w6BtC3b",
        "outputId": "67286bda-71d9-44e0-d015-7562f089ef98"
      },
      "outputs": [
        {
          "name": "stdout",
          "output_type": "stream",
          "text": [
            "* indices of each run's start point 'start_df': \n",
            "\tInt64Index([43850, 890568, 1765932, 2603584, 3458812, 4302610], dtype='int64')\n",
            "* indices of each run's end point: 'stop_df': \n",
            "\tInt64Index([841528, 1688195, 2563573, 3401638, 4256488, 5100278], dtype='int64')\n"
          ]
        }
      ],
      "source": [
        "# Extract 1 run\n",
        "mid_val = (np.max(physio_df['event_experimentduration']) - np.min(physio_df['event_experimentduration']))/2\n",
        "physio_df.loc[physio_df['event_experimentduration'] > mid_val, 'fmri_trigger'] = 5\n",
        "physio_df.loc[physio_df['event_experimentduration'] <= mid_val, 'fmri_trigger'] = 0\n",
        "\n",
        "start_df = physio_df[physio_df['fmri_trigger'] > physio_df['fmri_trigger'].shift(1)].index\n",
        "stop_df = physio_df[physio_df['fmri_trigger'] < physio_df['fmri_trigger'].shift(1)].index\n",
        "print(f\"* indices of each run's start point 'start_df': \\n\\t{start_df}\")\n",
        "print(f\"* indices of each run's end point: 'stop_df': \\n\\t{stop_df}\") \n",
        "\n",
        "# Organize data: transition\n",
        "df_transition = pd.DataFrame({\n",
        "                        'start_df': start_df, \n",
        "                        'stop_df': stop_df\n",
        "                        })\n",
        "run_subset = physio_df[df_transition.start_df[run_num-1]: df_transition.stop_df[run_num-1]]\n",
        "run_df = run_subset.reset_index()\n"
      ]
    },
    {
      "cell_type": "markdown",
      "metadata": {
        "id": "XFW7Z-Oa-czc"
      },
      "source": [
        "> We'll use the RF pulse to determine runs. \n",
        "* However, there is one caveat: there is always one more TR than programmed (this is the saturation pulse) \n",
        "* We need to remove this before using our RF pulses as a basis. \n",
        "* First, identify the number of RF pulses -- `dict_spike`\n",
        "* Then, identify the beginning and end of a run based on RF pulse boxcars -- `dict_runs`\n",
        "* Lastly, remove one TR from this boxcar. This will be the `dict_runs_adjust`"
      ]
    },
    {
      "cell_type": "code",
      "execution_count": null,
      "metadata": {
        "id": "CMT92YaV-a5f"
      },
      "outputs": [],
      "source": [
        "run_cutoff = 300"
      ]
    },
    {
      "cell_type": "code",
      "execution_count": null,
      "metadata": {
        "id": "zug8Ac22bM2p"
      },
      "outputs": [],
      "source": [
        "# updated code: \n",
        "\n",
        "physio_df['mr_aniso'] = physio_df['trigger_mri'].rolling(\n",
        "window=3).mean()\n",
        "utils.preprocess._binarize_channel(physio_df,\n",
        "                                source_col='mr_aniso',\n",
        "                                new_col='spike',\n",
        "                                threshold=40,\n",
        "                                binary_high=5,\n",
        "                                binary_low=0)\n",
        "dict_spike = utils.preprocess._identify_boundary(physio_df, 'spike')\n",
        "physio_df['bin_spike'] = 0\n",
        "physio_df.loc[dict_spike['start'], 'bin_spike'] = 5\n",
        "\n",
        "# find transitions of trigger_mri using a rolling window of values slightly smaller than the sampling rate\n",
        "physio_df['mr_aniso_boxcar'] = physio_df['trigger_mri'].rolling(\n",
        "    window=int(samplingrate-100)).mean()\n",
        "mid_val = (np.max(physio_df['mr_aniso_boxcar']) -\n",
        "        np.min(physio_df['mr_aniso_boxcar'])) / 5\n",
        "utils.preprocess._binarize_channel(physio_df,\n",
        "                                source_col='mr_aniso_boxcar',\n",
        "                                new_col='mr_boxcar',\n",
        "                                threshold=mid_val,\n",
        "                                binary_high=5,\n",
        "                                binary_low=0)\n",
        "dict_runs = utils.preprocess._identify_boundary(physio_df, 'mr_boxcar')\n",
        "\n",
        "# remove one TR (this is the siemens TR)\n",
        "sdf = physio_df.copy()\n",
        "sdf.loc[dict_runs['start'], 'bin_spike'] = 0\n",
        "sdf['adjusted_boxcar'] = sdf['bin_spike'].rolling(window=int(samplingrate-100)).mean()\n",
        "mid_val = (np.max(sdf['adjusted_boxcar']) -\n",
        "            np.min(sdf['adjusted_boxcar'])) / 4\n",
        "utils.preprocess._binarize_channel(sdf,\n",
        "                                    source_col='adjusted_boxcar',\n",
        "                                    new_col='adjust_run',\n",
        "                                    threshold=mid_val,\n",
        "                                    binary_high=5,\n",
        "                                    binary_low=0)\n",
        "dict_runs_adjust = utils.preprocess._identify_boundary(sdf, 'adjust_run')\n",
        "\n",
        "# identify how many runs\n",
        "run_list = list(range(len(dict_runs_adjust['start'])))\n",
        "\n",
        "run_bool = ((np.array(dict_runs_adjust['stop'])-np.array(dict_runs_adjust['start']))/samplingrate) > run_cutoff\n",
        "clean_runlist = list(itertools.compress(run_list, run_bool))\n",
        "shorter_than_threshold_length = list(itertools.compress(run_list, ~run_bool))\n",
        "\n",
        "# reference the scannotes\n"
      ]
    },
    {
      "cell_type": "code",
      "execution_count": null,
      "metadata": {
        "id": "lLo4nB2Q5fJ4"
      },
      "outputs": [],
      "source": [
        "run = 2 # index from 1,2,3,4,56"
      ]
    },
    {
      "cell_type": "code",
      "execution_count": null,
      "metadata": {
        "id": "BHlYsfurBrwH"
      },
      "outputs": [],
      "source": [
        "run_df = physio_df.iloc[dict_runs_adjust['start'][run-1]:dict_runs_adjust['stop'][run-1]]\n",
        "run_df = run_df.reset_index()"
      ]
    },
    {
      "cell_type": "markdown",
      "metadata": {
        "id": "-RtpPKo7tksi"
      },
      "source": [
        "Now plot dataframe to check if we've isolated one run"
      ]
    },
    {
      "cell_type": "code",
      "execution_count": null,
      "metadata": {
        "colab": {
          "base_uri": "https://localhost:8080/",
          "height": 341
        },
        "id": "-4p13qhJt2L7",
        "outputId": "41df1271-da22-4a91-877c-7b97d839c8a6"
      },
      "outputs": [
        {
          "data": {
            "text/plain": [
              "<matplotlib.axes._subplots.AxesSubplot at 0x7f70a032b410>"
            ]
          },
          "execution_count": 60,
          "metadata": {},
          "output_type": "execute_result"
        },
        {
          "data": {
            "image/png": "[encoded data removed]",
            "text/plain": [
              "<Figure size 1080x360 with 1 Axes>"
            ]
          },
          "metadata": {
            "needs_background": "light"
          },
          "output_type": "display_data"
        }
      ],
      "source": [
        "run_df['trigger_mri'].plot()"
      ]
    },
    {
      "cell_type": "code",
      "execution_count": null,
      "metadata": {
        "colab": {
          "base_uri": "https://localhost:8080/"
        },
        "id": "80MhePIeuCSx",
        "outputId": "74510e90-1c8b-4af1-d3cb-4d203ac7ea8a"
      },
      "outputs": [
        {
          "name": "stdout",
          "output_type": "stream",
          "text": [
            "Check run length (s): 401.148\n"
          ]
        }
      ],
      "source": [
        "print(f\"Check run length (s): {run_df.shape[0]/samplingrate}\")"
      ]
    },
    {
      "cell_type": "code",
      "execution_count": null,
      "metadata": {
        "colab": {
          "base_uri": "https://localhost:8080/",
          "height": 359
        },
        "id": "npzsU1s8uWH1",
        "outputId": "1672f6c7-38b6-40c9-fb58-bd67c9615f4d"
      },
      "outputs": [
        {
          "name": "stdout",
          "output_type": "stream",
          "text": [
            "Check TTL within run\n"
          ]
        },
        {
          "data": {
            "text/plain": [
              "<matplotlib.axes._subplots.AxesSubplot at 0x7f70a03a4450>"
            ]
          },
          "execution_count": 62,
          "metadata": {},
          "output_type": "execute_result"
        },
        {
          "data": {
            "image/png": "[encoded data removed]",
            "text/plain": [
              "<Figure size 1080x360 with 1 Axes>"
            ]
          },
          "metadata": {
            "needs_background": "light"
          },
          "output_type": "display_data"
        }
      ],
      "source": [
        "print(f\"Check TTL within run\")\n",
        "run_df['trigger_heat'].plot()"
      ]
    },
    {
      "cell_type": "markdown",
      "metadata": {
        "id": "itpzul2yYSP7"
      },
      "source": [
        "## 4.Baseline correction\n",
        "\n",
        "#### Significance of baseline correction<br>\n",
        "Baseline correction is important when using interval related analyses. For instance, we might want to compare the average signal difference between a pain run vs. a cognitive run. This is when we would use interval-related analayses. The signals extend for a longer time period, which makes baseline correction imperative. Only after correct baseline correction can we check the overall signal difference. \n",
        "\n",
        "#### Methods of baseline correction:\n",
        "1.   subtract mean baseline, using the 6 TRs\n",
        "2.   using the fixation period from tthe entire run\n",
        "3.   using the fixation period from corresponding trial\n"
      ]
    },
    {
      "cell_type": "markdown",
      "metadata": {
        "id": "_pYbFaDyukq4"
      },
      "source": [
        "In this notebook, we'll use method 2, which collapses all of the fixation periods into one bin. We average these signals and subtract it from the main EDA signal. "
      ]
    },
    {
      "cell_type": "code",
      "execution_count": null,
      "metadata": {
        "colab": {
          "base_uri": "https://localhost:8080/"
        },
        "id": "T6TFgMJEujuZ",
        "outputId": "51f9cab4-a4ad-49d4-991a-7a310dd80946"
      },
      "outputs": [
        {
          "name": "stdout",
          "output_type": "stream",
          "text": [
            "confirming the number of fixation non-szero timepoints: 357248\n",
            "this amounts to 178.624 seconds\n"
          ]
        }
      ],
      "source": [
        "fix_bool = run_df['event_fixation'].astype(bool).sum()\n",
        "print(f\"confirming the number of fixation non-szero timepoints: {fix_bool}\")\n",
        "print(f\"this amounts to {fix_bool/samplingrate} seconds\")"
      ]
    },
    {
      "cell_type": "code",
      "execution_count": null,
      "metadata": {
        "colab": {
          "base_uri": "https://localhost:8080/"
        },
        "id": "B_F1AU2D43OO",
        "outputId": "b8b234a7-19e8-4dbf-cbc0-440364cd2014"
      },
      "outputs": [
        {
          "data": {
            "text/plain": [
              "Index(['index', 'physio_eda', 'physio_ppg', 'trigger_mri', 'trigger_heat',\n",
              "       'event_experimentduration', 'event_fixation', 'event_cue',\n",
              "       'event_expectrating', 'event_stimuli', 'event_actualrating', 'C15',\n",
              "       'C16', 'mr_aniso', 'spike', 'bin_spike', 'mr_aniso_boxcar',\n",
              "       'mr_boxcar'],\n",
              "      dtype='object')"
            ]
          },
          "execution_count": 64,
          "metadata": {},
          "output_type": "execute_result"
        }
      ],
      "source": [
        "run_df.columns"
      ]
    },
    {
      "cell_type": "code",
      "execution_count": null,
      "metadata": {
        "colab": {
          "base_uri": "https://localhost:8080/",
          "height": 396
        },
        "id": "n7VzmT1fv3ag",
        "outputId": "0bdb9a08-df0e-4612-9069-ea88a2b97307"
      },
      "outputs": [
        {
          "name": "stdout",
          "output_type": "stream",
          "text": [
            "baseline using the 6 TR: 9.626150346314006\n",
            "baseline using fixation from entire run: 8.379528779141685\n"
          ]
        },
        {
          "data": {
            "text/plain": [
              "<matplotlib.legend.Legend at 0x7f709e165110>"
            ]
          },
          "execution_count": 71,
          "metadata": {},
          "output_type": "execute_result"
        },
        {
          "data": {
            "image/png": "[encoded data removed]",
            "text/plain": [
              "<Figure size 1080x360 with 1 Axes>"
            ]
          },
          "metadata": {
            "needs_background": "light"
          },
          "output_type": "display_data"
        }
      ],
      "source": [
        "# baseline correction method 1: use the first 6 dummy scan period\n",
        "\n",
        "baseline_method01 = run_df['physio_eda'].loc[0:5520].mean()\n",
        "run_df['EDA_corrected_01tr'] = run_df['physio_eda'] - baseline_method01\n",
        "\n",
        "# baseline correction method 02: use the fixation period from the entire run\n",
        "mask = run_df['event_fixation'].astype(bool)\n",
        "baseline_method02 = run_df['physio_eda'].loc[mask].mean()\n",
        "run_df['EDA_corrected_02fixation'] = run_df['physio_eda'] - baseline_method02\n",
        "\n",
        "# TODO method 03: per trial, grab the baseline fixation average signal\n",
        "\n",
        "print(f\"baseline using the 6 TR: {baseline_method01}\")\n",
        "print(f\"baseline using fixation from entire run: {baseline_method02}\")\n",
        "figure, ax1 = plt.subplots()\n",
        "ax1.title.set_text('EDA signal: raw vs. baseline corrected signal')\n",
        "l1 = ax1.plot(run_df['physio_eda'], linewidth=1.5, zorder=1, label=\"raw signal\", color=\"gray\")\n",
        "l2 = ax1.plot(run_df['EDA_corrected_01tr'], linewidth=1, zorder=1, label=\"correction based on 6 dummy scans\", color=\"orange\")\n",
        "l3 = ax1.plot(run_df['EDA_corrected_02fixation'], linewidth=1, zorder=1, label=\"correction based on all fixation epochs\", color=\"green\")\n",
        "ax1.legend(handles=[l1[0], l2[0], l3[0]])\n",
        "# TODO: add legend, which color is which?"
      ]
    },
    {
      "cell_type": "markdown",
      "metadata": {
        "id": "1gOeLc-DYa1E"
      },
      "source": [
        "## 5.Neurokit event extraction"
      ]
    },
    {
      "cell_type": "markdown",
      "metadata": {
        "id": "MzIlw4jhwLa3"
      },
      "source": [
        "> Here's some example code on how we extract events based on the **cue** channel. \n",
        "* The idea is that we (1) binarize the signals and (2) detect transitions of these binary values. \n",
        "* We can extract the indices of when the cue event starts and when they stop."
      ]
    },
    {
      "cell_type": "code",
      "execution_count": null,
      "metadata": {
        "colab": {
          "base_uri": "https://localhost:8080/"
        },
        "id": "AWrIC-1ewU1F",
        "outputId": "84749dd4-7989-40c7-d133-885d4fc477a8"
      },
      "outputs": [
        {
          "name": "stdout",
          "output_type": "stream",
          "text": [
            "* indices of cue events' start point 'start_cue': \n",
            "\tInt64Index([ 15795,  75184, 133373, 190995, 251800, 303969, 374965, 446790,\n",
            "            518583, 583373, 657368, 739165],\n",
            "           dtype='int64')\n",
            "* indices of cue events' end point: 'stop_cue': \n",
            "\tInt64Index([ 17751,  77151, 135351, 192951, 253751, 305950, 376950, 448750,\n",
            "            520550, 585350, 659350, 741150],\n",
            "           dtype='int64')\n",
            "* total number of trials: 12\n"
          ]
        }
      ],
      "source": [
        "mid_val = (np.max(run_df['event_cue']) - np.min(run_df['event_cue']))/2\n",
        "run_df.loc[run_df['event_cue'] > mid_val, 'event_cue'] = 5\n",
        "run_df.loc[run_df['event_cue'] <= mid_val, 'event_cue'] = 0\n",
        "\n",
        "start_cue = run_df[run_df['event_cue'] > run_df[ 'event_cue'].shift(1)]\n",
        "stop_cue = run_df[run_df['event_cue'] < run_df[ 'event_cue'].shift(1)]\n",
        "print(f\"* indices of cue events' start point 'start_cue': \\n\\t{start_cue.index}\")\n",
        "print(f\"* indices of cue events' end point: 'stop_cue': \\n\\t{stop_cue.index}\")\n",
        "\n",
        "cue_freq = len(start_cue)\n",
        "print(f\"* total number of trials: {cue_freq}\")"
      ]
    },
    {
      "cell_type": "markdown",
      "metadata": {
        "id": "4UyefRHR9Gj1"
      },
      "source": [
        "> Since we need to do this process for multiple events in the experiment, let's turn this into a function!\n",
        "\n",
        "> The aforementioned process is now turned into a function:\n",
        "1.   `binarize_channel`\n",
        "2.   `identify_boundary`\n",
        "* We now save this into a dictionary that houses all of the events. (In this experiment, we have 4 events of interest)\n",
        "* **What a user needs to do**: change the dict_channel. In case you have column names that you want to change, you can feed in a `dict_channel` in the structure of {`old column name`: `new column name`}"
      ]
    },
    {
      "cell_type": "code",
      "execution_count": null,
      "metadata": {
        "id": "Eh2FPEhz_fZj"
      },
      "outputs": [],
      "source": [
        "dict_channel = {'event_cue': 'event_cue',\n",
        "'event_expectrating': 'event_expectrating',\n",
        "'event_stimuli': 'event_stimuli',\n",
        "'event_actualrating': 'event_actualrating',\n",
        "}\n",
        "dict_onset = {}\n",
        "for i, (key, value) in enumerate(dict_channel.items()):\n",
        "    dict_onset[value] = {}\n",
        "    \n",
        "    utils.preprocess._binarize_channel(run_df,\n",
        "                                    source_col=key,\n",
        "                                    new_col=value,\n",
        "                                    threshold=None,\n",
        "                                    binary_high=5,\n",
        "                                    binary_low=0)\n",
        "    dict_onset[value] = utils.preprocess._identify_boundary(run_df, value)\n",
        "    # logger.info(\"\\t* total number of %s trials: %d\" ,value, len(dict_onset[value]['start']))\n"
      ]
    },
    {
      "cell_type": "code",
      "execution_count": null,
      "metadata": {
        "colab": {
          "base_uri": "https://localhost:8080/"
        },
        "id": "n6mGSomVH_kS",
        "outputId": "e9e43fd6-1de0-4558-b7f1-005b2dcb9065"
      },
      "outputs": [
        {
          "name": "stdout",
          "output_type": "stream",
          "text": [
            "cue event: {'start': [15795, 75184, 133373, 190995, 251800, 303969, 374965, 446790, 518583, 583373, 657368, 739165], 'stop': [17751, 77151, 135351, 192951, 253751, 305950, 376950, 448750, 520550, 585350, 659350, 741150]}\n",
            "expect rating event: {'start': [20230, 79997, 137798, 197996, 255197, 310996, 379397, 451197, 525597, 588197, 662197, 743199], 'stop': [23264, 82864, 141441, 200564, 257364, 316606, 382364, 453731, 529331, 594543, 665203, 748801]}\n",
            "stimuli event: {'start': [37737, 90822, 159844, 211211, 264443, 335442, 403806, 460422, 538835, 599438, 689626, 765267], 'stop': [55551, 108751, 177751, 229151, 282352, 353350, 421750, 478350, 556750, 617350, 707550, 783150]}\n",
            "actual rating event: {'start': [65997, 114997, 180797, 241597, 294797, 363830, 434399, 490997, 562997, 620397, 719597, 789598], 'stop': [70364, 117498, 183531, 244779, 298307, 369997, 438097, 495306, 566166, 628397, 723031, 795198]}\n"
          ]
        }
      ],
      "source": [
        "print(f\"cue event: {dict_onset['event_cue']}\")\n",
        "print(f\"expect rating event: {dict_onset['event_expectrating']}\")\n",
        "print(f\"stimuli event: {dict_onset['event_stimuli']}\")\n",
        "print(f\"actual rating event: {dict_onset['event_actualrating']}\")"
      ]
    },
    {
      "cell_type": "markdown",
      "metadata": {
        "id": "rFS_L3vtw11H"
      },
      "source": [
        "05 extract TTLs based on **TTL column** and event boundaries\n",
        "\n",
        "**We need to use a slightly different method. Here's the problem space:**<br>\n",
        "* There are 4 TTLs for each trial. \n",
        "* The problem is, sometimes, TSA2 fails. There could be 3, there could be 1 TTL per trial in the case of this failure. Therefore... extracting TTLs becomes difficult, because we need to identify which TTL belongs to which trial. \n",
        "\n",
        "**Solution:**<br>\n",
        "One way to deal with this problem is to set event boundaries. \n",
        "* We know that the stimulus delivery period is sandwiched in between an expectation rating and an actual rating. \n",
        "* We'll use these time periods to figure out whether a TTL belongs to this trial vs. not. \n",
        "* We'll be using variables such as 'expect_start' and 'actual_end' as our event boundaries."
      ]
    },
    {
      "cell_type": "markdown",
      "metadata": {
        "id": "s0pE5OjJw8uC"
      },
      "source": [
        "##### 5.1 first build a dataframe to store the extracted TTLs"
      ]
    },
    {
      "cell_type": "markdown",
      "metadata": {
        "id": "sV_e7txo-Hn_"
      },
      "source": [
        "# TODO: heejung, insert a diagram that describes before ttl and after ttl"
      ]
    },
    {
      "cell_type": "code",
      "execution_count": null,
      "metadata": {
        "id": "C5ACOUM6_oeP"
      },
      "outputs": [],
      "source": [
        "dict_beforettl = dict_onset['event_expectrating']\n",
        "dict_afterttl = dict_onset['event_actualrating'] \n",
        "dict_stimuli = dict_onset['event_stimuli']"
      ]
    },
    {
      "cell_type": "code",
      "execution_count": null,
      "metadata": {
        "id": "_NscDowawxli"
      },
      "outputs": [],
      "source": [
        "df_onset = pd.DataFrame({\n",
        "    'beforettl_start': dict_beforettl['start'],\n",
        "    'afterttl_end': dict_afterttl['stop'],\n",
        "    'stim_start': np.nan,\n",
        "    'stim_end': np.nan\n",
        "})\n",
        "\n",
        "df_stim = pd.DataFrame({\n",
        "    'stim_start': dict_stimuli['start'],\n",
        "    'stim_end': dict_stimuli['stop']\n",
        "})"
      ]
    },
    {
      "cell_type": "markdown",
      "metadata": {
        "id": "KeAyDAGVxGjr"
      },
      "source": [
        "##### 5.2 calculate TTL onsets"
      ]
    },
    {
      "cell_type": "code",
      "execution_count": null,
      "metadata": {
        "colab": {
          "base_uri": "https://localhost:8080/"
        },
        "id": "Fb3WtRw_xFq6",
        "outputId": "73a03e68-27c8-40be-bf6e-bd2de4867913"
      },
      "outputs": [
        {
          "name": "stdout",
          "output_type": "stream",
          "text": [
            "ttl onsets: [37757.5, 44107.0, 54110.5, 59814.0, 90890.5, 97638.5, 107641.5, 113747.0, 159903.5, 166232.0, 176232.0, 181979.0, 211285.5, 217986.5, 227984.0, 234092.5, 264499.5, 271696.0, 281698.5, 288173.5, 335490.5, 341839.0, 351842.0, 357636.5, 403884.0, 411162.0, 421162.5, 427560.5, 460486.5, 466717.5, 476715.0, 482500.5, 538909.5, 546088.0, 556091.0, 562494.0, 599513.5, 606730.5, 616731.0, 623197.0, 689706.5, 696524.5, 706525.0, 712623.0, 765329.5, 772138.0, 782141.0, 788244.0], length of ttl onset is : 48\n"
          ]
        }
      ],
      "source": [
        "utils.preprocess._binarize_channel(\n",
        "    run_df,\n",
        "    source_col='trigger_heat',\n",
        "    new_col='ttl',\n",
        "    threshold=None,\n",
        "    binary_high=5,\n",
        "    binary_low=0)\n",
        "\n",
        "dict_ttl = utils.preprocess._identify_boundary(run_df, 'ttl')\n",
        "\"\"\"\n",
        "Because of the sampling rate (2000hz), we get a rather long signal of the TTL, which lasts for 0.1 sec\n",
        "In order to get the correct onset time, we're going to get the mid point of this TTL square function:\n",
        "\"\"\"\n",
        "ttl_onsets = list(  np.array(dict_ttl['start']) + (np.array(dict_ttl['stop']) - np.array(dict_ttl['start'])) / 2)\n",
        "print(\n",
        "    f\"ttl onsets: {ttl_onsets}, length of ttl onset is : {len(ttl_onsets)}\"\n",
        ")"
      ]
    },
    {
      "cell_type": "code",
      "execution_count": null,
      "metadata": {
        "colab": {
          "base_uri": "https://localhost:8080/",
          "height": 426
        },
        "id": "sQz--F5C_dFq",
        "outputId": "95381b02-0577-4518-b914-0b33b605bd32"
      },
      "outputs": [
        {
          "data": {
            "text/html": [
              "\n",
              "  <div id=\"df-25c8d406-2224-41ac-859a-e689e8710220\">\n",
              "    <div class=\"colab-df-container\">\n",
              "      <div>\n",
              "<style scoped>\n",
              "    .dataframe tbody tr th:only-of-type {\n",
              "        vertical-align: middle;\n",
              "    }\n",
              "\n",
              "    .dataframe tbody tr th {\n",
              "        vertical-align: top;\n",
              "    }\n",
              "\n",
              "    .dataframe thead th {\n",
              "        text-align: right;\n",
              "    }\n",
              "</style>\n",
              "<table border=\"1\" class=\"dataframe\">\n",
              "  <thead>\n",
              "    <tr style=\"text-align: right;\">\n",
              "      <th></th>\n",
              "      <th>stim_start</th>\n",
              "      <th>stim_end</th>\n",
              "    </tr>\n",
              "  </thead>\n",
              "  <tbody>\n",
              "    <tr>\n",
              "      <th>0</th>\n",
              "      <td>37737</td>\n",
              "      <td>55551</td>\n",
              "    </tr>\n",
              "    <tr>\n",
              "      <th>1</th>\n",
              "      <td>90822</td>\n",
              "      <td>108751</td>\n",
              "    </tr>\n",
              "    <tr>\n",
              "      <th>2</th>\n",
              "      <td>159844</td>\n",
              "      <td>177751</td>\n",
              "    </tr>\n",
              "    <tr>\n",
              "      <th>3</th>\n",
              "      <td>211211</td>\n",
              "      <td>229151</td>\n",
              "    </tr>\n",
              "    <tr>\n",
              "      <th>4</th>\n",
              "      <td>264443</td>\n",
              "      <td>282352</td>\n",
              "    </tr>\n",
              "    <tr>\n",
              "      <th>5</th>\n",
              "      <td>335442</td>\n",
              "      <td>353350</td>\n",
              "    </tr>\n",
              "    <tr>\n",
              "      <th>6</th>\n",
              "      <td>403806</td>\n",
              "      <td>421750</td>\n",
              "    </tr>\n",
              "    <tr>\n",
              "      <th>7</th>\n",
              "      <td>460422</td>\n",
              "      <td>478350</td>\n",
              "    </tr>\n",
              "    <tr>\n",
              "      <th>8</th>\n",
              "      <td>538835</td>\n",
              "      <td>556750</td>\n",
              "    </tr>\n",
              "    <tr>\n",
              "      <th>9</th>\n",
              "      <td>599438</td>\n",
              "      <td>617350</td>\n",
              "    </tr>\n",
              "    <tr>\n",
              "      <th>10</th>\n",
              "      <td>689626</td>\n",
              "      <td>707550</td>\n",
              "    </tr>\n",
              "    <tr>\n",
              "      <th>11</th>\n",
              "      <td>765267</td>\n",
              "      <td>783150</td>\n",
              "    </tr>\n",
              "  </tbody>\n",
              "</table>\n",
              "</div>\n",
              "      <button class=\"colab-df-convert\" onclick=\"convertToInteractive('df-25c8d406-2224-41ac-859a-e689e8710220')\"\n",
              "              title=\"Convert this dataframe to an interactive table.\"\n",
              "              style=\"display:none;\">\n",
              "        \n",
              "  <svg xmlns=\"http://www.w3.org/2000/svg\" height=\"24px\"viewBox=\"0 0 24 24\"\n",
              "       width=\"24px\">\n",
              "    <path d=\"M0 0h24v24H0V0z\" fill=\"none\"/>\n",
              "    <path d=\"M18.56 5.44l.94 2.06.94-2.06 2.06-.94-2.06-.94-.94-2.06-.94 2.06-2.06.94zm-11 1L8.5 8.5l.94-2.06 2.06-.94-2.06-.94L8.5 2.5l-.94 2.06-2.06.94zm10 10l.94 2.06.94-2.06 2.06-.94-2.06-.94-.94-2.06-.94 2.06-2.06.94z\"/><path d=\"M17.41 7.96l-1.37-1.37c-.4-.4-.92-.59-1.43-.59-.52 0-1.04.2-1.43.59L10.3 9.45l-7.72 7.72c-.78.78-.78 2.05 0 2.83L4 21.41c.39.39.9.59 1.41.59.51 0 1.02-.2 1.41-.59l7.78-7.78 2.81-2.81c.8-.78.8-2.07 0-2.86zM5.41 20L4 18.59l7.72-7.72 1.47 1.35L5.41 20z\"/>\n",
              "  </svg>\n",
              "      </button>\n",
              "      \n",
              "  <style>\n",
              "    .colab-df-container {\n",
              "      display:flex;\n",
              "      flex-wrap:wrap;\n",
              "      gap: 12px;\n",
              "    }\n",
              "\n",
              "    .colab-df-convert {\n",
              "      background-color: #E8F0FE;\n",
              "      border: none;\n",
              "      border-radius: 50%;\n",
              "      cursor: pointer;\n",
              "      display: none;\n",
              "      fill: #1967D2;\n",
              "      height: 32px;\n",
              "      padding: 0 0 0 0;\n",
              "      width: 32px;\n",
              "    }\n",
              "\n",
              "    .colab-df-convert:hover {\n",
              "      background-color: #E2EBFA;\n",
              "      box-shadow: 0px 1px 2px rgba(60, 64, 67, 0.3), 0px 1px 3px 1px rgba(60, 64, 67, 0.15);\n",
              "      fill: #174EA6;\n",
              "    }\n",
              "\n",
              "    [theme=dark] .colab-df-convert {\n",
              "      background-color: #3B4455;\n",
              "      fill: #D2E3FC;\n",
              "    }\n",
              "\n",
              "    [theme=dark] .colab-df-convert:hover {\n",
              "      background-color: #434B5C;\n",
              "      box-shadow: 0px 1px 3px 1px rgba(0, 0, 0, 0.15);\n",
              "      filter: drop-shadow(0px 1px 2px rgba(0, 0, 0, 0.3));\n",
              "      fill: #FFFFFF;\n",
              "    }\n",
              "  </style>\n",
              "\n",
              "      <script>\n",
              "        const buttonEl =\n",
              "          document.querySelector('#df-25c8d406-2224-41ac-859a-e689e8710220 button.colab-df-convert');\n",
              "        buttonEl.style.display =\n",
              "          google.colab.kernel.accessAllowed ? 'block' : 'none';\n",
              "\n",
              "        async function convertToInteractive(key) {\n",
              "          const element = document.querySelector('#df-25c8d406-2224-41ac-859a-e689e8710220');\n",
              "          const dataTable =\n",
              "            await google.colab.kernel.invokeFunction('convertToInteractive',\n",
              "                                                     [key], {});\n",
              "          if (!dataTable) return;\n",
              "\n",
              "          const docLinkHtml = 'Like what you see? Visit the ' +\n",
              "            '<a target=\"_blank\" href=https://colab.research.google.com/notebooks/data_table.ipynb>data table notebook</a>'\n",
              "            + ' to learn more about interactive tables.';\n",
              "          element.innerHTML = '';\n",
              "          dataTable['output_type'] = 'display_data';\n",
              "          await google.colab.output.renderOutput(dataTable, element);\n",
              "          const docLink = document.createElement('div');\n",
              "          docLink.innerHTML = docLinkHtml;\n",
              "          element.appendChild(docLink);\n",
              "        }\n",
              "      </script>\n",
              "    </div>\n",
              "  </div>\n",
              "  "
            ],
            "text/plain": [
              "    stim_start  stim_end\n",
              "0        37737     55551\n",
              "1        90822    108751\n",
              "2       159844    177751\n",
              "3       211211    229151\n",
              "4       264443    282352\n",
              "5       335442    353350\n",
              "6       403806    421750\n",
              "7       460422    478350\n",
              "8       538835    556750\n",
              "9       599438    617350\n",
              "10      689626    707550\n",
              "11      765267    783150"
            ]
          },
          "execution_count": 113,
          "metadata": {},
          "output_type": "execute_result"
        }
      ],
      "source": [
        "df_stim"
      ]
    },
    {
      "cell_type": "code",
      "execution_count": null,
      "metadata": {
        "colab": {
          "base_uri": "https://localhost:8080/"
        },
        "id": "Lo5r7-aXyehI",
        "outputId": "3ca7a8e8-dccd-43ce-c3d9-868737218bc3"
      },
      "outputs": [
        {
          "name": "stdout",
          "output_type": "stream",
          "text": [
            "this is the 0-th iteration. stim value is 37737, and is in between index 0\n",
            "this is the 1-th iteration. stim value is 90822, and is in between index 1\n",
            "this is the 2-th iteration. stim value is 159844, and is in between index 2\n",
            "this is the 3-th iteration. stim value is 211211, and is in between index 3\n",
            "this is the 4-th iteration. stim value is 264443, and is in between index 4\n",
            "this is the 5-th iteration. stim value is 335442, and is in between index 5\n",
            "this is the 6-th iteration. stim value is 403806, and is in between index 6\n",
            "this is the 7-th iteration. stim value is 460422, and is in between index 7\n",
            "this is the 8-th iteration. stim value is 538835, and is in between index 8\n",
            "this is the 9-th iteration. stim value is 599438, and is in between index 9\n",
            "this is the 10-th iteration. stim value is 689626, and is in between index 10\n",
            "this is the 11-th iteration. stim value is 765267, and is in between index 11\n",
            "0-th value: 37757.5\n",
            "\t\t* interval index: 0\n",
            "\t\t* empty columns: ['ttl_1', 'ttl_2', 'ttl_3', 'ttl_4']\n",
            "\t\t* this is the row where the value -- 37757.5 -- falls. on the 0-th row\n",
            "1-th value: 44107.0\n",
            "\t\t* interval index: 0\n",
            "\t\t* empty columns: ['ttl_2', 'ttl_3', 'ttl_4']\n",
            "\t\t* this is the row where the value -- 44107.0 -- falls. on the 0-th row\n",
            "2-th value: 54110.5\n",
            "\t\t* interval index: 0\n",
            "\t\t* empty columns: ['ttl_3', 'ttl_4']\n",
            "\t\t* this is the row where the value -- 54110.5 -- falls. on the 0-th row\n",
            "3-th value: 59814.0\n",
            "\t\t* interval index: 0\n",
            "\t\t* empty columns: ['ttl_4']\n",
            "\t\t* this is the row where the value -- 59814.0 -- falls. on the 0-th row\n",
            "4-th value: 90890.5\n",
            "\t\t* interval index: 1\n",
            "\t\t* empty columns: ['ttl_1', 'ttl_2', 'ttl_3', 'ttl_4']\n",
            "\t\t* this is the row where the value -- 90890.5 -- falls. on the 1-th row\n",
            "5-th value: 97638.5\n",
            "\t\t* interval index: 1\n",
            "\t\t* empty columns: ['ttl_2', 'ttl_3', 'ttl_4']\n",
            "\t\t* this is the row where the value -- 97638.5 -- falls. on the 1-th row\n",
            "6-th value: 107641.5\n",
            "\t\t* interval index: 1\n",
            "\t\t* empty columns: ['ttl_3', 'ttl_4']\n",
            "\t\t* this is the row where the value -- 107641.5 -- falls. on the 1-th row\n",
            "7-th value: 113747.0\n",
            "\t\t* interval index: 1\n",
            "\t\t* empty columns: ['ttl_4']\n",
            "\t\t* this is the row where the value -- 113747.0 -- falls. on the 1-th row\n",
            "8-th value: 159903.5\n",
            "\t\t* interval index: 2\n",
            "\t\t* empty columns: ['ttl_1', 'ttl_2', 'ttl_3', 'ttl_4']\n",
            "\t\t* this is the row where the value -- 159903.5 -- falls. on the 2-th row\n",
            "9-th value: 166232.0\n",
            "\t\t* interval index: 2\n",
            "\t\t* empty columns: ['ttl_2', 'ttl_3', 'ttl_4']\n",
            "\t\t* this is the row where the value -- 166232.0 -- falls. on the 2-th row\n",
            "10-th value: 176232.0\n",
            "\t\t* interval index: 2\n",
            "\t\t* empty columns: ['ttl_3', 'ttl_4']\n",
            "\t\t* this is the row where the value -- 176232.0 -- falls. on the 2-th row\n",
            "11-th value: 181979.0\n",
            "\t\t* interval index: 2\n",
            "\t\t* empty columns: ['ttl_4']\n",
            "\t\t* this is the row where the value -- 181979.0 -- falls. on the 2-th row\n",
            "12-th value: 211285.5\n",
            "\t\t* interval index: 3\n",
            "\t\t* empty columns: ['ttl_1', 'ttl_2', 'ttl_3', 'ttl_4']\n",
            "\t\t* this is the row where the value -- 211285.5 -- falls. on the 3-th row\n",
            "13-th value: 217986.5\n",
            "\t\t* interval index: 3\n",
            "\t\t* empty columns: ['ttl_2', 'ttl_3', 'ttl_4']\n",
            "\t\t* this is the row where the value -- 217986.5 -- falls. on the 3-th row\n",
            "14-th value: 227984.0\n",
            "\t\t* interval index: 3\n",
            "\t\t* empty columns: ['ttl_3', 'ttl_4']\n",
            "\t\t* this is the row where the value -- 227984.0 -- falls. on the 3-th row\n",
            "15-th value: 234092.5\n",
            "\t\t* interval index: 3\n",
            "\t\t* empty columns: ['ttl_4']\n",
            "\t\t* this is the row where the value -- 234092.5 -- falls. on the 3-th row\n",
            "16-th value: 264499.5\n",
            "\t\t* interval index: 4\n",
            "\t\t* empty columns: ['ttl_1', 'ttl_2', 'ttl_3', 'ttl_4']\n",
            "\t\t* this is the row where the value -- 264499.5 -- falls. on the 4-th row\n",
            "17-th value: 271696.0\n",
            "\t\t* interval index: 4\n",
            "\t\t* empty columns: ['ttl_2', 'ttl_3', 'ttl_4']\n",
            "\t\t* this is the row where the value -- 271696.0 -- falls. on the 4-th row\n",
            "18-th value: 281698.5\n",
            "\t\t* interval index: 4\n",
            "\t\t* empty columns: ['ttl_3', 'ttl_4']\n",
            "\t\t* this is the row where the value -- 281698.5 -- falls. on the 4-th row\n",
            "19-th value: 288173.5\n",
            "\t\t* interval index: 4\n",
            "\t\t* empty columns: ['ttl_4']\n",
            "\t\t* this is the row where the value -- 288173.5 -- falls. on the 4-th row\n",
            "20-th value: 335490.5\n",
            "\t\t* interval index: 5\n",
            "\t\t* empty columns: ['ttl_1', 'ttl_2', 'ttl_3', 'ttl_4']\n",
            "\t\t* this is the row where the value -- 335490.5 -- falls. on the 5-th row\n",
            "21-th value: 341839.0\n",
            "\t\t* interval index: 5\n",
            "\t\t* empty columns: ['ttl_2', 'ttl_3', 'ttl_4']\n",
            "\t\t* this is the row where the value -- 341839.0 -- falls. on the 5-th row\n",
            "22-th value: 351842.0\n",
            "\t\t* interval index: 5\n",
            "\t\t* empty columns: ['ttl_3', 'ttl_4']\n",
            "\t\t* this is the row where the value -- 351842.0 -- falls. on the 5-th row\n",
            "23-th value: 357636.5\n",
            "\t\t* interval index: 5\n",
            "\t\t* empty columns: ['ttl_4']\n",
            "\t\t* this is the row where the value -- 357636.5 -- falls. on the 5-th row\n",
            "24-th value: 403884.0\n",
            "\t\t* interval index: 6\n",
            "\t\t* empty columns: ['ttl_1', 'ttl_2', 'ttl_3', 'ttl_4']\n",
            "\t\t* this is the row where the value -- 403884.0 -- falls. on the 6-th row\n",
            "25-th value: 411162.0\n",
            "\t\t* interval index: 6\n",
            "\t\t* empty columns: ['ttl_2', 'ttl_3', 'ttl_4']\n",
            "\t\t* this is the row where the value -- 411162.0 -- falls. on the 6-th row\n",
            "26-th value: 421162.5\n",
            "\t\t* interval index: 6\n",
            "\t\t* empty columns: ['ttl_3', 'ttl_4']\n",
            "\t\t* this is the row where the value -- 421162.5 -- falls. on the 6-th row\n",
            "27-th value: 427560.5\n",
            "\t\t* interval index: 6\n",
            "\t\t* empty columns: ['ttl_4']\n",
            "\t\t* this is the row where the value -- 427560.5 -- falls. on the 6-th row\n",
            "28-th value: 460486.5\n",
            "\t\t* interval index: 7\n",
            "\t\t* empty columns: ['ttl_1', 'ttl_2', 'ttl_3', 'ttl_4']\n",
            "\t\t* this is the row where the value -- 460486.5 -- falls. on the 7-th row\n",
            "29-th value: 466717.5\n",
            "\t\t* interval index: 7\n",
            "\t\t* empty columns: ['ttl_2', 'ttl_3', 'ttl_4']\n",
            "\t\t* this is the row where the value -- 466717.5 -- falls. on the 7-th row\n",
            "30-th value: 476715.0\n",
            "\t\t* interval index: 7\n",
            "\t\t* empty columns: ['ttl_3', 'ttl_4']\n",
            "\t\t* this is the row where the value -- 476715.0 -- falls. on the 7-th row\n",
            "31-th value: 482500.5\n",
            "\t\t* interval index: 7\n",
            "\t\t* empty columns: ['ttl_4']\n",
            "\t\t* this is the row where the value -- 482500.5 -- falls. on the 7-th row\n",
            "32-th value: 538909.5\n",
            "\t\t* interval index: 8\n",
            "\t\t* empty columns: ['ttl_1', 'ttl_2', 'ttl_3', 'ttl_4']\n",
            "\t\t* this is the row where the value -- 538909.5 -- falls. on the 8-th row\n",
            "33-th value: 546088.0\n",
            "\t\t* interval index: 8\n",
            "\t\t* empty columns: ['ttl_2', 'ttl_3', 'ttl_4']\n",
            "\t\t* this is the row where the value -- 546088.0 -- falls. on the 8-th row\n",
            "34-th value: 556091.0\n",
            "\t\t* interval index: 8\n",
            "\t\t* empty columns: ['ttl_3', 'ttl_4']\n",
            "\t\t* this is the row where the value -- 556091.0 -- falls. on the 8-th row\n",
            "35-th value: 562494.0\n",
            "\t\t* interval index: 8\n",
            "\t\t* empty columns: ['ttl_4']\n",
            "\t\t* this is the row where the value -- 562494.0 -- falls. on the 8-th row\n",
            "36-th value: 599513.5\n",
            "\t\t* interval index: 9\n",
            "\t\t* empty columns: ['ttl_1', 'ttl_2', 'ttl_3', 'ttl_4']\n",
            "\t\t* this is the row where the value -- 599513.5 -- falls. on the 9-th row\n",
            "37-th value: 606730.5\n",
            "\t\t* interval index: 9\n",
            "\t\t* empty columns: ['ttl_2', 'ttl_3', 'ttl_4']\n",
            "\t\t* this is the row where the value -- 606730.5 -- falls. on the 9-th row\n",
            "38-th value: 616731.0\n",
            "\t\t* interval index: 9\n",
            "\t\t* empty columns: ['ttl_3', 'ttl_4']\n",
            "\t\t* this is the row where the value -- 616731.0 -- falls. on the 9-th row\n",
            "39-th value: 623197.0\n",
            "\t\t* interval index: 9\n",
            "\t\t* empty columns: ['ttl_4']\n",
            "\t\t* this is the row where the value -- 623197.0 -- falls. on the 9-th row\n",
            "40-th value: 689706.5\n",
            "\t\t* interval index: 10\n",
            "\t\t* empty columns: ['ttl_1', 'ttl_2', 'ttl_3', 'ttl_4']\n",
            "\t\t* this is the row where the value -- 689706.5 -- falls. on the 10-th row\n",
            "41-th value: 696524.5\n",
            "\t\t* interval index: 10\n",
            "\t\t* empty columns: ['ttl_2', 'ttl_3', 'ttl_4']\n",
            "\t\t* this is the row where the value -- 696524.5 -- falls. on the 10-th row\n",
            "42-th value: 706525.0\n",
            "\t\t* interval index: 10\n",
            "\t\t* empty columns: ['ttl_3', 'ttl_4']\n",
            "\t\t* this is the row where the value -- 706525.0 -- falls. on the 10-th row\n",
            "43-th value: 712623.0\n",
            "\t\t* interval index: 10\n",
            "\t\t* empty columns: ['ttl_4']\n",
            "\t\t* this is the row where the value -- 712623.0 -- falls. on the 10-th row\n",
            "44-th value: 765329.5\n",
            "\t\t* interval index: 11\n",
            "\t\t* empty columns: ['ttl_1', 'ttl_2', 'ttl_3', 'ttl_4']\n",
            "\t\t* this is the row where the value -- 765329.5 -- falls. on the 11-th row\n",
            "45-th value: 772138.0\n",
            "\t\t* interval index: 11\n",
            "\t\t* empty columns: ['ttl_2', 'ttl_3', 'ttl_4']\n",
            "\t\t* this is the row where the value -- 772138.0 -- falls. on the 11-th row\n",
            "46-th value: 782141.0\n",
            "\t\t* interval index: 11\n",
            "\t\t* empty columns: ['ttl_3', 'ttl_4']\n",
            "\t\t* this is the row where the value -- 782141.0 -- falls. on the 11-th row\n",
            "47-th value: 788244.0\n",
            "\t\t* interval index: 11\n",
            "\t\t* empty columns: ['ttl_4']\n",
            "\t\t* this is the row where the value -- 788244.0 -- falls. on the 11-th row\n"
          ]
        }
      ],
      "source": [
        "for i in range(len(df_stim)):\n",
        "    idx = pd.IntervalIndex.from_arrays(df_onset['beforettl_start'],\n",
        "                                        df_onset['afterttl_end'])\n",
        "    start_val = df_stim.iloc[i][df_stim.columns.get_loc('stim_start')]\n",
        "    interval_idx = df_onset[idx.contains(start_val)].index[0]\n",
        "    df_onset.iloc[interval_idx,\n",
        "                    df_onset.columns.get_loc('stim_start')] = start_val\n",
        "\n",
        "    end_val = df_stim.iloc[i][df_stim.columns.get_loc('stim_end')]\n",
        "    interval_idx = df_onset[idx.contains(end_val)].index[0]\n",
        "    df_onset.iloc[interval_idx,\n",
        "                    df_onset.columns.get_loc('stim_end')] = end_val\n",
        "    print(\n",
        "        f\"this is the {i}-th iteration. stim value is {start_val}, and is in between index {interval_idx}\"\n",
        "    )\n",
        "\n",
        "# define empty TTL data frame\n",
        "df_ttl = pd.DataFrame(np.nan,\n",
        "                        index=np.arange(len(df_onset)),\n",
        "                        columns=['ttl_1', 'ttl_2', 'ttl_3', 'ttl_4'])\n",
        "\n",
        "# identify which set of TTLs fall between expect and actual\n",
        "pad = 1  # seconds. you may increase the value to have a bigger event search interval\n",
        "df_onset['beforettl_start_interval'] = df_onset['beforettl_start'] - pad*samplingrate\n",
        "df_onset['afterttl_end_interval'] = df_onset['afterttl_end'] + pad*samplingrate\n",
        "idx = pd.IntervalIndex.from_arrays(df_onset['beforettl_start_interval'],\n",
        "                                    df_onset['afterttl_end_interval'])\n",
        "\n",
        "for i in range(len(ttl_onsets)):\n",
        "    # iterlogger = logging.getLogger(\"ttl.assign_onset\")\n",
        "    val = ttl_onsets[i]\n",
        "    print(f\"{i}-th value: {val}\")\n",
        "    empty_cols = []\n",
        "    try:\n",
        "        interval_idx = df_onset[idx.contains(val)].index\n",
        "        if len(interval_idx) == 0:\n",
        "            trim = val - samplingrate * 2\n",
        "            interval_idx = df_onset[idx.contains(trim)].index\n",
        "            print(\n",
        "                f\"this TTL does not belong to any event boundary\")\n",
        "                \n",
        "        interval_idx = interval_idx[0]\n",
        "        print(f\"\\t\\t* interval index: {interval_idx}\")\n",
        "    except:\n",
        "        print(\n",
        "            f\"this TTL does not belong to any event boundary\")\n",
        "        continue\n",
        "    mask = df_ttl.loc[[interval_idx]].isnull()\n",
        "    empty_cols = list(\n",
        "        itertools.compress(np.array(df_ttl.columns.to_list()),\n",
        "                            mask.values[0]))\n",
        "    print(f\"\\t\\t* empty columns: {empty_cols}\")\n",
        "    df_ttl.loc[df_ttl.index[interval_idx], str(empty_cols[0])] = val\n",
        "    print(\n",
        "        f\"\\t\\t* this is the row where the value -- {val} -- falls. on the {interval_idx}-th row\"\n",
        "    )\n",
        "\n",
        "# merge :: merge df_onset and df_ttl -> final output: final df\n",
        "final_df = pd.merge(df_onset,\n",
        "                    df_ttl,\n",
        "                    left_index=True,\n",
        "                    right_index=True)\n",
        "final_df['ttl_r1'] = final_df['ttl_1'] - final_df['stim_start']\n",
        "final_df['ttl_r2'] = final_df['ttl_2'] - final_df['stim_start']\n",
        "final_df['ttl_r3'] = final_df['ttl_3'] - final_df['stim_start']\n",
        "final_df['ttl_r4'] = final_df['ttl_4'] - final_df['stim_start']\n"
      ]
    },
    {
      "cell_type": "markdown",
      "metadata": {
        "id": "36SNg5IqyiEC"
      },
      "source": [
        "##### 5.3 plot final output"
      ]
    },
    {
      "cell_type": "code",
      "execution_count": null,
      "metadata": {
        "colab": {
          "base_uri": "https://localhost:8080/",
          "height": 490
        },
        "id": "XiDsdvV6ykxi",
        "outputId": "74453f10-44b6-40a1-8e43-3f476017f963"
      },
      "outputs": [
        {
          "data": {
            "text/html": [
              "\n",
              "  <div id=\"df-04342533-b21f-4238-9cf3-4c01158e4225\">\n",
              "    <div class=\"colab-df-container\">\n",
              "      <div>\n",
              "<style scoped>\n",
              "    .dataframe tbody tr th:only-of-type {\n",
              "        vertical-align: middle;\n",
              "    }\n",
              "\n",
              "    .dataframe tbody tr th {\n",
              "        vertical-align: top;\n",
              "    }\n",
              "\n",
              "    .dataframe thead th {\n",
              "        text-align: right;\n",
              "    }\n",
              "</style>\n",
              "<table border=\"1\" class=\"dataframe\">\n",
              "  <thead>\n",
              "    <tr style=\"text-align: right;\">\n",
              "      <th></th>\n",
              "      <th>beforettl_start</th>\n",
              "      <th>afterttl_end</th>\n",
              "      <th>stim_start</th>\n",
              "      <th>stim_end</th>\n",
              "      <th>beforettl_start_interval</th>\n",
              "      <th>afterttl_end_interval</th>\n",
              "      <th>ttl_1</th>\n",
              "      <th>ttl_2</th>\n",
              "      <th>ttl_3</th>\n",
              "      <th>ttl_4</th>\n",
              "      <th>ttl_r1</th>\n",
              "      <th>ttl_r2</th>\n",
              "      <th>ttl_r3</th>\n",
              "      <th>ttl_r4</th>\n",
              "    </tr>\n",
              "  </thead>\n",
              "  <tbody>\n",
              "    <tr>\n",
              "      <th>0</th>\n",
              "      <td>20230</td>\n",
              "      <td>70364</td>\n",
              "      <td>37737.0</td>\n",
              "      <td>55551.0</td>\n",
              "      <td>18230.0</td>\n",
              "      <td>72364.0</td>\n",
              "      <td>37757.5</td>\n",
              "      <td>44107.0</td>\n",
              "      <td>54110.5</td>\n",
              "      <td>59814.0</td>\n",
              "      <td>20.5</td>\n",
              "      <td>6370.0</td>\n",
              "      <td>16373.5</td>\n",
              "      <td>22077.0</td>\n",
              "    </tr>\n",
              "    <tr>\n",
              "      <th>1</th>\n",
              "      <td>79997</td>\n",
              "      <td>117498</td>\n",
              "      <td>90822.0</td>\n",
              "      <td>108751.0</td>\n",
              "      <td>77997.0</td>\n",
              "      <td>119498.0</td>\n",
              "      <td>90890.5</td>\n",
              "      <td>97638.5</td>\n",
              "      <td>107641.5</td>\n",
              "      <td>113747.0</td>\n",
              "      <td>68.5</td>\n",
              "      <td>6816.5</td>\n",
              "      <td>16819.5</td>\n",
              "      <td>22925.0</td>\n",
              "    </tr>\n",
              "    <tr>\n",
              "      <th>2</th>\n",
              "      <td>137798</td>\n",
              "      <td>183531</td>\n",
              "      <td>159844.0</td>\n",
              "      <td>177751.0</td>\n",
              "      <td>135798.0</td>\n",
              "      <td>185531.0</td>\n",
              "      <td>159903.5</td>\n",
              "      <td>166232.0</td>\n",
              "      <td>176232.0</td>\n",
              "      <td>181979.0</td>\n",
              "      <td>59.5</td>\n",
              "      <td>6388.0</td>\n",
              "      <td>16388.0</td>\n",
              "      <td>22135.0</td>\n",
              "    </tr>\n",
              "    <tr>\n",
              "      <th>3</th>\n",
              "      <td>197996</td>\n",
              "      <td>244779</td>\n",
              "      <td>211211.0</td>\n",
              "      <td>229151.0</td>\n",
              "      <td>195996.0</td>\n",
              "      <td>246779.0</td>\n",
              "      <td>211285.5</td>\n",
              "      <td>217986.5</td>\n",
              "      <td>227984.0</td>\n",
              "      <td>234092.5</td>\n",
              "      <td>74.5</td>\n",
              "      <td>6775.5</td>\n",
              "      <td>16773.0</td>\n",
              "      <td>22881.5</td>\n",
              "    </tr>\n",
              "    <tr>\n",
              "      <th>4</th>\n",
              "      <td>255197</td>\n",
              "      <td>298307</td>\n",
              "      <td>264443.0</td>\n",
              "      <td>282352.0</td>\n",
              "      <td>253197.0</td>\n",
              "      <td>300307.0</td>\n",
              "      <td>264499.5</td>\n",
              "      <td>271696.0</td>\n",
              "      <td>281698.5</td>\n",
              "      <td>288173.5</td>\n",
              "      <td>56.5</td>\n",
              "      <td>7253.0</td>\n",
              "      <td>17255.5</td>\n",
              "      <td>23730.5</td>\n",
              "    </tr>\n",
              "    <tr>\n",
              "      <th>5</th>\n",
              "      <td>310996</td>\n",
              "      <td>369997</td>\n",
              "      <td>335442.0</td>\n",
              "      <td>353350.0</td>\n",
              "      <td>308996.0</td>\n",
              "      <td>371997.0</td>\n",
              "      <td>335490.5</td>\n",
              "      <td>341839.0</td>\n",
              "      <td>351842.0</td>\n",
              "      <td>357636.5</td>\n",
              "      <td>48.5</td>\n",
              "      <td>6397.0</td>\n",
              "      <td>16400.0</td>\n",
              "      <td>22194.5</td>\n",
              "    </tr>\n",
              "    <tr>\n",
              "      <th>6</th>\n",
              "      <td>379397</td>\n",
              "      <td>438097</td>\n",
              "      <td>403806.0</td>\n",
              "      <td>421750.0</td>\n",
              "      <td>377397.0</td>\n",
              "      <td>440097.0</td>\n",
              "      <td>403884.0</td>\n",
              "      <td>411162.0</td>\n",
              "      <td>421162.5</td>\n",
              "      <td>427560.5</td>\n",
              "      <td>78.0</td>\n",
              "      <td>7356.0</td>\n",
              "      <td>17356.5</td>\n",
              "      <td>23754.5</td>\n",
              "    </tr>\n",
              "    <tr>\n",
              "      <th>7</th>\n",
              "      <td>451197</td>\n",
              "      <td>495306</td>\n",
              "      <td>460422.0</td>\n",
              "      <td>478350.0</td>\n",
              "      <td>449197.0</td>\n",
              "      <td>497306.0</td>\n",
              "      <td>460486.5</td>\n",
              "      <td>466717.5</td>\n",
              "      <td>476715.0</td>\n",
              "      <td>482500.5</td>\n",
              "      <td>64.5</td>\n",
              "      <td>6295.5</td>\n",
              "      <td>16293.0</td>\n",
              "      <td>22078.5</td>\n",
              "    </tr>\n",
              "    <tr>\n",
              "      <th>8</th>\n",
              "      <td>525597</td>\n",
              "      <td>566166</td>\n",
              "      <td>538835.0</td>\n",
              "      <td>556750.0</td>\n",
              "      <td>523597.0</td>\n",
              "      <td>568166.0</td>\n",
              "      <td>538909.5</td>\n",
              "      <td>546088.0</td>\n",
              "      <td>556091.0</td>\n",
              "      <td>562494.0</td>\n",
              "      <td>74.5</td>\n",
              "      <td>7253.0</td>\n",
              "      <td>17256.0</td>\n",
              "      <td>23659.0</td>\n",
              "    </tr>\n",
              "    <tr>\n",
              "      <th>9</th>\n",
              "      <td>588197</td>\n",
              "      <td>628397</td>\n",
              "      <td>599438.0</td>\n",
              "      <td>617350.0</td>\n",
              "      <td>586197.0</td>\n",
              "      <td>630397.0</td>\n",
              "      <td>599513.5</td>\n",
              "      <td>606730.5</td>\n",
              "      <td>616731.0</td>\n",
              "      <td>623197.0</td>\n",
              "      <td>75.5</td>\n",
              "      <td>7292.5</td>\n",
              "      <td>17293.0</td>\n",
              "      <td>23759.0</td>\n",
              "    </tr>\n",
              "    <tr>\n",
              "      <th>10</th>\n",
              "      <td>662197</td>\n",
              "      <td>723031</td>\n",
              "      <td>689626.0</td>\n",
              "      <td>707550.0</td>\n",
              "      <td>660197.0</td>\n",
              "      <td>725031.0</td>\n",
              "      <td>689706.5</td>\n",
              "      <td>696524.5</td>\n",
              "      <td>706525.0</td>\n",
              "      <td>712623.0</td>\n",
              "      <td>80.5</td>\n",
              "      <td>6898.5</td>\n",
              "      <td>16899.0</td>\n",
              "      <td>22997.0</td>\n",
              "    </tr>\n",
              "    <tr>\n",
              "      <th>11</th>\n",
              "      <td>743199</td>\n",
              "      <td>795198</td>\n",
              "      <td>765267.0</td>\n",
              "      <td>783150.0</td>\n",
              "      <td>741199.0</td>\n",
              "      <td>797198.0</td>\n",
              "      <td>765329.5</td>\n",
              "      <td>772138.0</td>\n",
              "      <td>782141.0</td>\n",
              "      <td>788244.0</td>\n",
              "      <td>62.5</td>\n",
              "      <td>6871.0</td>\n",
              "      <td>16874.0</td>\n",
              "      <td>22977.0</td>\n",
              "    </tr>\n",
              "  </tbody>\n",
              "</table>\n",
              "</div>\n",
              "      <button class=\"colab-df-convert\" onclick=\"convertToInteractive('df-04342533-b21f-4238-9cf3-4c01158e4225')\"\n",
              "              title=\"Convert this dataframe to an interactive table.\"\n",
              "              style=\"display:none;\">\n",
              "        \n",
              "  <svg xmlns=\"http://www.w3.org/2000/svg\" height=\"24px\"viewBox=\"0 0 24 24\"\n",
              "       width=\"24px\">\n",
              "    <path d=\"M0 0h24v24H0V0z\" fill=\"none\"/>\n",
              "    <path d=\"M18.56 5.44l.94 2.06.94-2.06 2.06-.94-2.06-.94-.94-2.06-.94 2.06-2.06.94zm-11 1L8.5 8.5l.94-2.06 2.06-.94-2.06-.94L8.5 2.5l-.94 2.06-2.06.94zm10 10l.94 2.06.94-2.06 2.06-.94-2.06-.94-.94-2.06-.94 2.06-2.06.94z\"/><path d=\"M17.41 7.96l-1.37-1.37c-.4-.4-.92-.59-1.43-.59-.52 0-1.04.2-1.43.59L10.3 9.45l-7.72 7.72c-.78.78-.78 2.05 0 2.83L4 21.41c.39.39.9.59 1.41.59.51 0 1.02-.2 1.41-.59l7.78-7.78 2.81-2.81c.8-.78.8-2.07 0-2.86zM5.41 20L4 18.59l7.72-7.72 1.47 1.35L5.41 20z\"/>\n",
              "  </svg>\n",
              "      </button>\n",
              "      \n",
              "  <style>\n",
              "    .colab-df-container {\n",
              "      display:flex;\n",
              "      flex-wrap:wrap;\n",
              "      gap: 12px;\n",
              "    }\n",
              "\n",
              "    .colab-df-convert {\n",
              "      background-color: #E8F0FE;\n",
              "      border: none;\n",
              "      border-radius: 50%;\n",
              "      cursor: pointer;\n",
              "      display: none;\n",
              "      fill: #1967D2;\n",
              "      height: 32px;\n",
              "      padding: 0 0 0 0;\n",
              "      width: 32px;\n",
              "    }\n",
              "\n",
              "    .colab-df-convert:hover {\n",
              "      background-color: #E2EBFA;\n",
              "      box-shadow: 0px 1px 2px rgba(60, 64, 67, 0.3), 0px 1px 3px 1px rgba(60, 64, 67, 0.15);\n",
              "      fill: #174EA6;\n",
              "    }\n",
              "\n",
              "    [theme=dark] .colab-df-convert {\n",
              "      background-color: #3B4455;\n",
              "      fill: #D2E3FC;\n",
              "    }\n",
              "\n",
              "    [theme=dark] .colab-df-convert:hover {\n",
              "      background-color: #434B5C;\n",
              "      box-shadow: 0px 1px 3px 1px rgba(0, 0, 0, 0.15);\n",
              "      filter: drop-shadow(0px 1px 2px rgba(0, 0, 0, 0.3));\n",
              "      fill: #FFFFFF;\n",
              "    }\n",
              "  </style>\n",
              "\n",
              "      <script>\n",
              "        const buttonEl =\n",
              "          document.querySelector('#df-04342533-b21f-4238-9cf3-4c01158e4225 button.colab-df-convert');\n",
              "        buttonEl.style.display =\n",
              "          google.colab.kernel.accessAllowed ? 'block' : 'none';\n",
              "\n",
              "        async function convertToInteractive(key) {\n",
              "          const element = document.querySelector('#df-04342533-b21f-4238-9cf3-4c01158e4225');\n",
              "          const dataTable =\n",
              "            await google.colab.kernel.invokeFunction('convertToInteractive',\n",
              "                                                     [key], {});\n",
              "          if (!dataTable) return;\n",
              "\n",
              "          const docLinkHtml = 'Like what you see? Visit the ' +\n",
              "            '<a target=\"_blank\" href=https://colab.research.google.com/notebooks/data_table.ipynb>data table notebook</a>'\n",
              "            + ' to learn more about interactive tables.';\n",
              "          element.innerHTML = '';\n",
              "          dataTable['output_type'] = 'display_data';\n",
              "          await google.colab.output.renderOutput(dataTable, element);\n",
              "          const docLink = document.createElement('div');\n",
              "          docLink.innerHTML = docLinkHtml;\n",
              "          element.appendChild(docLink);\n",
              "        }\n",
              "      </script>\n",
              "    </div>\n",
              "  </div>\n",
              "  "
            ],
            "text/plain": [
              "    beforettl_start  afterttl_end  stim_start  stim_end  \\\n",
              "0             20230         70364     37737.0   55551.0   \n",
              "1             79997        117498     90822.0  108751.0   \n",
              "2            137798        183531    159844.0  177751.0   \n",
              "3            197996        244779    211211.0  229151.0   \n",
              "4            255197        298307    264443.0  282352.0   \n",
              "5            310996        369997    335442.0  353350.0   \n",
              "6            379397        438097    403806.0  421750.0   \n",
              "7            451197        495306    460422.0  478350.0   \n",
              "8            525597        566166    538835.0  556750.0   \n",
              "9            588197        628397    599438.0  617350.0   \n",
              "10           662197        723031    689626.0  707550.0   \n",
              "11           743199        795198    765267.0  783150.0   \n",
              "\n",
              "    beforettl_start_interval  afterttl_end_interval     ttl_1     ttl_2  \\\n",
              "0                    18230.0                72364.0   37757.5   44107.0   \n",
              "1                    77997.0               119498.0   90890.5   97638.5   \n",
              "2                   135798.0               185531.0  159903.5  166232.0   \n",
              "3                   195996.0               246779.0  211285.5  217986.5   \n",
              "4                   253197.0               300307.0  264499.5  271696.0   \n",
              "5                   308996.0               371997.0  335490.5  341839.0   \n",
              "6                   377397.0               440097.0  403884.0  411162.0   \n",
              "7                   449197.0               497306.0  460486.5  466717.5   \n",
              "8                   523597.0               568166.0  538909.5  546088.0   \n",
              "9                   586197.0               630397.0  599513.5  606730.5   \n",
              "10                  660197.0               725031.0  689706.5  696524.5   \n",
              "11                  741199.0               797198.0  765329.5  772138.0   \n",
              "\n",
              "       ttl_3     ttl_4  ttl_r1  ttl_r2   ttl_r3   ttl_r4  \n",
              "0    54110.5   59814.0    20.5  6370.0  16373.5  22077.0  \n",
              "1   107641.5  113747.0    68.5  6816.5  16819.5  22925.0  \n",
              "2   176232.0  181979.0    59.5  6388.0  16388.0  22135.0  \n",
              "3   227984.0  234092.5    74.5  6775.5  16773.0  22881.5  \n",
              "4   281698.5  288173.5    56.5  7253.0  17255.5  23730.5  \n",
              "5   351842.0  357636.5    48.5  6397.0  16400.0  22194.5  \n",
              "6   421162.5  427560.5    78.0  7356.0  17356.5  23754.5  \n",
              "7   476715.0  482500.5    64.5  6295.5  16293.0  22078.5  \n",
              "8   556091.0  562494.0    74.5  7253.0  17256.0  23659.0  \n",
              "9   616731.0  623197.0    75.5  7292.5  17293.0  23759.0  \n",
              "10  706525.0  712623.0    80.5  6898.5  16899.0  22997.0  \n",
              "11  782141.0  788244.0    62.5  6871.0  16874.0  22977.0  "
            ]
          },
          "execution_count": 115,
          "metadata": {},
          "output_type": "execute_result"
        }
      ],
      "source": [
        "final_df"
      ]
    },
    {
      "cell_type": "code",
      "execution_count": null,
      "metadata": {
        "id": "igvu6CnDzZQO"
      },
      "outputs": [],
      "source": [
        "ttl2 = final_df['ttl_2'].values.tolist()\n",
        "plateau_start = np.ceil(ttl2).astype(pd.Int64Dtype)\n",
        "\n",
        "any_nans = np.argwhere(np.isnan(ttl2)).tolist()\n",
        "# if len(any_nans) != 0:\n",
        "flat_nans = [item for sublist in any_nans for item in sublist]\n",
        "for ind in flat_nans:\n",
        "    plateau_start = np.delete(plateau_start, ind)\n",
        "beh_df.drop(flat_nans, axis=0, inplace=True)\n",
        "beh_df['trial_num'] = beh_df.index + 1"
      ]
    },
    {
      "cell_type": "code",
      "execution_count": null,
      "metadata": {
        "id": "-7rngOKc32ck"
      },
      "outputs": [],
      "source": [
        "event_stimuli = {\n",
        "    'onset': np.array(plateau_start).astype(pd.Int64Dtype),\n",
        "    'duration': np.repeat(samplingrate * 5, 12),\n",
        "    'label': np.array(np.arange(12)),\n",
        "    'condition': beh_df['param_stimulus_type'].values.tolist()\n",
        "}"
      ]
    },
    {
      "cell_type": "code",
      "execution_count": null,
      "metadata": {
        "colab": {
          "base_uri": "https://localhost:8080/"
        },
        "id": "-6RYyDeC35IK",
        "outputId": "004cc432-f15e-4ca1-faf2-098b07e04933"
      },
      "outputs": [
        {
          "data": {
            "text/plain": [
              "{'onset': array([44107.0, 97639.0, 166232.0, 217987.0, 271696.0, 341839.0, 411162.0,\n",
              "        466718.0, 546088.0, 606731.0, 696525.0, 772138.0], dtype=object),\n",
              " 'duration': array([10000., 10000., 10000., 10000., 10000., 10000., 10000., 10000.,\n",
              "        10000., 10000., 10000., 10000.]),\n",
              " 'label': array([ 0,  1,  2,  3,  4,  5,  6,  7,  8,  9, 10, 11]),\n",
              " 'condition': ['med_stim',\n",
              "  'high_stim',\n",
              "  'high_stim',\n",
              "  'low_stim',\n",
              "  'med_stim',\n",
              "  'low_stim',\n",
              "  'med_stim',\n",
              "  'med_stim',\n",
              "  'high_stim',\n",
              "  'low_stim',\n",
              "  'low_stim',\n",
              "  'high_stim']}"
            ]
          },
          "execution_count": 119,
          "metadata": {},
          "output_type": "execute_result"
        }
      ],
      "source": [
        "event_stimuli"
      ]
    },
    {
      "cell_type": "markdown",
      "metadata": {
        "id": "M9X7J8jgz-1G"
      },
      "source": [
        "### 5.4 Check alignment with physio data and TTL signal"
      ]
    },
    {
      "cell_type": "code",
      "execution_count": null,
      "metadata": {
        "colab": {
          "base_uri": "https://localhost:8080/",
          "height": 393
        },
        "id": "PbNk0d3GzMF6",
        "outputId": "3352a101-da5a-455d-f14d-3d1ec2ec30ef"
      },
      "outputs": [
        {
          "name": "stderr",
          "output_type": "stream",
          "text": [
            "/usr/local/lib/python3.7/dist-packages/IPython/core/events.py:88: UserWarning: Creating legend with loc=\"best\" can be slow with large amounts of data.\n",
            "  func(*args, **kwargs)\n",
            "/usr/local/lib/python3.7/dist-packages/IPython/core/pylabtools.py:128: UserWarning: Creating legend with loc=\"best\" can be slow with large amounts of data.\n",
            "  fig.canvas.print_figure(bytes_io, **kw)\n"
          ]
        },
        {
          "data": {
            "image/png": "[encoded data removed]",
            "text/plain": [
              "<Figure size 1080x360 with 1 Axes>"
            ]
          },
          "metadata": {
            "needs_background": "light"
          },
          "output_type": "display_data"
        }
      ],
      "source": [
        "plot = nk.events_plot(event_stimuli, \n",
        "                      run_df[['EDA_corrected_02fixation','physio_eda','ttl']])"
      ]
    },
    {
      "cell_type": "markdown",
      "metadata": {
        "id": "LJky3N1_yt9i"
      },
      "source": [
        "## 6.merge metadata with physio data"
      ]
    },
    {
      "cell_type": "code",
      "execution_count": null,
      "metadata": {
        "id": "jw3XtRIvysrR"
      },
      "outputs": [],
      "source": [
        "beh_df['cond_name'] = beh_df['param_cue_type'].astype(str) + '_' + beh_df['param_stimulus_type'].astype(str)"
      ]
    },
    {
      "cell_type": "markdown",
      "metadata": {
        "id": "ahwDgE5l0whB"
      },
      "source": [
        "## 7.Process EDA signal @Isabel Neumann\n",
        "\n",
        "note:\n",
        "\n",
        "* all these steps are included in nk.eda_process and also in nk.bio_process\n",
        "* with subdiving into low-level functions, we have more control over parameters like:\n",
        "    * filters\n",
        "    * minimum amplitude for SCRs (related to specific stimulus, not non-specific SCRs which appear in every eda signal but are not particularly related to a stimulus)\n",
        "\n",
        "\n",
        "### processing steps include:\n",
        "\n",
        "1. sanitize signal\n",
        "  * returns a default indexed signal (really necessary?)\n",
        "  \n",
        "2. filter signal (comparable to nk.eda_clean)\n",
        "  * returns array with filtered signal\n",
        "  * smoothing or low-pass filtering (e.g., Butterworth filter) recommended to remove high-frequency noise and small artifacts\n",
        "3. detrend the signals\n",
        "4. decompose signal into phasic & tonic component\n",
        "  * suggested by neurokit documentation -> helps to provide a more accurate estimation of the true SCR amplitude\n",
        "  * signal is furthermore standardized which is also suggested by neurokit documentation -> useful in presence of high inter-individual variations, which usually is the case for pain perception\n",
        "  * EDA_Tonic channel represents the skin conductance level (another measure of tonic skin conductance activity)\n",
        "5. find peaks\n",
        "  * returns dict with amplitude of SCR, samples at which SCR onset and SCR peaks occur (accessible with \"SCR_Amplitude\", \"SCR_Onsets\", \"SCR_Peaks\")\n",
        "5. store signal\n",
        "\n",
        "-- input from Isabel Neumann [isabel.neumann@dartmouth.edu](isabel.neumann@dartmouth.edu)"
      ]
    },
    {
      "cell_type": "markdown",
      "metadata": {
        "id": "shJciP48AxsW"
      },
      "source": [
        "## # Skin Conductance Response (SCR) Phasic"
      ]
    },
    {
      "cell_type": "markdown",
      "metadata": {
        "id": "xKh8zP2e3ICz"
      },
      "source": [
        "### 7.1 EDA sanitize & 7.2 filter signals"
      ]
    },
    {
      "cell_type": "code",
      "execution_count": null,
      "metadata": {
        "colab": {
          "base_uri": "https://localhost:8080/",
          "height": 361
        },
        "id": "k7Rw_Vpk1JKU",
        "outputId": "5aa33895-a666-4283-ca45-e438c42f9f76"
      },
      "outputs": [
        {
          "data": {
            "text/plain": [
              "<matplotlib.legend.Legend at 0x7f7098a6d3d0>"
            ]
          },
          "execution_count": 177,
          "metadata": {},
          "output_type": "execute_result"
        },
        {
          "data": {
            "image/png": "[encoded data removed]",
            "text/plain": [
              "<Figure size 1080x360 with 1 Axes>"
            ]
          },
          "metadata": {
            "needs_background": "light"
          },
          "output_type": "display_data"
        }
      ],
      "source": [
        "\n",
        "# IF you want to use raw signal\n",
        "# eda_signal = nk.signal_sanitize(run_physio[\"Skin Conductance (EDA) - EDA100C-MRI\"])\n",
        "# eda_raw_plot = plt.plot(run_df[\"Skin Conductance (EDA) - EDA100C-MRI\"])\n",
        "\n",
        "amp_min = 0.01\n",
        "scr_signal = nk.signal_sanitize(\n",
        "    run_df['physio_eda'])\n",
        "scr_filters = nk.signal_filter(scr_signal, \n",
        "                               sampling_rate=samplingrate, \n",
        "                               highcut=1, method=\"butterworth\", order=2)\n",
        "figure, ax1 = plt.subplots()\n",
        "ax1.title.set_text('7.1 sanitize and 7.2 sanitize + filter')\n",
        "l1 = ax1.plot(scr_signal, linewidth=1, zorder=1, label=\"sanitize\", color=\"orange\")\n",
        "l2 = ax1.plot(scr_filters, linewidth=1, zorder=1, label=\"sanitize + filter\", color=\"green\")\n",
        "ax1.legend(handles=[ l1[0], l2[0]])"
      ]
    },
    {
      "cell_type": "markdown",
      "metadata": {
        "id": "HdgMOQwgA8bt"
      },
      "source": [
        "### 7.3 detrend"
      ]
    },
    {
      "cell_type": "code",
      "execution_count": null,
      "metadata": {
        "colab": {
          "base_uri": "https://localhost:8080/",
          "height": 361
        },
        "id": "1_R2k1duA65C",
        "outputId": "9969aa6f-9228-4d21-8b45-feb38426a794"
      },
      "outputs": [
        {
          "data": {
            "text/plain": [
              "<matplotlib.legend.Legend at 0x7f709adfa610>"
            ]
          },
          "execution_count": 139,
          "metadata": {},
          "output_type": "execute_result"
        },
        {
          "data": {
            "image/png": "[encoded data removed]",
            "text/plain": [
              "<Figure size 1080x360 with 1 Axes>"
            ]
          },
          "metadata": {
            "needs_background": "light"
          },
          "output_type": "display_data"
        }
      ],
      "source": [
        "scr_detrend = nk.signal_detrend(scr_filters)\n",
        "figure, ax1 = plt.subplots()\n",
        "ax1.title.set_text('7.3 detrend')\n",
        "# l1 = ax1.plot(run_df[\"EDA_corrected_02fixation\"], linewidth=1.5, zorder=1, label=\"baseline corrected\", color=\"gray\")\n",
        "l1 = ax1.plot(scr_filters, linewidth=1, zorder=1, label=\"sanitize + filter\", color=\"orange\")\n",
        "l2 = ax1.plot(scr_detrend, linewidth=1, zorder=1, label=\"sanitize + filter + detrend\", color=\"green\")\n",
        "ax1.legend(handles=[l1[0], l2[0]])"
      ]
    },
    {
      "cell_type": "markdown",
      "metadata": {
        "id": "NhBOcw4k3FIr"
      },
      "source": [
        "### 7.4 decompose EDA signal (tonic/phasic)"
      ]
    },
    {
      "cell_type": "code",
      "execution_count": null,
      "metadata": {
        "colab": {
          "base_uri": "https://localhost:8080/",
          "height": 361
        },
        "id": "c-7CAhT8246O",
        "outputId": "013e494a-8833-4e99-eb1c-2ed013cb3b3f"
      },
      "outputs": [
        {
          "data": {
            "text/plain": [
              "Text(0.5, 1.0, '7.4 decomposition of the eda signals: tonic & phasic')"
            ]
          },
          "execution_count": 176,
          "metadata": {},
          "output_type": "execute_result"
        },
        {
          "data": {
            "image/png": "[encoded data removed]",
            "text/plain": [
              "<Figure size 1080x360 with 1 Axes>"
            ]
          },
          "metadata": {
            "needs_background": "light"
          },
          "output_type": "display_data"
        }
      ],
      "source": [
        "\n",
        "scr_decomposed = nk.eda_phasic(nk.standardize(scr_detrend), \n",
        "                               sampling_rate=samplingrate) \n",
        "scr_decomposed_plot = scr_decomposed.plot()\n",
        "\n",
        "scr_peaks, info = nk.eda_peaks(scr_decomposed[\"EDA_Phasic\"].values,\n",
        "                               sampling_rate=samplingrate, \n",
        "                               method = \"neurokit\", amplitude_min = 0.02)  \n",
        "scr_signals = pd.DataFrame({\"EDA_Raw\": scr_signal, \"EDA_Clean\": scr_signal})\n",
        "scr_processed = pd.concat([scr_signals, scr_decomposed, scr_peaks], axis=1) \n",
        "# eda_level_signal = eda_processed[\"EDA_Tonic\"] # for skin conductance level\n",
        "plt.title(\"7.4 decomposition of the eda signals: tonic & phasic\")"
      ]
    },
    {
      "cell_type": "code",
      "execution_count": null,
      "metadata": {
        "colab": {
          "base_uri": "https://localhost:8080/",
          "height": 396
        },
        "id": "jGcONzhgFIYm",
        "outputId": "7ebc3fc1-64b6-452a-e25d-5732c282fbe1"
      },
      "outputs": [
        {
          "data": {
            "text/plain": [
              "Text(0.5, 1.0, \"Let's check the alignment of the condition types and the tonic/phasic signals\")"
            ]
          },
          "execution_count": 158,
          "metadata": {},
          "output_type": "execute_result"
        },
        {
          "name": "stderr",
          "output_type": "stream",
          "text": [
            "/usr/local/lib/python3.7/dist-packages/IPython/core/events.py:88: UserWarning: Creating legend with loc=\"best\" can be slow with large amounts of data.\n",
            "  func(*args, **kwargs)\n"
          ]
        },
        {
          "data": {
            "image/png": "[encoded data removed]",
            "text/plain": [
              "<Figure size 1080x360 with 1 Axes>"
            ]
          },
          "metadata": {
            "needs_background": "light"
          },
          "output_type": "display_data"
        }
      ],
      "source": [
        "plot_eda_phasic = nk.events_plot(event_stimuli, \n",
        "                                 scr_processed[[\"EDA_Tonic\", \"EDA_Phasic\"]])\n",
        "plt.title(\"Let's check the alignment of the condition types and the tonic/phasic signals\")\n"
      ]
    },
    {
      "cell_type": "markdown",
      "metadata": {
        "id": "zKhzJqZxFh7Q"
      },
      "source": [
        "### 7.5 epochs_create\n",
        "> Lastly, we need to create epochs based on the start of the stimulus and also designate the start and end of the event. \n",
        "* In this example, we time-lock it to the start of the pain plateau, i.e. the 2nd TTL, because we have precision of the pain heat stimulus. \n",
        "* Because we're dealing with phasic activity, we also limit the time span of this signal to the duration of the plateau, i.e. 5 seconds. "
      ]
    },
    {
      "cell_type": "code",
      "execution_count": null,
      "metadata": {
        "colab": {
          "base_uri": "https://localhost:8080/",
          "height": 574
        },
        "id": "S2BXkZhRBTCP",
        "outputId": "2f973907-1f91-4a37-cf09-0d7ac998c3af"
      },
      "outputs": [
        {
          "name": "stderr",
          "output_type": "stream",
          "text": [
            "/usr/local/lib/python3.7/dist-packages/pandas/core/frame.py:5244: SettingWithCopyWarning: \n",
            "A value is trying to be set on a copy of a slice from a DataFrame\n",
            "\n",
            "See the caveats in the documentation: https://pandas.pydata.org/pandas-docs/stable/user_guide/indexing.html#returning-a-view-versus-a-copy\n",
            "  method=method,\n"
          ]
        },
        {
          "data": {
            "text/html": [
              "\n",
              "  <div id=\"df-b5ee39a2-7a6e-49e7-bef7-ab6c4edb63b9\">\n",
              "    <div class=\"colab-df-container\">\n",
              "      <div>\n",
              "<style scoped>\n",
              "    .dataframe tbody tr th:only-of-type {\n",
              "        vertical-align: middle;\n",
              "    }\n",
              "\n",
              "    .dataframe tbody tr th {\n",
              "        vertical-align: top;\n",
              "    }\n",
              "\n",
              "    .dataframe thead th {\n",
              "        text-align: right;\n",
              "    }\n",
              "</style>\n",
              "<table border=\"1\" class=\"dataframe\">\n",
              "  <thead>\n",
              "    <tr style=\"text-align: right;\">\n",
              "      <th></th>\n",
              "      <th>EDA_Raw</th>\n",
              "      <th>EDA_Clean</th>\n",
              "      <th>EDA_Tonic</th>\n",
              "      <th>EDA_Phasic</th>\n",
              "      <th>SCR_Onsets</th>\n",
              "      <th>SCR_Peaks</th>\n",
              "      <th>SCR_Height</th>\n",
              "      <th>SCR_Amplitude</th>\n",
              "      <th>SCR_RiseTime</th>\n",
              "      <th>SCR_Recovery</th>\n",
              "      <th>SCR_RecoveryTime</th>\n",
              "      <th>Index</th>\n",
              "      <th>Label</th>\n",
              "      <th>Condition</th>\n",
              "    </tr>\n",
              "  </thead>\n",
              "  <tbody>\n",
              "    <tr>\n",
              "      <th>0.0000</th>\n",
              "      <td>0.000000</td>\n",
              "      <td>0.000000</td>\n",
              "      <td>0.000000</td>\n",
              "      <td>0.000000</td>\n",
              "      <td>0.0</td>\n",
              "      <td>0.0</td>\n",
              "      <td>0.0</td>\n",
              "      <td>0.0</td>\n",
              "      <td>0.0</td>\n",
              "      <td>0.0</td>\n",
              "      <td>0.0</td>\n",
              "      <td>0.0</td>\n",
              "      <td>2</td>\n",
              "      <td>high_stim</td>\n",
              "    </tr>\n",
              "    <tr>\n",
              "      <th>0.0005</th>\n",
              "      <td>0.001526</td>\n",
              "      <td>0.001526</td>\n",
              "      <td>0.000061</td>\n",
              "      <td>0.000014</td>\n",
              "      <td>0.0</td>\n",
              "      <td>0.0</td>\n",
              "      <td>0.0</td>\n",
              "      <td>0.0</td>\n",
              "      <td>0.0</td>\n",
              "      <td>0.0</td>\n",
              "      <td>0.0</td>\n",
              "      <td>1.0</td>\n",
              "      <td>2</td>\n",
              "      <td>high_stim</td>\n",
              "    </tr>\n",
              "    <tr>\n",
              "      <th>0.0010</th>\n",
              "      <td>0.001526</td>\n",
              "      <td>0.001526</td>\n",
              "      <td>0.000122</td>\n",
              "      <td>0.000028</td>\n",
              "      <td>0.0</td>\n",
              "      <td>0.0</td>\n",
              "      <td>0.0</td>\n",
              "      <td>0.0</td>\n",
              "      <td>0.0</td>\n",
              "      <td>0.0</td>\n",
              "      <td>0.0</td>\n",
              "      <td>2.0</td>\n",
              "      <td>2</td>\n",
              "      <td>high_stim</td>\n",
              "    </tr>\n",
              "    <tr>\n",
              "      <th>0.0015</th>\n",
              "      <td>0.000000</td>\n",
              "      <td>0.000000</td>\n",
              "      <td>0.000183</td>\n",
              "      <td>0.000042</td>\n",
              "      <td>0.0</td>\n",
              "      <td>0.0</td>\n",
              "      <td>0.0</td>\n",
              "      <td>0.0</td>\n",
              "      <td>0.0</td>\n",
              "      <td>0.0</td>\n",
              "      <td>0.0</td>\n",
              "      <td>3.0</td>\n",
              "      <td>2</td>\n",
              "      <td>high_stim</td>\n",
              "    </tr>\n",
              "    <tr>\n",
              "      <th>0.0020</th>\n",
              "      <td>0.003052</td>\n",
              "      <td>0.003052</td>\n",
              "      <td>0.000245</td>\n",
              "      <td>0.000056</td>\n",
              "      <td>0.0</td>\n",
              "      <td>0.0</td>\n",
              "      <td>0.0</td>\n",
              "      <td>0.0</td>\n",
              "      <td>0.0</td>\n",
              "      <td>0.0</td>\n",
              "      <td>0.0</td>\n",
              "      <td>4.0</td>\n",
              "      <td>2</td>\n",
              "      <td>high_stim</td>\n",
              "    </tr>\n",
              "    <tr>\n",
              "      <th>...</th>\n",
              "      <td>...</td>\n",
              "      <td>...</td>\n",
              "      <td>...</td>\n",
              "      <td>...</td>\n",
              "      <td>...</td>\n",
              "      <td>...</td>\n",
              "      <td>...</td>\n",
              "      <td>...</td>\n",
              "      <td>...</td>\n",
              "      <td>...</td>\n",
              "      <td>...</td>\n",
              "      <td>...</td>\n",
              "      <td>...</td>\n",
              "      <td>...</td>\n",
              "    </tr>\n",
              "    <tr>\n",
              "      <th>4.9980</th>\n",
              "      <td>0.234985</td>\n",
              "      <td>0.234985</td>\n",
              "      <td>0.258988</td>\n",
              "      <td>0.194699</td>\n",
              "      <td>0.0</td>\n",
              "      <td>0.0</td>\n",
              "      <td>0.0</td>\n",
              "      <td>0.0</td>\n",
              "      <td>0.0</td>\n",
              "      <td>0.0</td>\n",
              "      <td>0.0</td>\n",
              "      <td>9995.0</td>\n",
              "      <td>2</td>\n",
              "      <td>high_stim</td>\n",
              "    </tr>\n",
              "    <tr>\n",
              "      <th>4.9985</th>\n",
              "      <td>0.238037</td>\n",
              "      <td>0.238037</td>\n",
              "      <td>0.258973</td>\n",
              "      <td>0.194552</td>\n",
              "      <td>0.0</td>\n",
              "      <td>0.0</td>\n",
              "      <td>0.0</td>\n",
              "      <td>0.0</td>\n",
              "      <td>0.0</td>\n",
              "      <td>0.0</td>\n",
              "      <td>0.0</td>\n",
              "      <td>9996.0</td>\n",
              "      <td>2</td>\n",
              "      <td>high_stim</td>\n",
              "    </tr>\n",
              "    <tr>\n",
              "      <th>4.9990</th>\n",
              "      <td>0.236511</td>\n",
              "      <td>0.236511</td>\n",
              "      <td>0.258958</td>\n",
              "      <td>0.194405</td>\n",
              "      <td>0.0</td>\n",
              "      <td>0.0</td>\n",
              "      <td>0.0</td>\n",
              "      <td>0.0</td>\n",
              "      <td>0.0</td>\n",
              "      <td>0.0</td>\n",
              "      <td>0.0</td>\n",
              "      <td>9997.0</td>\n",
              "      <td>2</td>\n",
              "      <td>high_stim</td>\n",
              "    </tr>\n",
              "    <tr>\n",
              "      <th>4.9995</th>\n",
              "      <td>0.238037</td>\n",
              "      <td>0.238037</td>\n",
              "      <td>0.258944</td>\n",
              "      <td>0.194258</td>\n",
              "      <td>0.0</td>\n",
              "      <td>0.0</td>\n",
              "      <td>0.0</td>\n",
              "      <td>0.0</td>\n",
              "      <td>0.0</td>\n",
              "      <td>0.0</td>\n",
              "      <td>0.0</td>\n",
              "      <td>9998.0</td>\n",
              "      <td>2</td>\n",
              "      <td>high_stim</td>\n",
              "    </tr>\n",
              "    <tr>\n",
              "      <th>5.0000</th>\n",
              "      <td>0.234985</td>\n",
              "      <td>0.234985</td>\n",
              "      <td>0.258929</td>\n",
              "      <td>0.194111</td>\n",
              "      <td>0.0</td>\n",
              "      <td>0.0</td>\n",
              "      <td>0.0</td>\n",
              "      <td>0.0</td>\n",
              "      <td>0.0</td>\n",
              "      <td>0.0</td>\n",
              "      <td>0.0</td>\n",
              "      <td>9999.0</td>\n",
              "      <td>2</td>\n",
              "      <td>high_stim</td>\n",
              "    </tr>\n",
              "  </tbody>\n",
              "</table>\n",
              "<p>10000 rows × 14 columns</p>\n",
              "</div>\n",
              "      <button class=\"colab-df-convert\" onclick=\"convertToInteractive('df-b5ee39a2-7a6e-49e7-bef7-ab6c4edb63b9')\"\n",
              "              title=\"Convert this dataframe to an interactive table.\"\n",
              "              style=\"display:none;\">\n",
              "        \n",
              "  <svg xmlns=\"http://www.w3.org/2000/svg\" height=\"24px\"viewBox=\"0 0 24 24\"\n",
              "       width=\"24px\">\n",
              "    <path d=\"M0 0h24v24H0V0z\" fill=\"none\"/>\n",
              "    <path d=\"M18.56 5.44l.94 2.06.94-2.06 2.06-.94-2.06-.94-.94-2.06-.94 2.06-2.06.94zm-11 1L8.5 8.5l.94-2.06 2.06-.94-2.06-.94L8.5 2.5l-.94 2.06-2.06.94zm10 10l.94 2.06.94-2.06 2.06-.94-2.06-.94-.94-2.06-.94 2.06-2.06.94z\"/><path d=\"M17.41 7.96l-1.37-1.37c-.4-.4-.92-.59-1.43-.59-.52 0-1.04.2-1.43.59L10.3 9.45l-7.72 7.72c-.78.78-.78 2.05 0 2.83L4 21.41c.39.39.9.59 1.41.59.51 0 1.02-.2 1.41-.59l7.78-7.78 2.81-2.81c.8-.78.8-2.07 0-2.86zM5.41 20L4 18.59l7.72-7.72 1.47 1.35L5.41 20z\"/>\n",
              "  </svg>\n",
              "      </button>\n",
              "      \n",
              "  <style>\n",
              "    .colab-df-container {\n",
              "      display:flex;\n",
              "      flex-wrap:wrap;\n",
              "      gap: 12px;\n",
              "    }\n",
              "\n",
              "    .colab-df-convert {\n",
              "      background-color: #E8F0FE;\n",
              "      border: none;\n",
              "      border-radius: 50%;\n",
              "      cursor: pointer;\n",
              "      display: none;\n",
              "      fill: #1967D2;\n",
              "      height: 32px;\n",
              "      padding: 0 0 0 0;\n",
              "      width: 32px;\n",
              "    }\n",
              "\n",
              "    .colab-df-convert:hover {\n",
              "      background-color: #E2EBFA;\n",
              "      box-shadow: 0px 1px 2px rgba(60, 64, 67, 0.3), 0px 1px 3px 1px rgba(60, 64, 67, 0.15);\n",
              "      fill: #174EA6;\n",
              "    }\n",
              "\n",
              "    [theme=dark] .colab-df-convert {\n",
              "      background-color: #3B4455;\n",
              "      fill: #D2E3FC;\n",
              "    }\n",
              "\n",
              "    [theme=dark] .colab-df-convert:hover {\n",
              "      background-color: #434B5C;\n",
              "      box-shadow: 0px 1px 3px 1px rgba(0, 0, 0, 0.15);\n",
              "      filter: drop-shadow(0px 1px 2px rgba(0, 0, 0, 0.3));\n",
              "      fill: #FFFFFF;\n",
              "    }\n",
              "  </style>\n",
              "\n",
              "      <script>\n",
              "        const buttonEl =\n",
              "          document.querySelector('#df-b5ee39a2-7a6e-49e7-bef7-ab6c4edb63b9 button.colab-df-convert');\n",
              "        buttonEl.style.display =\n",
              "          google.colab.kernel.accessAllowed ? 'block' : 'none';\n",
              "\n",
              "        async function convertToInteractive(key) {\n",
              "          const element = document.querySelector('#df-b5ee39a2-7a6e-49e7-bef7-ab6c4edb63b9');\n",
              "          const dataTable =\n",
              "            await google.colab.kernel.invokeFunction('convertToInteractive',\n",
              "                                                     [key], {});\n",
              "          if (!dataTable) return;\n",
              "\n",
              "          const docLinkHtml = 'Like what you see? Visit the ' +\n",
              "            '<a target=\"_blank\" href=https://colab.research.google.com/notebooks/data_table.ipynb>data table notebook</a>'\n",
              "            + ' to learn more about interactive tables.';\n",
              "          element.innerHTML = '';\n",
              "          dataTable['output_type'] = 'display_data';\n",
              "          await google.colab.output.renderOutput(dataTable, element);\n",
              "          const docLink = document.createElement('div');\n",
              "          docLink.innerHTML = docLinkHtml;\n",
              "          element.appendChild(docLink);\n",
              "        }\n",
              "      </script>\n",
              "    </div>\n",
              "  </div>\n",
              "  "
            ],
            "text/plain": [
              "         EDA_Raw  EDA_Clean  EDA_Tonic  EDA_Phasic  SCR_Onsets  SCR_Peaks  \\\n",
              "0.0000  0.000000   0.000000   0.000000    0.000000         0.0        0.0   \n",
              "0.0005  0.001526   0.001526   0.000061    0.000014         0.0        0.0   \n",
              "0.0010  0.001526   0.001526   0.000122    0.000028         0.0        0.0   \n",
              "0.0015  0.000000   0.000000   0.000183    0.000042         0.0        0.0   \n",
              "0.0020  0.003052   0.003052   0.000245    0.000056         0.0        0.0   \n",
              "...          ...        ...        ...         ...         ...        ...   \n",
              "4.9980  0.234985   0.234985   0.258988    0.194699         0.0        0.0   \n",
              "4.9985  0.238037   0.238037   0.258973    0.194552         0.0        0.0   \n",
              "4.9990  0.236511   0.236511   0.258958    0.194405         0.0        0.0   \n",
              "4.9995  0.238037   0.238037   0.258944    0.194258         0.0        0.0   \n",
              "5.0000  0.234985   0.234985   0.258929    0.194111         0.0        0.0   \n",
              "\n",
              "        SCR_Height  SCR_Amplitude  SCR_RiseTime  SCR_Recovery  \\\n",
              "0.0000         0.0            0.0           0.0           0.0   \n",
              "0.0005         0.0            0.0           0.0           0.0   \n",
              "0.0010         0.0            0.0           0.0           0.0   \n",
              "0.0015         0.0            0.0           0.0           0.0   \n",
              "0.0020         0.0            0.0           0.0           0.0   \n",
              "...            ...            ...           ...           ...   \n",
              "4.9980         0.0            0.0           0.0           0.0   \n",
              "4.9985         0.0            0.0           0.0           0.0   \n",
              "4.9990         0.0            0.0           0.0           0.0   \n",
              "4.9995         0.0            0.0           0.0           0.0   \n",
              "5.0000         0.0            0.0           0.0           0.0   \n",
              "\n",
              "        SCR_RecoveryTime   Index  Label  Condition  \n",
              "0.0000               0.0     0.0      2  high_stim  \n",
              "0.0005               0.0     1.0      2  high_stim  \n",
              "0.0010               0.0     2.0      2  high_stim  \n",
              "0.0015               0.0     3.0      2  high_stim  \n",
              "0.0020               0.0     4.0      2  high_stim  \n",
              "...                  ...     ...    ...        ...  \n",
              "4.9980               0.0  9995.0      2  high_stim  \n",
              "4.9985               0.0  9996.0      2  high_stim  \n",
              "4.9990               0.0  9997.0      2  high_stim  \n",
              "4.9995               0.0  9998.0      2  high_stim  \n",
              "5.0000               0.0  9999.0      2  high_stim  \n",
              "\n",
              "[10000 rows x 14 columns]"
            ]
          },
          "execution_count": 168,
          "metadata": {},
          "output_type": "execute_result"
        }
      ],
      "source": [
        "scr_epochs = nk.epochs_create(scr_processed,\n",
        "                              event_stimuli,\n",
        "                              sampling_rate=samplingrate,\n",
        "                              epochs_start=0,\n",
        "                              epochs_end=5,\n",
        "                              baseline_correction=True) \n",
        "scr_epochs[2] # produces a dictionary per trial (in this example, 12 keys, and 10000 rows, i.e. 5 seconds with 14 columns related to SCR data)"
      ]
    },
    {
      "cell_type": "markdown",
      "metadata": {
        "id": "ghT4SKedHP4T"
      },
      "source": [
        "### 7.6 eda_eventrelated\n",
        "\n",
        "* event-related analysis\n",
        "* of interest especially when analyzing EDA responses to specific stimuli\n",
        "* returns:\n",
        "   * EDA_SCR: Skin Conductance Response yes (1) or no (0) -> if yes, corresponding components are listed\n",
        "   * EDA_Peak_Amplitude: maximum amplitude of phasic component of signal\n",
        "   * SCR_Peak_Amplitude: peak amplitude of the first SCR in each epoch (parameter of interest if related to specific stimulus)\n",
        "   * SCR_Peak_Amplitude_Time: timpepoint of each first SCR peak amplitude (peak should occur within 2-7 s after stimulus onset)\n",
        "   * SCR_RiseTime: risetime of each first SCR (time it takes for SCR to reach peak amplitude from onset)\n",
        "   * SCR_RecoveryTime: half-recovery time of each first SCR (time it takes for SCR to decrease to half amplitude)"
      ]
    },
    {
      "cell_type": "code",
      "execution_count": null,
      "metadata": {
        "colab": {
          "base_uri": "https://localhost:8080/",
          "height": 426
        },
        "id": "gR2fAhc-GjQV",
        "outputId": "d5dc9640-e881-49c8-8e7c-164098ce7527"
      },
      "outputs": [
        {
          "data": {
            "text/html": [
              "\n",
              "  <div id=\"df-3db1788f-a06a-4b99-9939-c8e555c3ed10\">\n",
              "    <div class=\"colab-df-container\">\n",
              "      <div>\n",
              "<style scoped>\n",
              "    .dataframe tbody tr th:only-of-type {\n",
              "        vertical-align: middle;\n",
              "    }\n",
              "\n",
              "    .dataframe tbody tr th {\n",
              "        vertical-align: top;\n",
              "    }\n",
              "\n",
              "    .dataframe thead th {\n",
              "        text-align: right;\n",
              "    }\n",
              "</style>\n",
              "<table border=\"1\" class=\"dataframe\">\n",
              "  <thead>\n",
              "    <tr style=\"text-align: right;\">\n",
              "      <th></th>\n",
              "      <th>Label</th>\n",
              "      <th>Condition</th>\n",
              "      <th>Event_Onset</th>\n",
              "      <th>EDA_Peak_Amplitude</th>\n",
              "      <th>EDA_SCR</th>\n",
              "      <th>SCR_Peak_Amplitude</th>\n",
              "      <th>SCR_Peak_Amplitude_Time</th>\n",
              "      <th>SCR_RiseTime</th>\n",
              "      <th>SCR_RecoveryTime</th>\n",
              "    </tr>\n",
              "  </thead>\n",
              "  <tbody>\n",
              "    <tr>\n",
              "      <th>0</th>\n",
              "      <td>0</td>\n",
              "      <td>med_stim</td>\n",
              "      <td>0.0</td>\n",
              "      <td>1.438436</td>\n",
              "      <td>0</td>\n",
              "      <td>NaN</td>\n",
              "      <td>NaN</td>\n",
              "      <td>NaN</td>\n",
              "      <td>NaN</td>\n",
              "    </tr>\n",
              "    <tr>\n",
              "      <th>1</th>\n",
              "      <td>1</td>\n",
              "      <td>high_stim</td>\n",
              "      <td>0.0</td>\n",
              "      <td>0.314773</td>\n",
              "      <td>0</td>\n",
              "      <td>NaN</td>\n",
              "      <td>NaN</td>\n",
              "      <td>NaN</td>\n",
              "      <td>NaN</td>\n",
              "    </tr>\n",
              "    <tr>\n",
              "      <th>2</th>\n",
              "      <td>2</td>\n",
              "      <td>high_stim</td>\n",
              "      <td>0.0</td>\n",
              "      <td>0.286243</td>\n",
              "      <td>1</td>\n",
              "      <td>0.519559</td>\n",
              "      <td>4.353435</td>\n",
              "      <td>2.3455</td>\n",
              "      <td>3172.0</td>\n",
              "    </tr>\n",
              "    <tr>\n",
              "      <th>3</th>\n",
              "      <td>3</td>\n",
              "      <td>low_stim</td>\n",
              "      <td>0.0</td>\n",
              "      <td>0.220849</td>\n",
              "      <td>0</td>\n",
              "      <td>NaN</td>\n",
              "      <td>NaN</td>\n",
              "      <td>NaN</td>\n",
              "      <td>NaN</td>\n",
              "    </tr>\n",
              "    <tr>\n",
              "      <th>4</th>\n",
              "      <td>4</td>\n",
              "      <td>med_stim</td>\n",
              "      <td>0.0</td>\n",
              "      <td>1.031767</td>\n",
              "      <td>1</td>\n",
              "      <td>1.046368</td>\n",
              "      <td>3.224822</td>\n",
              "      <td>3.5260</td>\n",
              "      <td>7082.0</td>\n",
              "    </tr>\n",
              "    <tr>\n",
              "      <th>5</th>\n",
              "      <td>5</td>\n",
              "      <td>low_stim</td>\n",
              "      <td>0.0</td>\n",
              "      <td>0.566263</td>\n",
              "      <td>0</td>\n",
              "      <td>NaN</td>\n",
              "      <td>NaN</td>\n",
              "      <td>NaN</td>\n",
              "      <td>NaN</td>\n",
              "    </tr>\n",
              "    <tr>\n",
              "      <th>6</th>\n",
              "      <td>6</td>\n",
              "      <td>med_stim</td>\n",
              "      <td>0.0</td>\n",
              "      <td>0.437365</td>\n",
              "      <td>0</td>\n",
              "      <td>NaN</td>\n",
              "      <td>NaN</td>\n",
              "      <td>NaN</td>\n",
              "      <td>NaN</td>\n",
              "    </tr>\n",
              "    <tr>\n",
              "      <th>7</th>\n",
              "      <td>7</td>\n",
              "      <td>med_stim</td>\n",
              "      <td>0.0</td>\n",
              "      <td>0.379931</td>\n",
              "      <td>1</td>\n",
              "      <td>0.383933</td>\n",
              "      <td>0.423542</td>\n",
              "      <td>2.3590</td>\n",
              "      <td>3594.0</td>\n",
              "    </tr>\n",
              "    <tr>\n",
              "      <th>8</th>\n",
              "      <td>8</td>\n",
              "      <td>high_stim</td>\n",
              "      <td>0.0</td>\n",
              "      <td>0.528146</td>\n",
              "      <td>0</td>\n",
              "      <td>NaN</td>\n",
              "      <td>NaN</td>\n",
              "      <td>NaN</td>\n",
              "      <td>NaN</td>\n",
              "    </tr>\n",
              "    <tr>\n",
              "      <th>9</th>\n",
              "      <td>9</td>\n",
              "      <td>low_stim</td>\n",
              "      <td>0.0</td>\n",
              "      <td>0.307403</td>\n",
              "      <td>0</td>\n",
              "      <td>NaN</td>\n",
              "      <td>NaN</td>\n",
              "      <td>NaN</td>\n",
              "      <td>NaN</td>\n",
              "    </tr>\n",
              "    <tr>\n",
              "      <th>10</th>\n",
              "      <td>10</td>\n",
              "      <td>low_stim</td>\n",
              "      <td>0.0</td>\n",
              "      <td>0.614669</td>\n",
              "      <td>0</td>\n",
              "      <td>NaN</td>\n",
              "      <td>NaN</td>\n",
              "      <td>NaN</td>\n",
              "      <td>NaN</td>\n",
              "    </tr>\n",
              "    <tr>\n",
              "      <th>11</th>\n",
              "      <td>11</td>\n",
              "      <td>high_stim</td>\n",
              "      <td>0.0</td>\n",
              "      <td>0.000000</td>\n",
              "      <td>0</td>\n",
              "      <td>NaN</td>\n",
              "      <td>NaN</td>\n",
              "      <td>NaN</td>\n",
              "      <td>NaN</td>\n",
              "    </tr>\n",
              "  </tbody>\n",
              "</table>\n",
              "</div>\n",
              "      <button class=\"colab-df-convert\" onclick=\"convertToInteractive('df-3db1788f-a06a-4b99-9939-c8e555c3ed10')\"\n",
              "              title=\"Convert this dataframe to an interactive table.\"\n",
              "              style=\"display:none;\">\n",
              "        \n",
              "  <svg xmlns=\"http://www.w3.org/2000/svg\" height=\"24px\"viewBox=\"0 0 24 24\"\n",
              "       width=\"24px\">\n",
              "    <path d=\"M0 0h24v24H0V0z\" fill=\"none\"/>\n",
              "    <path d=\"M18.56 5.44l.94 2.06.94-2.06 2.06-.94-2.06-.94-.94-2.06-.94 2.06-2.06.94zm-11 1L8.5 8.5l.94-2.06 2.06-.94-2.06-.94L8.5 2.5l-.94 2.06-2.06.94zm10 10l.94 2.06.94-2.06 2.06-.94-2.06-.94-.94-2.06-.94 2.06-2.06.94z\"/><path d=\"M17.41 7.96l-1.37-1.37c-.4-.4-.92-.59-1.43-.59-.52 0-1.04.2-1.43.59L10.3 9.45l-7.72 7.72c-.78.78-.78 2.05 0 2.83L4 21.41c.39.39.9.59 1.41.59.51 0 1.02-.2 1.41-.59l7.78-7.78 2.81-2.81c.8-.78.8-2.07 0-2.86zM5.41 20L4 18.59l7.72-7.72 1.47 1.35L5.41 20z\"/>\n",
              "  </svg>\n",
              "      </button>\n",
              "      \n",
              "  <style>\n",
              "    .colab-df-container {\n",
              "      display:flex;\n",
              "      flex-wrap:wrap;\n",
              "      gap: 12px;\n",
              "    }\n",
              "\n",
              "    .colab-df-convert {\n",
              "      background-color: #E8F0FE;\n",
              "      border: none;\n",
              "      border-radius: 50%;\n",
              "      cursor: pointer;\n",
              "      display: none;\n",
              "      fill: #1967D2;\n",
              "      height: 32px;\n",
              "      padding: 0 0 0 0;\n",
              "      width: 32px;\n",
              "    }\n",
              "\n",
              "    .colab-df-convert:hover {\n",
              "      background-color: #E2EBFA;\n",
              "      box-shadow: 0px 1px 2px rgba(60, 64, 67, 0.3), 0px 1px 3px 1px rgba(60, 64, 67, 0.15);\n",
              "      fill: #174EA6;\n",
              "    }\n",
              "\n",
              "    [theme=dark] .colab-df-convert {\n",
              "      background-color: #3B4455;\n",
              "      fill: #D2E3FC;\n",
              "    }\n",
              "\n",
              "    [theme=dark] .colab-df-convert:hover {\n",
              "      background-color: #434B5C;\n",
              "      box-shadow: 0px 1px 3px 1px rgba(0, 0, 0, 0.15);\n",
              "      filter: drop-shadow(0px 1px 2px rgba(0, 0, 0, 0.3));\n",
              "      fill: #FFFFFF;\n",
              "    }\n",
              "  </style>\n",
              "\n",
              "      <script>\n",
              "        const buttonEl =\n",
              "          document.querySelector('#df-3db1788f-a06a-4b99-9939-c8e555c3ed10 button.colab-df-convert');\n",
              "        buttonEl.style.display =\n",
              "          google.colab.kernel.accessAllowed ? 'block' : 'none';\n",
              "\n",
              "        async function convertToInteractive(key) {\n",
              "          const element = document.querySelector('#df-3db1788f-a06a-4b99-9939-c8e555c3ed10');\n",
              "          const dataTable =\n",
              "            await google.colab.kernel.invokeFunction('convertToInteractive',\n",
              "                                                     [key], {});\n",
              "          if (!dataTable) return;\n",
              "\n",
              "          const docLinkHtml = 'Like what you see? Visit the ' +\n",
              "            '<a target=\"_blank\" href=https://colab.research.google.com/notebooks/data_table.ipynb>data table notebook</a>'\n",
              "            + ' to learn more about interactive tables.';\n",
              "          element.innerHTML = '';\n",
              "          dataTable['output_type'] = 'display_data';\n",
              "          await google.colab.output.renderOutput(dataTable, element);\n",
              "          const docLink = document.createElement('div');\n",
              "          docLink.innerHTML = docLinkHtml;\n",
              "          element.appendChild(docLink);\n",
              "        }\n",
              "      </script>\n",
              "    </div>\n",
              "  </div>\n",
              "  "
            ],
            "text/plain": [
              "    Label  Condition  Event_Onset  EDA_Peak_Amplitude  EDA_SCR  \\\n",
              "0       0   med_stim          0.0            1.438436        0   \n",
              "1       1  high_stim          0.0            0.314773        0   \n",
              "2       2  high_stim          0.0            0.286243        1   \n",
              "3       3   low_stim          0.0            0.220849        0   \n",
              "4       4   med_stim          0.0            1.031767        1   \n",
              "5       5   low_stim          0.0            0.566263        0   \n",
              "6       6   med_stim          0.0            0.437365        0   \n",
              "7       7   med_stim          0.0            0.379931        1   \n",
              "8       8  high_stim          0.0            0.528146        0   \n",
              "9       9   low_stim          0.0            0.307403        0   \n",
              "10     10   low_stim          0.0            0.614669        0   \n",
              "11     11  high_stim          0.0            0.000000        0   \n",
              "\n",
              "    SCR_Peak_Amplitude  SCR_Peak_Amplitude_Time  SCR_RiseTime  \\\n",
              "0                  NaN                      NaN           NaN   \n",
              "1                  NaN                      NaN           NaN   \n",
              "2             0.519559                 4.353435        2.3455   \n",
              "3                  NaN                      NaN           NaN   \n",
              "4             1.046368                 3.224822        3.5260   \n",
              "5                  NaN                      NaN           NaN   \n",
              "6                  NaN                      NaN           NaN   \n",
              "7             0.383933                 0.423542        2.3590   \n",
              "8                  NaN                      NaN           NaN   \n",
              "9                  NaN                      NaN           NaN   \n",
              "10                 NaN                      NaN           NaN   \n",
              "11                 NaN                      NaN           NaN   \n",
              "\n",
              "    SCR_RecoveryTime  \n",
              "0                NaN  \n",
              "1                NaN  \n",
              "2             3172.0  \n",
              "3                NaN  \n",
              "4             7082.0  \n",
              "5                NaN  \n",
              "6                NaN  \n",
              "7             3594.0  \n",
              "8                NaN  \n",
              "9                NaN  \n",
              "10               NaN  \n",
              "11               NaN  "
            ]
          },
          "execution_count": 169,
          "metadata": {},
          "output_type": "execute_result"
        }
      ],
      "source": [
        "scr_phasic = nk.eda_eventrelated(scr_epochs)\n",
        "scr_phasic # produces a dataframe with 12 trials and average information: EDA_Peak_Amplitude\tEDA_SCR\tSCR_Peak_Amplitude\tSCR_Peak_Amplitude_Time\tSCR_RiseTime\tSCR_RecoveryTime"
      ]
    },
    {
      "cell_type": "markdown",
      "metadata": {
        "id": "MhFbFAWAGBVA"
      },
      "source": [
        "> We're done with the SCR Phasic signal extraction! 🥳\n",
        "All we need to do is save this!"
      ]
    },
    {
      "cell_type": "markdown",
      "metadata": {
        "id": "beMQpQLbDeD7"
      },
      "source": [
        "## Skin Conductance Level (SCL) Tonic\n",
        "\n",
        "#### eda tonic\n",
        "* interval-related analysis\n",
        "* of interest for longer time periods, also resting-state (input could therefore also be a whole condition instead of snipped-out epochs)\n",
        "* returns:\n",
        "   * SCR_Peaks_N: number of occurrences of Skin Conductance Response\n",
        "   * SCR_Peaks_Amplitude_Mean: mean amplitude of SCR peak occurrences\n",
        "\n",
        "#### eda level\n",
        "* analysis of skin conductance level"
      ]
    },
    {
      "cell_type": "markdown",
      "metadata": {
        "id": "biE2rMdxDnxN"
      },
      "source": [
        "* For the tonic signals, note that we need baseline corrected signals. Other than that, we'll use very similar steps to SCR phasic: \n",
        "* signal ➔ filters ➔ detrend ➔ decompose.\n",
        "* The difference is that we'll use the `tonic` signals from the decomposed stage, and feed them into a neurokit function `epochs_create`\n"
      ]
    },
    {
      "cell_type": "code",
      "execution_count": null,
      "metadata": {
        "id": "ExnIfD1pDlGI"
      },
      "outputs": [],
      "source": [
        "tonic_epoch_start = -1\n",
        "tonic_epoch_end = 8\n",
        "tonic_length = np.abs(tonic_epoch_start-tonic_epoch_end) * samplingrate\n",
        "scl_signal = nk.signal_sanitize(run_df['EDA_corrected_02fixation'])\n",
        "scl_filters = nk.signal_filter(scl_signal,\n",
        "                                sampling_rate=samplingrate,\n",
        "                                highcut=1,\n",
        "                                method=\"butterworth\",\n",
        "                                order=2)  # ISABEL: Detrend\n",
        "scl_detrend = nk.signal_detrend(scl_filters)\n",
        "scl_decomposed = nk.eda_phasic(nk.standardize(scl_detrend),\n",
        "                                sampling_rate=samplingrate)\n",
        "scl_signals = pd.DataFrame({\n",
        "    \"EDA_Raw\": scl_signal,\n",
        "    \"EDA_Clean\": scl_filters\n",
        "})\n",
        "scl_processed = pd.concat([scl_signals, scl_decomposed['EDA_Tonic']],\n",
        "                          axis=1)\n",
        "\n",
        "scl_epoch = nk.epochs_create(scl_processed['EDA_Tonic'],\n",
        "                              event_stimuli,\n",
        "                              sampling_rate=samplingrate,\n",
        "                              epochs_start=tonic_epoch_start,\n",
        "                              epochs_end=tonic_epoch_end,\n",
        "                              baseline_correction=True)"
      ]
    },
    {
      "cell_type": "code",
      "execution_count": null,
      "metadata": {
        "colab": {
          "base_uri": "https://localhost:8080/",
          "height": 361
        },
        "id": "lYWERbEMEeJC",
        "outputId": "fbc36e2a-f772-4586-defd-3c2450a9ea2f"
      },
      "outputs": [
        {
          "data": {
            "text/plain": [
              "Text(0.5, 1.0, 'plotting one trajectory of a SCL response')"
            ]
          },
          "execution_count": 154,
          "metadata": {},
          "output_type": "execute_result"
        },
        {
          "data": {
            "image/png": "[encoded data removed]",
            "text/plain": [
              "<Figure size 1080x360 with 1 Axes>"
            ]
          },
          "metadata": {
            "needs_background": "light"
          },
          "output_type": "display_data"
        }
      ],
      "source": [
        "scl_epoch[2][\"Signal\"].plot()\n",
        "plt.title(\"plotting one trajectory of a SCL response\")"
      ]
    },
    {
      "cell_type": "code",
      "execution_count": null,
      "metadata": {
        "colab": {
          "base_uri": "https://localhost:8080/",
          "height": 362
        },
        "id": "Od6KTBnpEs5j",
        "outputId": "824d89b1-8d63-41fe-b256-8b521bab5ae6"
      },
      "outputs": [
        {
          "data": {
            "image/png": "[encoded data removed]",
            "text/plain": [
              "<Figure size 1080x360 with 1 Axes>"
            ]
          },
          "metadata": {
            "needs_background": "light"
          },
          "output_type": "display_data"
        }
      ],
      "source": [
        "plot_level = nk.epochs_plot(scl_epoch)"
      ]
    },
    {
      "cell_type": "code",
      "execution_count": null,
      "metadata": {
        "colab": {
          "base_uri": "https://localhost:8080/",
          "height": 424
        },
        "id": "pCjKC5SuGPDD",
        "outputId": "39c7fba5-c713-4a2b-b0bc-0969b9e1e0a7"
      },
      "outputs": [
        {
          "data": {
            "text/html": [
              "\n",
              "  <div id=\"df-8a872b76-3a49-49a7-8549-486ba44284fd\">\n",
              "    <div class=\"colab-df-container\">\n",
              "      <div>\n",
              "<style scoped>\n",
              "    .dataframe tbody tr th:only-of-type {\n",
              "        vertical-align: middle;\n",
              "    }\n",
              "\n",
              "    .dataframe tbody tr th {\n",
              "        vertical-align: top;\n",
              "    }\n",
              "\n",
              "    .dataframe thead th {\n",
              "        text-align: right;\n",
              "    }\n",
              "</style>\n",
              "<table border=\"1\" class=\"dataframe\">\n",
              "  <thead>\n",
              "    <tr style=\"text-align: right;\">\n",
              "      <th></th>\n",
              "      <th>Signal</th>\n",
              "      <th>Index</th>\n",
              "      <th>Label</th>\n",
              "      <th>Condition</th>\n",
              "    </tr>\n",
              "  </thead>\n",
              "  <tbody>\n",
              "    <tr>\n",
              "      <th>-1.0000</th>\n",
              "      <td>-0.068151</td>\n",
              "      <td>-999.5</td>\n",
              "      <td>2</td>\n",
              "      <td>high_stim</td>\n",
              "    </tr>\n",
              "    <tr>\n",
              "      <th>-0.9995</th>\n",
              "      <td>-0.068079</td>\n",
              "      <td>-998.5</td>\n",
              "      <td>2</td>\n",
              "      <td>high_stim</td>\n",
              "    </tr>\n",
              "    <tr>\n",
              "      <th>-0.9990</th>\n",
              "      <td>-0.068008</td>\n",
              "      <td>-997.5</td>\n",
              "      <td>2</td>\n",
              "      <td>high_stim</td>\n",
              "    </tr>\n",
              "    <tr>\n",
              "      <th>-0.9985</th>\n",
              "      <td>-0.067936</td>\n",
              "      <td>-996.5</td>\n",
              "      <td>2</td>\n",
              "      <td>high_stim</td>\n",
              "    </tr>\n",
              "    <tr>\n",
              "      <th>-0.9980</th>\n",
              "      <td>-0.067865</td>\n",
              "      <td>-995.5</td>\n",
              "      <td>2</td>\n",
              "      <td>high_stim</td>\n",
              "    </tr>\n",
              "    <tr>\n",
              "      <th>...</th>\n",
              "      <td>...</td>\n",
              "      <td>...</td>\n",
              "      <td>...</td>\n",
              "      <td>...</td>\n",
              "    </tr>\n",
              "    <tr>\n",
              "      <th>7.9980</th>\n",
              "      <td>0.102587</td>\n",
              "      <td>16995.5</td>\n",
              "      <td>2</td>\n",
              "      <td>high_stim</td>\n",
              "    </tr>\n",
              "    <tr>\n",
              "      <th>7.9985</th>\n",
              "      <td>0.102531</td>\n",
              "      <td>16996.5</td>\n",
              "      <td>2</td>\n",
              "      <td>high_stim</td>\n",
              "    </tr>\n",
              "    <tr>\n",
              "      <th>7.9990</th>\n",
              "      <td>0.102475</td>\n",
              "      <td>16997.5</td>\n",
              "      <td>2</td>\n",
              "      <td>high_stim</td>\n",
              "    </tr>\n",
              "    <tr>\n",
              "      <th>7.9995</th>\n",
              "      <td>0.102419</td>\n",
              "      <td>16998.5</td>\n",
              "      <td>2</td>\n",
              "      <td>high_stim</td>\n",
              "    </tr>\n",
              "    <tr>\n",
              "      <th>8.0000</th>\n",
              "      <td>0.102364</td>\n",
              "      <td>16999.5</td>\n",
              "      <td>2</td>\n",
              "      <td>high_stim</td>\n",
              "    </tr>\n",
              "  </tbody>\n",
              "</table>\n",
              "<p>18000 rows × 4 columns</p>\n",
              "</div>\n",
              "      <button class=\"colab-df-convert\" onclick=\"convertToInteractive('df-8a872b76-3a49-49a7-8549-486ba44284fd')\"\n",
              "              title=\"Convert this dataframe to an interactive table.\"\n",
              "              style=\"display:none;\">\n",
              "        \n",
              "  <svg xmlns=\"http://www.w3.org/2000/svg\" height=\"24px\"viewBox=\"0 0 24 24\"\n",
              "       width=\"24px\">\n",
              "    <path d=\"M0 0h24v24H0V0z\" fill=\"none\"/>\n",
              "    <path d=\"M18.56 5.44l.94 2.06.94-2.06 2.06-.94-2.06-.94-.94-2.06-.94 2.06-2.06.94zm-11 1L8.5 8.5l.94-2.06 2.06-.94-2.06-.94L8.5 2.5l-.94 2.06-2.06.94zm10 10l.94 2.06.94-2.06 2.06-.94-2.06-.94-.94-2.06-.94 2.06-2.06.94z\"/><path d=\"M17.41 7.96l-1.37-1.37c-.4-.4-.92-.59-1.43-.59-.52 0-1.04.2-1.43.59L10.3 9.45l-7.72 7.72c-.78.78-.78 2.05 0 2.83L4 21.41c.39.39.9.59 1.41.59.51 0 1.02-.2 1.41-.59l7.78-7.78 2.81-2.81c.8-.78.8-2.07 0-2.86zM5.41 20L4 18.59l7.72-7.72 1.47 1.35L5.41 20z\"/>\n",
              "  </svg>\n",
              "      </button>\n",
              "      \n",
              "  <style>\n",
              "    .colab-df-container {\n",
              "      display:flex;\n",
              "      flex-wrap:wrap;\n",
              "      gap: 12px;\n",
              "    }\n",
              "\n",
              "    .colab-df-convert {\n",
              "      background-color: #E8F0FE;\n",
              "      border: none;\n",
              "      border-radius: 50%;\n",
              "      cursor: pointer;\n",
              "      display: none;\n",
              "      fill: #1967D2;\n",
              "      height: 32px;\n",
              "      padding: 0 0 0 0;\n",
              "      width: 32px;\n",
              "    }\n",
              "\n",
              "    .colab-df-convert:hover {\n",
              "      background-color: #E2EBFA;\n",
              "      box-shadow: 0px 1px 2px rgba(60, 64, 67, 0.3), 0px 1px 3px 1px rgba(60, 64, 67, 0.15);\n",
              "      fill: #174EA6;\n",
              "    }\n",
              "\n",
              "    [theme=dark] .colab-df-convert {\n",
              "      background-color: #3B4455;\n",
              "      fill: #D2E3FC;\n",
              "    }\n",
              "\n",
              "    [theme=dark] .colab-df-convert:hover {\n",
              "      background-color: #434B5C;\n",
              "      box-shadow: 0px 1px 3px 1px rgba(0, 0, 0, 0.15);\n",
              "      filter: drop-shadow(0px 1px 2px rgba(0, 0, 0, 0.3));\n",
              "      fill: #FFFFFF;\n",
              "    }\n",
              "  </style>\n",
              "\n",
              "      <script>\n",
              "        const buttonEl =\n",
              "          document.querySelector('#df-8a872b76-3a49-49a7-8549-486ba44284fd button.colab-df-convert');\n",
              "        buttonEl.style.display =\n",
              "          google.colab.kernel.accessAllowed ? 'block' : 'none';\n",
              "\n",
              "        async function convertToInteractive(key) {\n",
              "          const element = document.querySelector('#df-8a872b76-3a49-49a7-8549-486ba44284fd');\n",
              "          const dataTable =\n",
              "            await google.colab.kernel.invokeFunction('convertToInteractive',\n",
              "                                                     [key], {});\n",
              "          if (!dataTable) return;\n",
              "\n",
              "          const docLinkHtml = 'Like what you see? Visit the ' +\n",
              "            '<a target=\"_blank\" href=https://colab.research.google.com/notebooks/data_table.ipynb>data table notebook</a>'\n",
              "            + ' to learn more about interactive tables.';\n",
              "          element.innerHTML = '';\n",
              "          dataTable['output_type'] = 'display_data';\n",
              "          await google.colab.output.renderOutput(dataTable, element);\n",
              "          const docLink = document.createElement('div');\n",
              "          docLink.innerHTML = docLinkHtml;\n",
              "          element.appendChild(docLink);\n",
              "        }\n",
              "      </script>\n",
              "    </div>\n",
              "  </div>\n",
              "  "
            ],
            "text/plain": [
              "           Signal    Index  Label  Condition\n",
              "-1.0000 -0.068151   -999.5      2  high_stim\n",
              "-0.9995 -0.068079   -998.5      2  high_stim\n",
              "-0.9990 -0.068008   -997.5      2  high_stim\n",
              "-0.9985 -0.067936   -996.5      2  high_stim\n",
              "-0.9980 -0.067865   -995.5      2  high_stim\n",
              "...           ...      ...    ...        ...\n",
              " 7.9980  0.102587  16995.5      2  high_stim\n",
              " 7.9985  0.102531  16996.5      2  high_stim\n",
              " 7.9990  0.102475  16997.5      2  high_stim\n",
              " 7.9995  0.102419  16998.5      2  high_stim\n",
              " 8.0000  0.102364  16999.5      2  high_stim\n",
              "\n",
              "[18000 rows x 4 columns]"
            ]
          },
          "execution_count": 160,
          "metadata": {},
          "output_type": "execute_result"
        }
      ],
      "source": [
        "scl_epoch[2]"
      ]
    },
    {
      "cell_type": "code",
      "execution_count": null,
      "metadata": {
        "colab": {
          "base_uri": "https://localhost:8080/",
          "height": 426
        },
        "id": "snNqPkCHHjUJ",
        "outputId": "7222e618-80c0-45aa-8af3-7074db5cb25e"
      },
      "outputs": [
        {
          "data": {
            "text/html": [
              "\n",
              "  <div id=\"df-629579a4-9f9b-45ea-a88f-c86be7dd11b6\">\n",
              "    <div class=\"colab-df-container\">\n",
              "      <div>\n",
              "<style scoped>\n",
              "    .dataframe tbody tr th:only-of-type {\n",
              "        vertical-align: middle;\n",
              "    }\n",
              "\n",
              "    .dataframe tbody tr th {\n",
              "        vertical-align: top;\n",
              "    }\n",
              "\n",
              "    .dataframe thead th {\n",
              "        text-align: right;\n",
              "    }\n",
              "</style>\n",
              "<table border=\"1\" class=\"dataframe\">\n",
              "  <thead>\n",
              "    <tr style=\"text-align: right;\">\n",
              "      <th></th>\n",
              "      <th>trial_order</th>\n",
              "      <th>iv_stim</th>\n",
              "      <th>mean_signal</th>\n",
              "    </tr>\n",
              "  </thead>\n",
              "  <tbody>\n",
              "    <tr>\n",
              "      <th>0</th>\n",
              "      <td>0</td>\n",
              "      <td>med_stim</td>\n",
              "      <td>0.354719</td>\n",
              "    </tr>\n",
              "    <tr>\n",
              "      <th>1</th>\n",
              "      <td>1</td>\n",
              "      <td>high_stim</td>\n",
              "      <td>0.377869</td>\n",
              "    </tr>\n",
              "    <tr>\n",
              "      <th>2</th>\n",
              "      <td>2</td>\n",
              "      <td>high_stim</td>\n",
              "      <td>0.221331</td>\n",
              "    </tr>\n",
              "    <tr>\n",
              "      <th>3</th>\n",
              "      <td>3</td>\n",
              "      <td>low_stim</td>\n",
              "      <td>0.557226</td>\n",
              "    </tr>\n",
              "    <tr>\n",
              "      <th>4</th>\n",
              "      <td>4</td>\n",
              "      <td>med_stim</td>\n",
              "      <td>0.24337</td>\n",
              "    </tr>\n",
              "    <tr>\n",
              "      <th>5</th>\n",
              "      <td>5</td>\n",
              "      <td>low_stim</td>\n",
              "      <td>0.188192</td>\n",
              "    </tr>\n",
              "    <tr>\n",
              "      <th>6</th>\n",
              "      <td>6</td>\n",
              "      <td>med_stim</td>\n",
              "      <td>0.394731</td>\n",
              "    </tr>\n",
              "    <tr>\n",
              "      <th>7</th>\n",
              "      <td>7</td>\n",
              "      <td>med_stim</td>\n",
              "      <td>0.31285</td>\n",
              "    </tr>\n",
              "    <tr>\n",
              "      <th>8</th>\n",
              "      <td>8</td>\n",
              "      <td>high_stim</td>\n",
              "      <td>0.543853</td>\n",
              "    </tr>\n",
              "    <tr>\n",
              "      <th>9</th>\n",
              "      <td>9</td>\n",
              "      <td>low_stim</td>\n",
              "      <td>0.36405</td>\n",
              "    </tr>\n",
              "    <tr>\n",
              "      <th>10</th>\n",
              "      <td>10</td>\n",
              "      <td>low_stim</td>\n",
              "      <td>0.36522</td>\n",
              "    </tr>\n",
              "    <tr>\n",
              "      <th>11</th>\n",
              "      <td>11</td>\n",
              "      <td>high_stim</td>\n",
              "      <td>0.395829</td>\n",
              "    </tr>\n",
              "  </tbody>\n",
              "</table>\n",
              "</div>\n",
              "      <button class=\"colab-df-convert\" onclick=\"convertToInteractive('df-629579a4-9f9b-45ea-a88f-c86be7dd11b6')\"\n",
              "              title=\"Convert this dataframe to an interactive table.\"\n",
              "              style=\"display:none;\">\n",
              "        \n",
              "  <svg xmlns=\"http://www.w3.org/2000/svg\" height=\"24px\"viewBox=\"0 0 24 24\"\n",
              "       width=\"24px\">\n",
              "    <path d=\"M0 0h24v24H0V0z\" fill=\"none\"/>\n",
              "    <path d=\"M18.56 5.44l.94 2.06.94-2.06 2.06-.94-2.06-.94-.94-2.06-.94 2.06-2.06.94zm-11 1L8.5 8.5l.94-2.06 2.06-.94-2.06-.94L8.5 2.5l-.94 2.06-2.06.94zm10 10l.94 2.06.94-2.06 2.06-.94-2.06-.94-.94-2.06-.94 2.06-2.06.94z\"/><path d=\"M17.41 7.96l-1.37-1.37c-.4-.4-.92-.59-1.43-.59-.52 0-1.04.2-1.43.59L10.3 9.45l-7.72 7.72c-.78.78-.78 2.05 0 2.83L4 21.41c.39.39.9.59 1.41.59.51 0 1.02-.2 1.41-.59l7.78-7.78 2.81-2.81c.8-.78.8-2.07 0-2.86zM5.41 20L4 18.59l7.72-7.72 1.47 1.35L5.41 20z\"/>\n",
              "  </svg>\n",
              "      </button>\n",
              "      \n",
              "  <style>\n",
              "    .colab-df-container {\n",
              "      display:flex;\n",
              "      flex-wrap:wrap;\n",
              "      gap: 12px;\n",
              "    }\n",
              "\n",
              "    .colab-df-convert {\n",
              "      background-color: #E8F0FE;\n",
              "      border: none;\n",
              "      border-radius: 50%;\n",
              "      cursor: pointer;\n",
              "      display: none;\n",
              "      fill: #1967D2;\n",
              "      height: 32px;\n",
              "      padding: 0 0 0 0;\n",
              "      width: 32px;\n",
              "    }\n",
              "\n",
              "    .colab-df-convert:hover {\n",
              "      background-color: #E2EBFA;\n",
              "      box-shadow: 0px 1px 2px rgba(60, 64, 67, 0.3), 0px 1px 3px 1px rgba(60, 64, 67, 0.15);\n",
              "      fill: #174EA6;\n",
              "    }\n",
              "\n",
              "    [theme=dark] .colab-df-convert {\n",
              "      background-color: #3B4455;\n",
              "      fill: #D2E3FC;\n",
              "    }\n",
              "\n",
              "    [theme=dark] .colab-df-convert:hover {\n",
              "      background-color: #434B5C;\n",
              "      box-shadow: 0px 1px 3px 1px rgba(0, 0, 0, 0.15);\n",
              "      filter: drop-shadow(0px 1px 2px rgba(0, 0, 0, 0.3));\n",
              "      fill: #FFFFFF;\n",
              "    }\n",
              "  </style>\n",
              "\n",
              "      <script>\n",
              "        const buttonEl =\n",
              "          document.querySelector('#df-629579a4-9f9b-45ea-a88f-c86be7dd11b6 button.colab-df-convert');\n",
              "        buttonEl.style.display =\n",
              "          google.colab.kernel.accessAllowed ? 'block' : 'none';\n",
              "\n",
              "        async function convertToInteractive(key) {\n",
              "          const element = document.querySelector('#df-629579a4-9f9b-45ea-a88f-c86be7dd11b6');\n",
              "          const dataTable =\n",
              "            await google.colab.kernel.invokeFunction('convertToInteractive',\n",
              "                                                     [key], {});\n",
              "          if (!dataTable) return;\n",
              "\n",
              "          const docLinkHtml = 'Like what you see? Visit the ' +\n",
              "            '<a target=\"_blank\" href=https://colab.research.google.com/notebooks/data_table.ipynb>data table notebook</a>'\n",
              "            + ' to learn more about interactive tables.';\n",
              "          element.innerHTML = '';\n",
              "          dataTable['output_type'] = 'display_data';\n",
              "          await google.colab.output.renderOutput(dataTable, element);\n",
              "          const docLink = document.createElement('div');\n",
              "          docLink.innerHTML = docLinkHtml;\n",
              "          element.appendChild(docLink);\n",
              "        }\n",
              "      </script>\n",
              "    </div>\n",
              "  </div>\n",
              "  "
            ],
            "text/plain": [
              "   trial_order    iv_stim mean_signal\n",
              "0            0   med_stim    0.354719\n",
              "1            1  high_stim    0.377869\n",
              "2            2  high_stim    0.221331\n",
              "3            3   low_stim    0.557226\n",
              "4            4   med_stim     0.24337\n",
              "5            5   low_stim    0.188192\n",
              "6            6   med_stim    0.394731\n",
              "7            7   med_stim     0.31285\n",
              "8            8  high_stim    0.543853\n",
              "9            9   low_stim     0.36405\n",
              "10          10   low_stim     0.36522\n",
              "11          11  high_stim    0.395829"
            ]
          },
          "execution_count": 170,
          "metadata": {},
          "output_type": "execute_result"
        }
      ],
      "source": [
        "# loop over dictionary\n",
        "# calculate mean signal \n",
        "# make sure to include the label and condition\n",
        "# eda_tonic_decomposed_df \n",
        "# etd_df\n",
        "\n",
        "eda_level = pd.DataFrame(index = list(range(len(scl_epoch))),\n",
        "                         columns=['trial_order', 'iv_stim', 'mean_signal'])\n",
        "for ind in range(len(scl_epoch)):\n",
        "    eda_level.iloc[ind, eda_level.columns.get_loc('mean_signal')] = scl_epoch[ind][\"Signal\"].mean()\n",
        "    eda_level.iloc[ind, eda_level.columns.get_loc('trial_order')] = scl_epoch[ind]['Label'].unique()[0]\n",
        "    eda_level.iloc[ind, eda_level.columns.get_loc('iv_stim')] = scl_epoch[ind][\"Condition\"].unique()[0]\n",
        "\n",
        "eda_level"
      ]
    },
    {
      "cell_type": "markdown",
      "metadata": {
        "id": "Wii50wY3HsHB"
      },
      "source": [
        "We're also done extracting SCR tonic signals 🥳 Save this to a file :) "
      ]
    }
  ],
  "metadata": {
    "colab": {
      "authorship_tag": "ABX9TyPskRF8ByDPOmTEEKeK7sZK",
      "collapsed_sections": [],
      "include_colab_link": true,
      "provenance": [],
      "toc_visible": true
    },
    "kernelspec": {
      "display_name": "Python 3.7.12 ('base')",
      "language": "python",
      "name": "python3"
    },
    "language_info": {
      "codemirror_mode": {
        "name": "ipython",
        "version": 3
      },
      "file_extension": ".py",
      "mimetype": "text/x-python",
      "name": "python",
      "nbconvert_exporter": "python",
      "pygments_lexer": "ipython3",
      "version": "3.7.12"
    },
    "vscode": {
      "interpreter": {
        "hash": "289de2d1509dffbfcb474e6fb6eeea37b5e4af0dae9725bde59f4e306451cdc6"
      }
    }
  },
  "nbformat": 4,
  "nbformat_minor": 0
}
