{
 "cells": [
  {
   "cell_type": "code",
   "execution_count": null,
   "metadata": {},
   "outputs": [
    {
     "ename": "",
     "evalue": "",
     "output_type": "error",
     "traceback": [
      "\u001b[1;31mRunning cells with 'Python 3.6.15 ('plot')' requires ipykernel package.\n",
      "Run the following command to install 'ipykernel' into the Python environment. \n",
      "Command: 'conda install -n plot ipykernel --update-deps --force-reinstall'"
     ]
    }
   ],
   "source": [
    "from bokeh.plotting import figure, show\n",
    "x = [1, 2, 3, 4, 5]\n",
    "y = [6, 7, 2, 4, 5]\n",
    "p = figure(title=\"example from Bokeh\", x_axis_label = \"example x\", y_axis_label = \"example y\")\n",
    "p.line(x, y, legend_label=\"Temp.\", line_width=2)\n",
    "show(p)"
   ]
  },
  {
   "cell_type": "code",
   "execution_count": null,
   "metadata": {},
   "outputs": [],
   "source": []
  }
 ],
 "metadata": {
  "interpreter": {
   "hash": "d7bd9198c7c7419e7fe5f28b4b17aa0d869a68f0e9a540b6ccaf91fd6b164b81"
  },
  "kernelspec": {
   "display_name": "Python 3.6.15 ('plot')",
   "language": "python",
   "name": "python3"
  },
  "language_info": {
   "name": "python",
   "version": "3.6.15"
  },
  "orig_nbformat": 4
 },
 "nbformat": 4,
 "nbformat_minor": 2
}
